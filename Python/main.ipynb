{
 "cells": [
  {
   "cell_type": "code",
   "execution_count": 1,
   "metadata": {},
   "outputs": [
    {
     "name": "stderr",
     "output_type": "stream",
     "text": [
      "/home/ucloud/.local/lib/python3.12/site-packages/tqdm/auto.py:21: TqdmWarning: IProgress not found. Please update jupyter and ipywidgets. See https://ipywidgets.readthedocs.io/en/stable/user_install.html\n",
      "  from .autonotebook import tqdm as notebook_tqdm\n"
     ]
    }
   ],
   "source": [
    "import pandas as pd\n",
    "import numpy as np\n",
    "import seaborn as sns\n",
    "import os, random, joblib, statistics\n",
    "import sklearn as sk\n",
    "import optuna\n",
    "import xgboost as xgb\n",
    "import plotly\n",
    "import json\n",
    "import math\n",
    "import matplotlib.pyplot as plt\n",
    "from optuna.visualization import plot_optimization_history, plot_param_importances\n",
    "from sklearn.svm import SVC\n",
    "from sklearn.metrics import classification_report, confusion_matrix\n",
    "from sklearn import svm, datasets\n",
    "from sklearn.ensemble import VotingClassifier\n",
    "from sklearn.model_selection import GridSearchCV, RandomizedSearchCV\n",
    "from sklearn.metrics import make_scorer, f1_score\n",
    "from sklearn.model_selection import GroupKFold\n",
    "from typing import List, Optional, Tuple\n",
    "import functions\n",
    "\n",
    "random.seed(1213870)"
   ]
  },
  {
   "cell_type": "markdown",
   "metadata": {},
   "source": [
    "### LOADING IN ALL DATASETS AND PREPARING THEM"
   ]
  },
  {
   "cell_type": "code",
   "execution_count": 4,
   "metadata": {},
   "outputs": [],
   "source": [
    "# data for model training \n",
    "path1 = ('../data/Preprop_data_w_folds')\n",
    "\n",
    "data_MatchingGame = pd.read_csv(os.path.join(path1,'MatchingGame_w_folds.csv'), delimiter=';')\n",
    "data_Questions_fam = pd.read_csv(os.path.join(path1, 'Questions_fam_w_folds.csv'), delimiter=';')\n",
    "data_Questions_unfam = pd.read_csv(os.path.join(path1, 'Questions_unfam_w_folds.csv'), delimiter=';')\n",
    "\n"
   ]
  },
  {
   "cell_type": "code",
   "execution_count": 5,
   "metadata": {},
   "outputs": [],
   "source": [
    "# data for model testing\n",
    "path2 = ('../data/test_sets')\n",
    "\n",
    "MG_MG_20 = pd.read_csv(os.path.join(path2,'MG/test_MatchingGame_20.csv'), delimiter=';')\n",
    "MG_Qfam_20 = pd.read_csv(os.path.join(path2,'MG/test_Questions_fam_20.csv'), delimiter=';')\n",
    "MG_Qfam_80 = pd.read_csv(os.path.join(path2,'MG/test_Questions_fam_80.csv'), delimiter=';')\n",
    "Qfam_MG_20 = pd.read_csv(os.path.join(path2,'Qfam/test_MatchingGame_20.csv'), delimiter=';')\n",
    "Qfam_MG_80 = pd.read_csv(os.path.join(path2,'Qfam/test_MatchingGame_80.csv'), delimiter=';')\n",
    "Qfam_Qfam_20 = pd.read_csv(os.path.join(path2,'Qfam/test_Questions_fam_20.csv'), delimiter=';')\n",
    "Qfam_Qunfam_20 = pd.read_csv(os.path.join(path2,'Qfam/test_Questions_unfam_20.csv'), delimiter=';')\n",
    "Qfam_Qunfam_80 = pd.read_csv(os.path.join(path2,'Qfam/test_Questions_unfam_80.csv'), delimiter=';')\n",
    "Qunfam_Qfam_20 = pd.read_csv(os.path.join(path2,'Qunfam/test_Questions_fam_20.csv'), delimiter=';')\n",
    "Qunfam_Qfam_80 = pd.read_csv(os.path.join(path2,'Qunfam/test_Questions_fam_80.csv'), delimiter=';')\n",
    "Qunfam_Qunfam_20 = pd.read_csv(os.path.join(path2,'Qunfam/test_Questions_unfam_20.csv'), delimiter=';')\n"
   ]
  },
  {
   "cell_type": "code",
   "execution_count": 6,
   "metadata": {},
   "outputs": [],
   "source": [
    "# loading the feature lists\n",
    "path3 = ('../data/feature_lists')\n",
    "\n",
    "MG_features = pd.read_csv(os.path.join(path3,'MatchingGame_featurelist.csv'), delimiter=';')\n",
    "Qfam_features = pd.read_csv(os.path.join(path3, 'Questions_fam_featurelist.csv'), delimiter=';')\n",
    "Qunfam_features = pd.read_csv(os.path.join(path3, 'Questions_unfam_featurelist.csv'), delimiter=';')"
   ]
  },
  {
   "cell_type": "code",
   "execution_count": 7,
   "metadata": {},
   "outputs": [
    {
     "data": {
      "text/html": [
       "<div>\n",
       "<style scoped>\n",
       "    .dataframe tbody tr th:only-of-type {\n",
       "        vertical-align: middle;\n",
       "    }\n",
       "\n",
       "    .dataframe tbody tr th {\n",
       "        vertical-align: top;\n",
       "    }\n",
       "\n",
       "    .dataframe thead th {\n",
       "        text-align: right;\n",
       "    }\n",
       "</style>\n",
       "<table border=\"1\" class=\"dataframe\">\n",
       "  <thead>\n",
       "    <tr style=\"text-align: right;\">\n",
       "      <th></th>\n",
       "      <th>median_F0final_sma</th>\n",
       "      <th>iqr_F0final_sma</th>\n",
       "      <th>median_voicingFinalUnclipped_sma</th>\n",
       "      <th>iqr_voicingFinalUnclipped_sma</th>\n",
       "      <th>median_jitterLocal_sma</th>\n",
       "      <th>iqr_jitterLocal_sma</th>\n",
       "      <th>median_jitterDDP_sma</th>\n",
       "      <th>iqr_jitterDDP_sma</th>\n",
       "      <th>median_shimmerLocal_sma</th>\n",
       "      <th>iqr_shimmerLocal_sma</th>\n",
       "      <th>...</th>\n",
       "      <th>iqr_mfcc_sma_de_11_</th>\n",
       "      <th>median_mfcc_sma_de_12_</th>\n",
       "      <th>iqr_mfcc_sma_de_12_</th>\n",
       "      <th>median_mfcc_sma_de_13_</th>\n",
       "      <th>iqr_mfcc_sma_de_13_</th>\n",
       "      <th>median_mfcc_sma_de_14_</th>\n",
       "      <th>iqr_mfcc_sma_de_14_</th>\n",
       "      <th>utterance_length</th>\n",
       "      <th>Diagnosis</th>\n",
       "      <th>ID</th>\n",
       "    </tr>\n",
       "  </thead>\n",
       "  <tbody>\n",
       "    <tr>\n",
       "      <th>0</th>\n",
       "      <td>0.303231</td>\n",
       "      <td>0.108704</td>\n",
       "      <td>0.502144</td>\n",
       "      <td>0.835377</td>\n",
       "      <td>0.026343</td>\n",
       "      <td>0.123811</td>\n",
       "      <td>0.020299</td>\n",
       "      <td>0.105973</td>\n",
       "      <td>0.160442</td>\n",
       "      <td>0.312577</td>\n",
       "      <td>...</td>\n",
       "      <td>0.371626</td>\n",
       "      <td>0.518333</td>\n",
       "      <td>0.302256</td>\n",
       "      <td>0.396466</td>\n",
       "      <td>0.368206</td>\n",
       "      <td>0.463973</td>\n",
       "      <td>0.384397</td>\n",
       "      <td>0.098330</td>\n",
       "      <td>0</td>\n",
       "      <td>9611</td>\n",
       "    </tr>\n",
       "    <tr>\n",
       "      <th>1</th>\n",
       "      <td>0.260783</td>\n",
       "      <td>0.101097</td>\n",
       "      <td>0.653211</td>\n",
       "      <td>0.383666</td>\n",
       "      <td>0.021077</td>\n",
       "      <td>0.022190</td>\n",
       "      <td>0.020098</td>\n",
       "      <td>0.022383</td>\n",
       "      <td>0.103584</td>\n",
       "      <td>0.140880</td>\n",
       "      <td>...</td>\n",
       "      <td>0.282255</td>\n",
       "      <td>0.497142</td>\n",
       "      <td>0.335026</td>\n",
       "      <td>0.435754</td>\n",
       "      <td>0.321891</td>\n",
       "      <td>0.491925</td>\n",
       "      <td>0.404899</td>\n",
       "      <td>0.336207</td>\n",
       "      <td>0</td>\n",
       "      <td>9611</td>\n",
       "    </tr>\n",
       "    <tr>\n",
       "      <th>2</th>\n",
       "      <td>0.320001</td>\n",
       "      <td>0.062155</td>\n",
       "      <td>0.677215</td>\n",
       "      <td>0.884880</td>\n",
       "      <td>0.037941</td>\n",
       "      <td>0.090081</td>\n",
       "      <td>0.029462</td>\n",
       "      <td>0.138858</td>\n",
       "      <td>0.091119</td>\n",
       "      <td>0.369198</td>\n",
       "      <td>...</td>\n",
       "      <td>0.521192</td>\n",
       "      <td>0.506412</td>\n",
       "      <td>0.487988</td>\n",
       "      <td>0.422888</td>\n",
       "      <td>0.181943</td>\n",
       "      <td>0.509181</td>\n",
       "      <td>0.544741</td>\n",
       "      <td>0.071390</td>\n",
       "      <td>0</td>\n",
       "      <td>9611</td>\n",
       "    </tr>\n",
       "    <tr>\n",
       "      <th>3</th>\n",
       "      <td>0.259548</td>\n",
       "      <td>0.033698</td>\n",
       "      <td>0.767221</td>\n",
       "      <td>0.182358</td>\n",
       "      <td>0.017083</td>\n",
       "      <td>0.013999</td>\n",
       "      <td>0.016759</td>\n",
       "      <td>0.015936</td>\n",
       "      <td>0.085533</td>\n",
       "      <td>0.065614</td>\n",
       "      <td>...</td>\n",
       "      <td>0.186120</td>\n",
       "      <td>0.527404</td>\n",
       "      <td>0.289932</td>\n",
       "      <td>0.465167</td>\n",
       "      <td>0.221046</td>\n",
       "      <td>0.502223</td>\n",
       "      <td>0.226692</td>\n",
       "      <td>0.164781</td>\n",
       "      <td>0</td>\n",
       "      <td>9611</td>\n",
       "    </tr>\n",
       "    <tr>\n",
       "      <th>4</th>\n",
       "      <td>0.229530</td>\n",
       "      <td>0.015952</td>\n",
       "      <td>0.764407</td>\n",
       "      <td>0.208216</td>\n",
       "      <td>0.016090</td>\n",
       "      <td>0.016374</td>\n",
       "      <td>0.015124</td>\n",
       "      <td>0.017554</td>\n",
       "      <td>0.073327</td>\n",
       "      <td>0.063334</td>\n",
       "      <td>...</td>\n",
       "      <td>0.243267</td>\n",
       "      <td>0.555483</td>\n",
       "      <td>0.273139</td>\n",
       "      <td>0.457529</td>\n",
       "      <td>0.211052</td>\n",
       "      <td>0.465493</td>\n",
       "      <td>0.357992</td>\n",
       "      <td>0.090338</td>\n",
       "      <td>0</td>\n",
       "      <td>9611</td>\n",
       "    </tr>\n",
       "    <tr>\n",
       "      <th>...</th>\n",
       "      <td>...</td>\n",
       "      <td>...</td>\n",
       "      <td>...</td>\n",
       "      <td>...</td>\n",
       "      <td>...</td>\n",
       "      <td>...</td>\n",
       "      <td>...</td>\n",
       "      <td>...</td>\n",
       "      <td>...</td>\n",
       "      <td>...</td>\n",
       "      <td>...</td>\n",
       "      <td>...</td>\n",
       "      <td>...</td>\n",
       "      <td>...</td>\n",
       "      <td>...</td>\n",
       "      <td>...</td>\n",
       "      <td>...</td>\n",
       "      <td>...</td>\n",
       "      <td>...</td>\n",
       "      <td>...</td>\n",
       "      <td>...</td>\n",
       "    </tr>\n",
       "    <tr>\n",
       "      <th>3770</th>\n",
       "      <td>0.378669</td>\n",
       "      <td>0.131196</td>\n",
       "      <td>0.593775</td>\n",
       "      <td>0.254098</td>\n",
       "      <td>0.030057</td>\n",
       "      <td>0.025177</td>\n",
       "      <td>0.032243</td>\n",
       "      <td>0.023951</td>\n",
       "      <td>0.104500</td>\n",
       "      <td>0.085221</td>\n",
       "      <td>...</td>\n",
       "      <td>0.492774</td>\n",
       "      <td>0.565756</td>\n",
       "      <td>0.425799</td>\n",
       "      <td>0.447915</td>\n",
       "      <td>0.319424</td>\n",
       "      <td>0.499205</td>\n",
       "      <td>0.345846</td>\n",
       "      <td>0.119612</td>\n",
       "      <td>1</td>\n",
       "      <td>9795</td>\n",
       "    </tr>\n",
       "    <tr>\n",
       "      <th>3771</th>\n",
       "      <td>0.281573</td>\n",
       "      <td>0.094892</td>\n",
       "      <td>0.543637</td>\n",
       "      <td>0.391300</td>\n",
       "      <td>0.029904</td>\n",
       "      <td>0.049573</td>\n",
       "      <td>0.034030</td>\n",
       "      <td>0.045259</td>\n",
       "      <td>0.105900</td>\n",
       "      <td>0.161729</td>\n",
       "      <td>...</td>\n",
       "      <td>0.373334</td>\n",
       "      <td>0.539068</td>\n",
       "      <td>0.254839</td>\n",
       "      <td>0.465514</td>\n",
       "      <td>0.292250</td>\n",
       "      <td>0.468034</td>\n",
       "      <td>0.468639</td>\n",
       "      <td>0.226473</td>\n",
       "      <td>1</td>\n",
       "      <td>9795</td>\n",
       "    </tr>\n",
       "    <tr>\n",
       "      <th>3772</th>\n",
       "      <td>0.268596</td>\n",
       "      <td>0.072960</td>\n",
       "      <td>0.409935</td>\n",
       "      <td>0.391503</td>\n",
       "      <td>0.060665</td>\n",
       "      <td>0.057163</td>\n",
       "      <td>0.073796</td>\n",
       "      <td>0.049728</td>\n",
       "      <td>0.156550</td>\n",
       "      <td>0.170607</td>\n",
       "      <td>...</td>\n",
       "      <td>0.513214</td>\n",
       "      <td>0.514956</td>\n",
       "      <td>0.352729</td>\n",
       "      <td>0.363946</td>\n",
       "      <td>0.326063</td>\n",
       "      <td>0.456537</td>\n",
       "      <td>0.390571</td>\n",
       "      <td>0.130119</td>\n",
       "      <td>1</td>\n",
       "      <td>9795</td>\n",
       "    </tr>\n",
       "    <tr>\n",
       "      <th>3773</th>\n",
       "      <td>0.308245</td>\n",
       "      <td>0.393642</td>\n",
       "      <td>0.282741</td>\n",
       "      <td>0.637794</td>\n",
       "      <td>0.104317</td>\n",
       "      <td>0.089215</td>\n",
       "      <td>0.099860</td>\n",
       "      <td>0.088509</td>\n",
       "      <td>0.368260</td>\n",
       "      <td>0.373852</td>\n",
       "      <td>...</td>\n",
       "      <td>0.277646</td>\n",
       "      <td>0.611109</td>\n",
       "      <td>0.424392</td>\n",
       "      <td>0.478582</td>\n",
       "      <td>0.339883</td>\n",
       "      <td>0.438622</td>\n",
       "      <td>0.297590</td>\n",
       "      <td>0.037626</td>\n",
       "      <td>1</td>\n",
       "      <td>9795</td>\n",
       "    </tr>\n",
       "    <tr>\n",
       "      <th>3774</th>\n",
       "      <td>0.230831</td>\n",
       "      <td>0.088644</td>\n",
       "      <td>0.554519</td>\n",
       "      <td>0.449390</td>\n",
       "      <td>0.033976</td>\n",
       "      <td>0.069918</td>\n",
       "      <td>0.035819</td>\n",
       "      <td>0.081161</td>\n",
       "      <td>0.138655</td>\n",
       "      <td>0.178954</td>\n",
       "      <td>...</td>\n",
       "      <td>0.282370</td>\n",
       "      <td>0.498750</td>\n",
       "      <td>0.300778</td>\n",
       "      <td>0.465996</td>\n",
       "      <td>0.302956</td>\n",
       "      <td>0.514997</td>\n",
       "      <td>0.315141</td>\n",
       "      <td>0.132633</td>\n",
       "      <td>1</td>\n",
       "      <td>9795</td>\n",
       "    </tr>\n",
       "  </tbody>\n",
       "</table>\n",
       "<p>3775 rows × 263 columns</p>\n",
       "</div>"
      ],
      "text/plain": [
       "      median_F0final_sma  iqr_F0final_sma  median_voicingFinalUnclipped_sma  \\\n",
       "0               0.303231         0.108704                          0.502144   \n",
       "1               0.260783         0.101097                          0.653211   \n",
       "2               0.320001         0.062155                          0.677215   \n",
       "3               0.259548         0.033698                          0.767221   \n",
       "4               0.229530         0.015952                          0.764407   \n",
       "...                  ...              ...                               ...   \n",
       "3770            0.378669         0.131196                          0.593775   \n",
       "3771            0.281573         0.094892                          0.543637   \n",
       "3772            0.268596         0.072960                          0.409935   \n",
       "3773            0.308245         0.393642                          0.282741   \n",
       "3774            0.230831         0.088644                          0.554519   \n",
       "\n",
       "      iqr_voicingFinalUnclipped_sma  median_jitterLocal_sma  \\\n",
       "0                          0.835377                0.026343   \n",
       "1                          0.383666                0.021077   \n",
       "2                          0.884880                0.037941   \n",
       "3                          0.182358                0.017083   \n",
       "4                          0.208216                0.016090   \n",
       "...                             ...                     ...   \n",
       "3770                       0.254098                0.030057   \n",
       "3771                       0.391300                0.029904   \n",
       "3772                       0.391503                0.060665   \n",
       "3773                       0.637794                0.104317   \n",
       "3774                       0.449390                0.033976   \n",
       "\n",
       "      iqr_jitterLocal_sma  median_jitterDDP_sma  iqr_jitterDDP_sma  \\\n",
       "0                0.123811              0.020299           0.105973   \n",
       "1                0.022190              0.020098           0.022383   \n",
       "2                0.090081              0.029462           0.138858   \n",
       "3                0.013999              0.016759           0.015936   \n",
       "4                0.016374              0.015124           0.017554   \n",
       "...                   ...                   ...                ...   \n",
       "3770             0.025177              0.032243           0.023951   \n",
       "3771             0.049573              0.034030           0.045259   \n",
       "3772             0.057163              0.073796           0.049728   \n",
       "3773             0.089215              0.099860           0.088509   \n",
       "3774             0.069918              0.035819           0.081161   \n",
       "\n",
       "      median_shimmerLocal_sma  iqr_shimmerLocal_sma  ...  iqr_mfcc_sma_de_11_  \\\n",
       "0                    0.160442              0.312577  ...             0.371626   \n",
       "1                    0.103584              0.140880  ...             0.282255   \n",
       "2                    0.091119              0.369198  ...             0.521192   \n",
       "3                    0.085533              0.065614  ...             0.186120   \n",
       "4                    0.073327              0.063334  ...             0.243267   \n",
       "...                       ...                   ...  ...                  ...   \n",
       "3770                 0.104500              0.085221  ...             0.492774   \n",
       "3771                 0.105900              0.161729  ...             0.373334   \n",
       "3772                 0.156550              0.170607  ...             0.513214   \n",
       "3773                 0.368260              0.373852  ...             0.277646   \n",
       "3774                 0.138655              0.178954  ...             0.282370   \n",
       "\n",
       "      median_mfcc_sma_de_12_  iqr_mfcc_sma_de_12_  median_mfcc_sma_de_13_  \\\n",
       "0                   0.518333             0.302256                0.396466   \n",
       "1                   0.497142             0.335026                0.435754   \n",
       "2                   0.506412             0.487988                0.422888   \n",
       "3                   0.527404             0.289932                0.465167   \n",
       "4                   0.555483             0.273139                0.457529   \n",
       "...                      ...                  ...                     ...   \n",
       "3770                0.565756             0.425799                0.447915   \n",
       "3771                0.539068             0.254839                0.465514   \n",
       "3772                0.514956             0.352729                0.363946   \n",
       "3773                0.611109             0.424392                0.478582   \n",
       "3774                0.498750             0.300778                0.465996   \n",
       "\n",
       "      iqr_mfcc_sma_de_13_  median_mfcc_sma_de_14_  iqr_mfcc_sma_de_14_  \\\n",
       "0                0.368206                0.463973             0.384397   \n",
       "1                0.321891                0.491925             0.404899   \n",
       "2                0.181943                0.509181             0.544741   \n",
       "3                0.221046                0.502223             0.226692   \n",
       "4                0.211052                0.465493             0.357992   \n",
       "...                   ...                     ...                  ...   \n",
       "3770             0.319424                0.499205             0.345846   \n",
       "3771             0.292250                0.468034             0.468639   \n",
       "3772             0.326063                0.456537             0.390571   \n",
       "3773             0.339883                0.438622             0.297590   \n",
       "3774             0.302956                0.514997             0.315141   \n",
       "\n",
       "      utterance_length  Diagnosis    ID  \n",
       "0             0.098330          0  9611  \n",
       "1             0.336207          0  9611  \n",
       "2             0.071390          0  9611  \n",
       "3             0.164781          0  9611  \n",
       "4             0.090338          0  9611  \n",
       "...                ...        ...   ...  \n",
       "3770          0.119612          1  9795  \n",
       "3771          0.226473          1  9795  \n",
       "3772          0.130119          1  9795  \n",
       "3773          0.037626          1  9795  \n",
       "3774          0.132633          1  9795  \n",
       "\n",
       "[3775 rows x 263 columns]"
      ]
     },
     "execution_count": 7,
     "metadata": {},
     "output_type": "execute_result"
    }
   ],
   "source": [
    "# cleaning feature lists\n",
    "functions.clean_features(MG_features, feature_list=True)\n",
    "functions.clean_features(Qfam_features, feature_list=True)\n",
    "functions.clean_features(Qunfam_features, feature_list=True)\n",
    "\n",
    "# cleaning model training data\n",
    "functions.clean_features(data_MatchingGame, feature_list = False)\n",
    "functions.clean_features(data_Questions_fam, feature_list = False)\n",
    "functions.clean_features(data_Questions_unfam, feature_list = False)\n",
    "\n",
    "# cleaning test data\n",
    "functions.clean_features(MG_MG_20, feature_list = False)\n",
    "functions.clean_features(MG_Qfam_20, feature_list = False)\n",
    "functions.clean_features(MG_Qfam_80, feature_list = False)\n",
    "functions.clean_features(Qfam_MG_20, feature_list = False)\n",
    "functions.clean_features(Qfam_MG_80, feature_list = False)\n",
    "functions.clean_features(Qfam_Qfam_20, feature_list = False)\n",
    "functions.clean_features(Qfam_Qunfam_20, feature_list = False)\n",
    "functions.clean_features(Qfam_Qunfam_80, feature_list = False)\n",
    "functions.clean_features(Qunfam_Qfam_20, feature_list = False)\n",
    "functions.clean_features(Qunfam_Qfam_80, feature_list = False)\n",
    "functions.clean_features(Qunfam_Qunfam_20, feature_list = False)\n"
   ]
  },
  {
   "cell_type": "markdown",
   "metadata": {},
   "source": [
    "# XGB"
   ]
  },
  {
   "cell_type": "code",
   "execution_count": 7,
   "metadata": {},
   "outputs": [
    {
     "name": "stderr",
     "output_type": "stream",
     "text": [
      "[I 2024-11-28 22:48:44,555] A new study created in memory with name: no-name-c3125f57-4d5c-4b90-9c97-20f9402afda1\n"
     ]
    },
    {
     "name": "stdout",
     "output_type": "stream",
     "text": [
      "1\n",
      "1\n",
      "1\n",
      "1\n",
      "1\n",
      "1\n",
      "1\n",
      "1\n",
      "1\n",
      "1\n",
      "1\n",
      "1\n",
      "1\n",
      "1\n",
      "1\n",
      "1\n",
      "1\n",
      "1\n",
      "1\n",
      "1\n",
      "1\n",
      "1\n",
      "1\n",
      "1\n",
      "1\n",
      "1\n",
      "1\n",
      "1\n",
      "1\n",
      "1\n",
      "1\n",
      "1\n",
      "2\n",
      "2\n",
      "2\n",
      "2\n",
      "2\n",
      "2\n",
      "2\n",
      "2\n",
      "2\n",
      "2\n",
      "2\n",
      "2\n",
      "2\n",
      "2\n",
      "2\n",
      "2\n",
      "2\n",
      "2\n",
      "22\n",
      "\n",
      "2\n",
      "2\n",
      "2\n",
      "2\n",
      "2\n",
      "2\n",
      "2\n",
      "2\n",
      "2\n",
      "2\n",
      "2\n",
      "3\n",
      "2\n",
      "3\n",
      "3\n",
      "3\n",
      "3\n",
      "3\n",
      "3\n",
      "3\n",
      "3\n",
      "3\n",
      "3\n",
      "3\n",
      "3\n",
      "3\n",
      "3\n",
      "3\n",
      "3\n",
      "3\n",
      "3\n",
      "3\n",
      "3\n",
      "3\n",
      "3\n",
      "3\n",
      "4\n",
      "3\n",
      "3\n",
      "3\n",
      "3\n",
      "4\n",
      "4\n",
      "3\n",
      "3\n",
      "3\n",
      "4\n",
      "4\n",
      "4\n",
      "4\n",
      "4\n",
      "4\n",
      "4\n",
      "4\n",
      "4\n",
      "3\n",
      "4\n",
      "4\n",
      "4\n",
      "4\n",
      "4\n",
      "4\n",
      "4\n",
      "4\n",
      "5\n",
      "4\n",
      "5\n",
      "4\n",
      "5\n",
      "4\n",
      "4\n",
      "4\n",
      "5\n",
      "44\n",
      "\n",
      "5\n",
      "4\n",
      "5\n",
      "4\n",
      "5\n",
      "5\n",
      "4\n",
      "5\n",
      "5\n",
      "5\n",
      "5\n",
      "4\n",
      "5\n",
      "5\n",
      "5\n"
     ]
    },
    {
     "name": "stderr",
     "output_type": "stream",
     "text": [
      "[I 2024-11-28 22:49:56,207] Trial 24 finished with value: 0.5742195611964631 and parameters: {'learning_rate': 0.2862483422238572, 'reg_lambda': 1.0299171157361712e-06, 'max_depth': 6, 'min_child_weight': 33, 'gamma': 4.586521189289893, 'reg_alpha': 0.22230379882059137}. Best is trial 24 with value: 0.5742195611964631.\n"
     ]
    },
    {
     "name": "stdout",
     "output_type": "stream",
     "text": [
      "5\n",
      "1\n",
      "5\n",
      "4\n"
     ]
    },
    {
     "name": "stderr",
     "output_type": "stream",
     "text": [
      "[I 2024-11-28 22:49:57,716] Trial 29 finished with value: 0.5720082937981986 and parameters: {'learning_rate': 0.24610661904288897, 'reg_lambda': 3.3333763971595603e-07, 'max_depth': 3, 'min_child_weight': 97, 'gamma': 4.9204492812099225, 'reg_alpha': 5.842927974562752e-06}. Best is trial 24 with value: 0.5742195611964631.\n"
     ]
    },
    {
     "name": "stdout",
     "output_type": "stream",
     "text": [
      "1\n",
      "5\n"
     ]
    },
    {
     "name": "stderr",
     "output_type": "stream",
     "text": [
      "[I 2024-11-28 22:49:58,745] Trial 27 finished with value: 0.5642601686367582 and parameters: {'learning_rate': 0.2888190308265074, 'reg_lambda': 4.324946467649316e-07, 'max_depth': 10, 'min_child_weight': 9, 'gamma': 4.035750551326848, 'reg_alpha': 0.0036141280312672413}. Best is trial 24 with value: 0.5742195611964631.\n"
     ]
    },
    {
     "name": "stdout",
     "output_type": "stream",
     "text": [
      "5\n",
      "5\n",
      "1\n",
      "5\n"
     ]
    },
    {
     "name": "stderr",
     "output_type": "stream",
     "text": [
      "[I 2024-11-28 22:50:00,014] Trial 6 finished with value: 0.5690758509822123 and parameters: {'learning_rate': 0.2685170821232306, 'reg_lambda': 1.015213383835314, 'max_depth': 4, 'min_child_weight': 85, 'gamma': 4.0583355134156625, 'reg_alpha': 0.001790127221233535}. Best is trial 24 with value: 0.5742195611964631.\n"
     ]
    },
    {
     "name": "stdout",
     "output_type": "stream",
     "text": [
      "1\n"
     ]
    },
    {
     "name": "stderr",
     "output_type": "stream",
     "text": [
      "[I 2024-11-28 22:50:00,718] Trial 30 finished with value: 0.566562291619971 and parameters: {'learning_rate': 0.09124723748566069, 'reg_lambda': 1.9056507706183478e-07, 'max_depth': 3, 'min_child_weight': 9, 'gamma': 3.010325366215632, 'reg_alpha': 0.003709171401904481}. Best is trial 24 with value: 0.5742195611964631.\n"
     ]
    },
    {
     "name": "stdout",
     "output_type": "stream",
     "text": [
      "1\n",
      "5\n",
      "5\n"
     ]
    },
    {
     "name": "stderr",
     "output_type": "stream",
     "text": [
      "[I 2024-11-28 22:50:02,432] Trial 14 finished with value: 0.5702454672260917 and parameters: {'learning_rate': 0.18370117865745755, 'reg_lambda': 7.981458432121827e-05, 'max_depth': 5, 'min_child_weight': 84, 'gamma': 4.5040157139599994, 'reg_alpha': 0.0016821087127907683}. Best is trial 24 with value: 0.5742195611964631.\n"
     ]
    },
    {
     "name": "stdout",
     "output_type": "stream",
     "text": [
      "5\n",
      "1\n"
     ]
    },
    {
     "name": "stderr",
     "output_type": "stream",
     "text": [
      "[I 2024-11-28 22:50:03,644] Trial 1 finished with value: 0.5721372751162882 and parameters: {'learning_rate': 0.11946403944801802, 'reg_lambda': 1.9851599925192793e-06, 'max_depth': 4, 'min_child_weight': 41, 'gamma': 1.3128802383170979, 'reg_alpha': 2.5823188936467285}. Best is trial 24 with value: 0.5742195611964631.\n",
      "[I 2024-11-28 22:50:03,811] Trial 2 finished with value: 0.5726785909519639 and parameters: {'learning_rate': 0.18034821595010625, 'reg_lambda': 1.5392139138557647e-08, 'max_depth': 4, 'min_child_weight': 86, 'gamma': 1.0192551869185333, 'reg_alpha': 2.3722732505671812e-07}. Best is trial 24 with value: 0.5742195611964631.\n"
     ]
    },
    {
     "name": "stdout",
     "output_type": "stream",
     "text": [
      "1\n",
      "5\n",
      "1\n",
      "5\n"
     ]
    },
    {
     "name": "stderr",
     "output_type": "stream",
     "text": [
      "[I 2024-11-28 22:50:04,896] Trial 26 finished with value: 0.5702698364160611 and parameters: {'learning_rate': 0.0970459737141779, 'reg_lambda': 8.087029155774496e-08, 'max_depth': 4, 'min_child_weight': 55, 'gamma': 2.5875415298432216, 'reg_alpha': 1.1739219411700423e-06}. Best is trial 24 with value: 0.5742195611964631.\n",
      "[I 2024-11-28 22:50:05,104] Trial 9 finished with value: 0.5710229892161963 and parameters: {'learning_rate': 0.21544102480151348, 'reg_lambda': 0.0015159094405353757, 'max_depth': 4, 'min_child_weight': 76, 'gamma': 3.3271282860334823, 'reg_alpha': 8.315031739508653e-06}. Best is trial 24 with value: 0.5742195611964631.\n"
     ]
    },
    {
     "name": "stdout",
     "output_type": "stream",
     "text": [
      "1\n",
      "5\n"
     ]
    },
    {
     "name": "stderr",
     "output_type": "stream",
     "text": [
      "[I 2024-11-28 22:50:05,223] Trial 4 finished with value: 0.5720673856642009 and parameters: {'learning_rate': 0.2886075298555257, 'reg_lambda': 0.01682920493849116, 'max_depth': 5, 'min_child_weight': 20, 'gamma': 2.444061094546195, 'reg_alpha': 0.01662672719021647}. Best is trial 24 with value: 0.5742195611964631.\n",
      "[I 2024-11-28 22:50:05,588] Trial 16 finished with value: 0.5689252811734119 and parameters: {'learning_rate': 0.16594173263634476, 'reg_lambda': 7.476182117124027e-05, 'max_depth': 5, 'min_child_weight': 53, 'gamma': 3.4762497686796587, 'reg_alpha': 0.020051710717829727}. Best is trial 24 with value: 0.5742195611964631.\n"
     ]
    },
    {
     "name": "stdout",
     "output_type": "stream",
     "text": [
      "1\n",
      "1\n",
      "1\n"
     ]
    },
    {
     "name": "stderr",
     "output_type": "stream",
     "text": [
      "[I 2024-11-28 22:50:06,707] Trial 28 finished with value: 0.5764077102051904 and parameters: {'learning_rate': 0.21683104153911617, 'reg_lambda': 0.0002372501771057732, 'max_depth': 7, 'min_child_weight': 84, 'gamma': 4.557657810926184, 'reg_alpha': 0.000984781224043003}. Best is trial 28 with value: 0.5764077102051904.\n"
     ]
    },
    {
     "name": "stdout",
     "output_type": "stream",
     "text": [
      "5\n"
     ]
    },
    {
     "name": "stderr",
     "output_type": "stream",
     "text": [
      "[I 2024-11-28 22:50:06,920] Trial 3 finished with value: 0.5625325381144108 and parameters: {'learning_rate': 0.0381953497009268, 'reg_lambda': 0.0001722980095540282, 'max_depth': 4, 'min_child_weight': 22, 'gamma': 4.658230525593581, 'reg_alpha': 1.3278729022788043e-07}. Best is trial 28 with value: 0.5764077102051904.\n"
     ]
    },
    {
     "name": "stdout",
     "output_type": "stream",
     "text": [
      "1\n",
      "1\n",
      "5\n"
     ]
    },
    {
     "name": "stderr",
     "output_type": "stream",
     "text": [
      "[I 2024-11-28 22:50:08,715] Trial 11 finished with value: 0.5670666676446627 and parameters: {'learning_rate': 0.12358381833963532, 'reg_lambda': 5.918688468405609e-07, 'max_depth': 5, 'min_child_weight': 32, 'gamma': 3.99339025578465, 'reg_alpha': 2.1084208040199956e-06}. Best is trial 28 with value: 0.5764077102051904.\n"
     ]
    },
    {
     "name": "stdout",
     "output_type": "stream",
     "text": [
      "1\n"
     ]
    },
    {
     "name": "stderr",
     "output_type": "stream",
     "text": [
      "[I 2024-11-28 22:50:09,543] Trial 18 finished with value: 0.5685839029853141 and parameters: {'learning_rate': 0.13921430705267093, 'reg_lambda': 0.007564713237197478, 'max_depth': 7, 'min_child_weight': 75, 'gamma': 3.5976563606410834, 'reg_alpha': 6.925133766246392}. Best is trial 28 with value: 0.5764077102051904.\n"
     ]
    },
    {
     "name": "stdout",
     "output_type": "stream",
     "text": [
      "2\n",
      "1\n"
     ]
    },
    {
     "name": "stderr",
     "output_type": "stream",
     "text": [
      "[I 2024-11-28 22:50:11,091] Trial 8 finished with value: 0.5702305886225963 and parameters: {'learning_rate': 0.1981387218559305, 'reg_lambda': 21.361309932539495, 'max_depth': 10, 'min_child_weight': 96, 'gamma': 2.1878450499575934, 'reg_alpha': 10.786156091897539}. Best is trial 28 with value: 0.5764077102051904.\n"
     ]
    },
    {
     "name": "stdout",
     "output_type": "stream",
     "text": [
      "5\n",
      "1\n",
      "5\n",
      "2\n"
     ]
    },
    {
     "name": "stderr",
     "output_type": "stream",
     "text": [
      "[I 2024-11-28 22:50:12,433] Trial 19 finished with value: 0.5733082742850684 and parameters: {'learning_rate': 0.12503434103234437, 'reg_lambda': 0.39917079806530703, 'max_depth': 5, 'min_child_weight': 19, 'gamma': 0.87061032403556, 'reg_alpha': 8.910917260935518}. Best is trial 28 with value: 0.5764077102051904.\n",
      "[I 2024-11-28 22:50:12,835] Trial 13 finished with value: 0.572943954765002 and parameters: {'learning_rate': 0.13541385524053115, 'reg_lambda': 2.816987920917948, 'max_depth': 5, 'min_child_weight': 11, 'gamma': 0.4216149111872397, 'reg_alpha': 0.0035089136201109958}. Best is trial 28 with value: 0.5764077102051904.\n"
     ]
    },
    {
     "name": "stdout",
     "output_type": "stream",
     "text": [
      "1\n"
     ]
    },
    {
     "name": "stderr",
     "output_type": "stream",
     "text": [
      "[I 2024-11-28 22:50:12,940] Trial 25 finished with value: 0.5717861527318299 and parameters: {'learning_rate': 0.08596184499069108, 'reg_lambda': 19.95462661407808, 'max_depth': 5, 'min_child_weight': 23, 'gamma': 4.399248041432953, 'reg_alpha': 0.38326768473878475}. Best is trial 28 with value: 0.5764077102051904.\n"
     ]
    },
    {
     "name": "stdout",
     "output_type": "stream",
     "text": [
      "1\n",
      "1\n"
     ]
    },
    {
     "name": "stderr",
     "output_type": "stream",
     "text": [
      "[I 2024-11-28 22:50:14,222] Trial 0 finished with value: 0.5707087924474152 and parameters: {'learning_rate': 0.0754041737133113, 'reg_lambda': 1.4893141130623062e-06, 'max_depth': 7, 'min_child_weight': 86, 'gamma': 0.30922246592925917, 'reg_alpha': 6.668894599086587e-06}. Best is trial 28 with value: 0.5764077102051904.\n"
     ]
    },
    {
     "name": "stdout",
     "output_type": "stream",
     "text": [
      "1\n",
      "2\n"
     ]
    },
    {
     "name": "stderr",
     "output_type": "stream",
     "text": [
      "[I 2024-11-28 22:50:16,017] Trial 23 finished with value: 0.5706963060749276 and parameters: {'learning_rate': 0.11443919512653983, 'reg_lambda': 0.0023984056995529058, 'max_depth': 9, 'min_child_weight': 44, 'gamma': 4.543885260590872, 'reg_alpha': 1.930256545387916e-08}. Best is trial 28 with value: 0.5764077102051904.\n"
     ]
    },
    {
     "name": "stdout",
     "output_type": "stream",
     "text": [
      "2\n",
      "1\n"
     ]
    },
    {
     "name": "stderr",
     "output_type": "stream",
     "text": [
      "[I 2024-11-28 22:50:17,422] Trial 20 finished with value: 0.5582119057998514 and parameters: {'learning_rate': 0.022449053966929394, 'reg_lambda': 4.597879202280259e-07, 'max_depth': 6, 'min_child_weight': 23, 'gamma': 3.049488865873709, 'reg_alpha': 0.12172132790140325}. Best is trial 28 with value: 0.5764077102051904.\n"
     ]
    },
    {
     "name": "stdout",
     "output_type": "stream",
     "text": [
      "2\n"
     ]
    },
    {
     "name": "stderr",
     "output_type": "stream",
     "text": [
      "[I 2024-11-28 22:50:18,343] Trial 31 finished with value: 0.571915690345113 and parameters: {'learning_rate': 0.13194768364372347, 'reg_lambda': 1.4322760349124357, 'max_depth': 6, 'min_child_weight': 65, 'gamma': 2.484181078354242, 'reg_alpha': 0.0509188017753628}. Best is trial 28 with value: 0.5764077102051904.\n"
     ]
    },
    {
     "name": "stdout",
     "output_type": "stream",
     "text": [
      "1\n",
      "2\n",
      "21\n",
      "\n"
     ]
    },
    {
     "name": "stderr",
     "output_type": "stream",
     "text": [
      "[I 2024-11-28 22:50:19,948] Trial 21 finished with value: 0.5708777468498145 and parameters: {'learning_rate': 0.10672572453000348, 'reg_lambda': 4.517970304818723e-08, 'max_depth': 6, 'min_child_weight': 25, 'gamma': 0.6557975289908824, 'reg_alpha': 6.885082033909358e-08}. Best is trial 28 with value: 0.5764077102051904.\n"
     ]
    },
    {
     "name": "stdout",
     "output_type": "stream",
     "text": [
      "2\n"
     ]
    },
    {
     "name": "stderr",
     "output_type": "stream",
     "text": [
      "[I 2024-11-28 22:50:20,938] Trial 12 finished with value: 0.5777160615380883 and parameters: {'learning_rate': 0.12097776548712268, 'reg_lambda': 0.004318156642227213, 'max_depth': 9, 'min_child_weight': 75, 'gamma': 3.480076867861474, 'reg_alpha': 2.0085379086035968e-08}. Best is trial 12 with value: 0.5777160615380883.\n"
     ]
    },
    {
     "name": "stdout",
     "output_type": "stream",
     "text": [
      "1\n",
      "5\n",
      "1\n",
      "2\n"
     ]
    },
    {
     "name": "stderr",
     "output_type": "stream",
     "text": [
      "[I 2024-11-28 22:50:22,701] Trial 7 finished with value: 0.5629501660112682 and parameters: {'learning_rate': 0.026953468424464833, 'reg_lambda': 1.6165752373257423e-07, 'max_depth': 7, 'min_child_weight': 48, 'gamma': 3.4353789120316147, 'reg_alpha': 2.1555052999858455e-05}. Best is trial 12 with value: 0.5777160615380883.\n"
     ]
    },
    {
     "name": "stdout",
     "output_type": "stream",
     "text": [
      "2\n"
     ]
    },
    {
     "name": "stderr",
     "output_type": "stream",
     "text": [
      "[I 2024-11-28 22:50:23,994] Trial 10 finished with value: 0.5514451652192565 and parameters: {'learning_rate': 0.012579363356573201, 'reg_lambda': 0.009748187429092873, 'max_depth': 7, 'min_child_weight': 82, 'gamma': 1.5653082266881029, 'reg_alpha': 2.129984454642733e-08}. Best is trial 12 with value: 0.5777160615380883.\n"
     ]
    },
    {
     "name": "stdout",
     "output_type": "stream",
     "text": [
      "1\n"
     ]
    },
    {
     "name": "stderr",
     "output_type": "stream",
     "text": [
      "[I 2024-11-28 22:50:24,316] Trial 17 finished with value: 0.570433225937224 and parameters: {'learning_rate': 0.204894273381479, 'reg_lambda': 1.6694668009595654e-05, 'max_depth': 10, 'min_child_weight': 24, 'gamma': 1.4183226465685346, 'reg_alpha': 1.0567581551206062e-05}. Best is trial 12 with value: 0.5777160615380883.\n"
     ]
    },
    {
     "name": "stdout",
     "output_type": "stream",
     "text": [
      "2\n",
      "2\n",
      "1\n",
      "1\n",
      "2\n",
      "2\n",
      "3\n",
      "3\n",
      "2\n",
      "2\n",
      "2\n",
      "2\n"
     ]
    },
    {
     "name": "stderr",
     "output_type": "stream",
     "text": [
      "[I 2024-11-28 22:50:29,941] Trial 15 finished with value: 0.5761266396701582 and parameters: {'learning_rate': 0.05412049105735292, 'reg_lambda': 0.26133720740593985, 'max_depth': 10, 'min_child_weight': 69, 'gamma': 1.4157454107301848, 'reg_alpha': 0.0038256892028553182}. Best is trial 12 with value: 0.5777160615380883.\n"
     ]
    },
    {
     "name": "stdout",
     "output_type": "stream",
     "text": [
      "2\n",
      "1\n"
     ]
    },
    {
     "name": "stderr",
     "output_type": "stream",
     "text": [
      "[I 2024-11-28 22:50:31,329] Trial 22 finished with value: 0.5734765351489758 and parameters: {'learning_rate': 0.15890375464866252, 'reg_lambda': 2.834536853874411e-06, 'max_depth': 10, 'min_child_weight': 43, 'gamma': 1.3732428176877531, 'reg_alpha': 0.9997815984638285}. Best is trial 12 with value: 0.5777160615380883.\n"
     ]
    },
    {
     "name": "stdout",
     "output_type": "stream",
     "text": [
      "2\n",
      "2\n",
      "1\n",
      "3\n",
      "3\n",
      "2\n",
      "2\n",
      "2\n",
      "3\n",
      "3\n",
      "2\n",
      "3\n",
      "2\n",
      "2\n",
      "2\n",
      "2\n",
      "4\n"
     ]
    },
    {
     "name": "stderr",
     "output_type": "stream",
     "text": [
      "[I 2024-11-28 22:50:42,653] Trial 5 finished with value: 0.5685452706536663 and parameters: {'learning_rate': 0.03429744894296327, 'reg_lambda': 3.4587656121971695e-05, 'max_depth': 9, 'min_child_weight': 6, 'gamma': 4.1590341556463155, 'reg_alpha': 0.005616371215713562}. Best is trial 12 with value: 0.5777160615380883.\n"
     ]
    },
    {
     "name": "stdout",
     "output_type": "stream",
     "text": [
      "3\n",
      "3\n",
      "4\n",
      "1\n",
      "3\n",
      "3\n",
      "3\n",
      "3\n",
      "3\n",
      "3\n",
      "3\n",
      "3\n",
      "3\n",
      "4\n",
      "2\n",
      "4\n",
      "3\n",
      "3\n",
      "2\n",
      "3\n",
      "3\n",
      "4\n",
      "3\n",
      "4\n",
      "3\n",
      "3\n",
      "3\n",
      "3\n",
      "3\n",
      "4\n",
      "5\n",
      "3\n",
      "5\n",
      "4\n",
      "4\n",
      "4\n",
      "2\n",
      "4\n",
      "4\n",
      "4\n",
      "5\n",
      "4\n",
      "4\n",
      "4\n",
      "4\n",
      "4\n",
      "5\n",
      "4\n",
      "4\n",
      "5\n"
     ]
    },
    {
     "name": "stderr",
     "output_type": "stream",
     "text": [
      "[I 2024-11-28 22:51:12,426] Trial 32 finished with value: 0.5722121500298228 and parameters: {'learning_rate': 0.21714321892406593, 'reg_lambda': 0.0001523766998083753, 'max_depth': 10, 'min_child_weight': 90, 'gamma': 4.967881973615807, 'reg_alpha': 2.9913152485924562e-05}. Best is trial 12 with value: 0.5777160615380883.\n"
     ]
    },
    {
     "name": "stdout",
     "output_type": "stream",
     "text": [
      "44\n",
      "\n",
      "3\n",
      "4\n",
      "4\n",
      "3\n"
     ]
    },
    {
     "name": "stderr",
     "output_type": "stream",
     "text": [
      "[I 2024-11-28 22:51:13,697] Trial 34 finished with value: 0.5603050337905918 and parameters: {'learning_rate': 0.26427657179860664, 'reg_lambda': 3.789632863321163, 'max_depth': 9, 'min_child_weight': 6, 'gamma': 4.135351689250083, 'reg_alpha': 15.578605085787014}. Best is trial 12 with value: 0.5777160615380883.\n"
     ]
    },
    {
     "name": "stdout",
     "output_type": "stream",
     "text": [
      "1\n",
      "4\n",
      "1\n",
      "5\n",
      "4\n",
      "4\n",
      "5\n",
      "4\n",
      "5\n",
      "5\n",
      "4\n",
      "5\n",
      "5\n"
     ]
    },
    {
     "name": "stderr",
     "output_type": "stream",
     "text": [
      "[I 2024-11-28 22:51:22,256] Trial 37 finished with value: 0.5661524062772442 and parameters: {'learning_rate': 0.23291032618001467, 'reg_lambda': 8.039792877750356e-05, 'max_depth': 4, 'min_child_weight': 40, 'gamma': 1.0661507672224235, 'reg_alpha': 0.004759909285569789}. Best is trial 12 with value: 0.5777160615380883.\n"
     ]
    },
    {
     "name": "stdout",
     "output_type": "stream",
     "text": [
      "3\n",
      "1\n",
      "5\n"
     ]
    },
    {
     "name": "stderr",
     "output_type": "stream",
     "text": [
      "[I 2024-11-28 22:51:24,418] Trial 35 finished with value: 0.5753872271376584 and parameters: {'learning_rate': 0.20626219436465026, 'reg_lambda': 2.4160588212493506e-08, 'max_depth': 8, 'min_child_weight': 29, 'gamma': 1.4032232834409109, 'reg_alpha': 6.944899675174333}. Best is trial 12 with value: 0.5777160615380883.\n"
     ]
    },
    {
     "name": "stdout",
     "output_type": "stream",
     "text": [
      "5\n",
      "1\n",
      "5\n"
     ]
    },
    {
     "name": "stderr",
     "output_type": "stream",
     "text": [
      "[I 2024-11-28 22:51:26,112] Trial 40 finished with value: 0.5696341266937651 and parameters: {'learning_rate': 0.24417836950862953, 'reg_lambda': 0.010387560820530281, 'max_depth': 4, 'min_child_weight': 98, 'gamma': 3.3497249601230727, 'reg_alpha': 2.023448946110469e-05}. Best is trial 12 with value: 0.5777160615380883.\n"
     ]
    },
    {
     "name": "stdout",
     "output_type": "stream",
     "text": [
      "5\n",
      "5\n",
      "1\n",
      "5\n",
      "5\n",
      "5\n",
      "5\n",
      "5\n",
      "5\n",
      "5\n"
     ]
    },
    {
     "name": "stderr",
     "output_type": "stream",
     "text": [
      "[I 2024-11-28 22:51:30,014] Trial 38 finished with value: 0.5721160615433347 and parameters: {'learning_rate': 0.14649338362536318, 'reg_lambda': 5.159328827731556e-07, 'max_depth': 6, 'min_child_weight': 58, 'gamma': 3.4129483319480363, 'reg_alpha': 0.0020888131922140313}. Best is trial 12 with value: 0.5777160615380883.\n",
      "[I 2024-11-28 22:51:30,020] Trial 51 finished with value: 0.5637359929825385 and parameters: {'learning_rate': 0.22951353512247394, 'reg_lambda': 8.929558392858201e-06, 'max_depth': 8, 'min_child_weight': 63, 'gamma': 4.949012313375989, 'reg_alpha': 8.74932411467795e-05}. Best is trial 12 with value: 0.5777160615380883.\n"
     ]
    },
    {
     "name": "stdout",
     "output_type": "stream",
     "text": [
      "5\n",
      "1\n",
      "1\n",
      "2\n"
     ]
    },
    {
     "name": "stderr",
     "output_type": "stream",
     "text": [
      "[I 2024-11-28 22:51:31,535] Trial 50 finished with value: 0.5713101500378517 and parameters: {'learning_rate': 0.2342813084567538, 'reg_lambda': 7.515878460045703e-06, 'max_depth': 8, 'min_child_weight': 58, 'gamma': 4.36085039233504, 'reg_alpha': 0.31119304212451804}. Best is trial 12 with value: 0.5777160615380883.\n"
     ]
    },
    {
     "name": "stdout",
     "output_type": "stream",
     "text": [
      "4\n",
      "2\n",
      "5\n",
      "4\n",
      "1\n",
      "5\n"
     ]
    },
    {
     "name": "stderr",
     "output_type": "stream",
     "text": [
      "[I 2024-11-28 22:51:34,301] Trial 33 finished with value: 0.5724834851464802 and parameters: {'learning_rate': 0.05610675620743148, 'reg_lambda': 0.16069435149691097, 'max_depth': 10, 'min_child_weight': 98, 'gamma': 4.7068431610162085, 'reg_alpha': 4.093718824939663}. Best is trial 12 with value: 0.5777160615380883.\n"
     ]
    },
    {
     "name": "stdout",
     "output_type": "stream",
     "text": [
      "5\n",
      "5\n"
     ]
    },
    {
     "name": "stderr",
     "output_type": "stream",
     "text": [
      "[I 2024-11-28 22:51:35,037] Trial 39 finished with value: 0.5663673232418446 and parameters: {'learning_rate': 0.29753133100706813, 'reg_lambda': 3.5034462875753802e-06, 'max_depth': 10, 'min_child_weight': 52, 'gamma': 1.7497873812808862, 'reg_alpha': 3.4359179923049546e-08}. Best is trial 12 with value: 0.5777160615380883.\n",
      "[I 2024-11-28 22:51:35,148] Trial 57 finished with value: 0.5656738124584445 and parameters: {'learning_rate': 0.2393566264477864, 'reg_lambda': 9.463309505428914e-06, 'max_depth': 8, 'min_child_weight': 65, 'gamma': 4.882522518478047, 'reg_alpha': 9.92369603558638e-05}. Best is trial 12 with value: 0.5777160615380883.\n"
     ]
    },
    {
     "name": "stdout",
     "output_type": "stream",
     "text": [
      "5\n",
      "1\n",
      "1\n",
      "1\n"
     ]
    },
    {
     "name": "stderr",
     "output_type": "stream",
     "text": [
      "[I 2024-11-28 22:51:37,894] Trial 60 finished with value: 0.5705355616468355 and parameters: {'learning_rate': 0.23797728713171312, 'reg_lambda': 9.115519507618375e-06, 'max_depth': 8, 'min_child_weight': 64, 'gamma': 4.964635121456789, 'reg_alpha': 9.309884831400156e-05}. Best is trial 12 with value: 0.5777160615380883.\n"
     ]
    },
    {
     "name": "stdout",
     "output_type": "stream",
     "text": [
      "1\n"
     ]
    },
    {
     "name": "stderr",
     "output_type": "stream",
     "text": [
      "[I 2024-11-28 22:51:38,728] Trial 58 finished with value: 0.5709478073388243 and parameters: {'learning_rate': 0.23401294145516735, 'reg_lambda': 1.5644728179774984e-05, 'max_depth': 8, 'min_child_weight': 61, 'gamma': 4.920905632508253, 'reg_alpha': 0.0001546984388702893}. Best is trial 12 with value: 0.5777160615380883.\n",
      "[I 2024-11-28 22:51:39,796] Trial 42 finished with value: 0.565674575736817 and parameters: {'learning_rate': 0.04027733369009763, 'reg_lambda': 1.463721714867429e-08, 'max_depth': 7, 'min_child_weight': 51, 'gamma': 0.00031854665300290463, 'reg_alpha': 1.13093803468299e-08}. Best is trial 12 with value: 0.5777160615380883.\n",
      "[I 2024-11-28 22:51:39,820] Trial 43 finished with value: 0.5648776762166233 and parameters: {'learning_rate': 0.03160470829912533, 'reg_lambda': 1.298745470440032e-08, 'max_depth': 7, 'min_child_weight': 32, 'gamma': 0.24865574418662872, 'reg_alpha': 3.8476239811774506e-08}. Best is trial 12 with value: 0.5777160615380883.\n"
     ]
    },
    {
     "name": "stdout",
     "output_type": "stream",
     "text": [
      "1\n",
      "2\n"
     ]
    },
    {
     "name": "stderr",
     "output_type": "stream",
     "text": [
      "[I 2024-11-28 22:51:41,234] Trial 59 finished with value: 0.5704474257943998 and parameters: {'learning_rate': 0.2306814035707891, 'reg_lambda': 8.928709516948627e-06, 'max_depth': 8, 'min_child_weight': 62, 'gamma': 4.912052534777246, 'reg_alpha': 0.00014584686550371957}. Best is trial 12 with value: 0.5777160615380883.\n"
     ]
    },
    {
     "name": "stdout",
     "output_type": "stream",
     "text": [
      "11\n",
      "\n",
      "4\n",
      "1\n"
     ]
    },
    {
     "name": "stderr",
     "output_type": "stream",
     "text": [
      "[I 2024-11-28 22:51:42,699] Trial 36 finished with value: 0.5731976439645864 and parameters: {'learning_rate': 0.15880381809900165, 'reg_lambda': 7.524054095114564e-05, 'max_depth': 10, 'min_child_weight': 42, 'gamma': 1.0063386393838214, 'reg_alpha': 0.0005917504464577928}. Best is trial 12 with value: 0.5777160615380883.\n",
      "[I 2024-11-28 22:51:43,545] Trial 52 finished with value: 0.5691882025104711 and parameters: {'learning_rate': 0.2281802094324935, 'reg_lambda': 1.4177804577265179e-05, 'max_depth': 8, 'min_child_weight': 41, 'gamma': 1.8166932453780893, 'reg_alpha': 0.3416527074170437}. Best is trial 12 with value: 0.5777160615380883.\n"
     ]
    },
    {
     "name": "stdout",
     "output_type": "stream",
     "text": [
      "2\n",
      "1\n"
     ]
    },
    {
     "name": "stderr",
     "output_type": "stream",
     "text": [
      "[I 2024-11-28 22:51:44,263] Trial 44 finished with value: 0.5643167483318835 and parameters: {'learning_rate': 0.22961110053686773, 'reg_lambda': 9.77657055546367e-06, 'max_depth': 8, 'min_child_weight': 32, 'gamma': 0.023453677231841663, 'reg_alpha': 1.7718230792543765}. Best is trial 12 with value: 0.5777160615380883.\n",
      "[I 2024-11-28 22:51:44,978] Trial 46 finished with value: 0.5688004519335859 and parameters: {'learning_rate': 0.22858189992879388, 'reg_lambda': 1.012237485825938e-05, 'max_depth': 8, 'min_child_weight': 66, 'gamma': 0.030295997529256713, 'reg_alpha': 0.5979677026514121}. Best is trial 12 with value: 0.5777160615380883.\n",
      "[I 2024-11-28 22:51:45,023] Trial 47 finished with value: 0.5722804116713899 and parameters: {'learning_rate': 0.22904896993760251, 'reg_lambda': 7.409921973313437e-06, 'max_depth': 8, 'min_child_weight': 64, 'gamma': 0.23012135701482128, 'reg_alpha': 0.2198306692278783}. Best is trial 12 with value: 0.5777160615380883.\n"
     ]
    },
    {
     "name": "stdout",
     "output_type": "stream",
     "text": [
      "1\n",
      "2\n"
     ]
    },
    {
     "name": "stderr",
     "output_type": "stream",
     "text": [
      "[I 2024-11-28 22:51:45,352] Trial 45 finished with value: 0.5672777168869495 and parameters: {'learning_rate': 0.22959428948886618, 'reg_lambda': 5.418070476713176e-06, 'max_depth': 8, 'min_child_weight': 39, 'gamma': 0.1669174025084934, 'reg_alpha': 1.5719209200811735}. Best is trial 12 with value: 0.5777160615380883.\n"
     ]
    },
    {
     "name": "stdout",
     "output_type": "stream",
     "text": [
      "1\n"
     ]
    },
    {
     "name": "stderr",
     "output_type": "stream",
     "text": [
      "[I 2024-11-28 22:51:45,909] Trial 41 finished with value: 0.5464023325818921 and parameters: {'learning_rate': 0.012925823117757695, 'reg_lambda': 0.004176934421312495, 'max_depth': 8, 'min_child_weight': 33, 'gamma': 0.24787564792759076, 'reg_alpha': 24.927653242505595}. Best is trial 12 with value: 0.5777160615380883.\n"
     ]
    },
    {
     "name": "stdout",
     "output_type": "stream",
     "text": [
      "1\n",
      "1\n",
      "1\n",
      "1\n"
     ]
    },
    {
     "name": "stderr",
     "output_type": "stream",
     "text": [
      "[I 2024-11-28 22:51:47,835] Trial 48 finished with value: 0.5690113133533382 and parameters: {'learning_rate': 0.23404269748084966, 'reg_lambda': 1.1144195278580434e-05, 'max_depth': 8, 'min_child_weight': 63, 'gamma': 1.8293099908075696, 'reg_alpha': 0.23537800467126577}. Best is trial 12 with value: 0.5777160615380883.\n"
     ]
    },
    {
     "name": "stdout",
     "output_type": "stream",
     "text": [
      "2\n"
     ]
    },
    {
     "name": "stderr",
     "output_type": "stream",
     "text": [
      "[I 2024-11-28 22:51:48,914] Trial 55 finished with value: 0.569179551745057 and parameters: {'learning_rate': 0.23425669882695258, 'reg_lambda': 1.2444775659712244e-05, 'max_depth': 8, 'min_child_weight': 35, 'gamma': 1.807170883896139, 'reg_alpha': 8.190310209503203e-05}. Best is trial 12 with value: 0.5777160615380883.\n"
     ]
    },
    {
     "name": "stdout",
     "output_type": "stream",
     "text": [
      "1\n"
     ]
    },
    {
     "name": "stderr",
     "output_type": "stream",
     "text": [
      "[I 2024-11-28 22:51:49,755] Trial 49 finished with value: 0.5651643823778914 and parameters: {'learning_rate': 0.22358128759932516, 'reg_lambda': 7.163554428521271e-06, 'max_depth': 8, 'min_child_weight': 64, 'gamma': 0.008362369761758082, 'reg_alpha': 0.4001904174150784}. Best is trial 12 with value: 0.5777160615380883.\n"
     ]
    },
    {
     "name": "stdout",
     "output_type": "stream",
     "text": [
      "3\n",
      "2\n",
      "1\n"
     ]
    },
    {
     "name": "stderr",
     "output_type": "stream",
     "text": [
      "[I 2024-11-28 22:51:50,812] Trial 54 finished with value: 0.5648034517834974 and parameters: {'learning_rate': 0.23028539797298617, 'reg_lambda': 0.1415216409844781, 'max_depth': 8, 'min_child_weight': 61, 'gamma': 1.5356289489970263, 'reg_alpha': 0.00010588612370618818}. Best is trial 12 with value: 0.5777160615380883.\n"
     ]
    },
    {
     "name": "stdout",
     "output_type": "stream",
     "text": [
      "12\n",
      "\n",
      "5\n"
     ]
    },
    {
     "name": "stderr",
     "output_type": "stream",
     "text": [
      "[I 2024-11-28 22:51:52,149] Trial 53 finished with value: 0.5653027041055303 and parameters: {'learning_rate': 0.23210729833412477, 'reg_lambda': 1.156440191733032e-05, 'max_depth': 8, 'min_child_weight': 63, 'gamma': 1.5888314737304539, 'reg_alpha': 0.32852764625196534}. Best is trial 12 with value: 0.5777160615380883.\n"
     ]
    },
    {
     "name": "stdout",
     "output_type": "stream",
     "text": [
      "1\n",
      "3\n"
     ]
    },
    {
     "name": "stderr",
     "output_type": "stream",
     "text": [
      "[I 2024-11-28 22:51:53,556] Trial 56 finished with value: 0.5719480861676771 and parameters: {'learning_rate': 0.23100226590681833, 'reg_lambda': 9.7069549873486e-06, 'max_depth': 8, 'min_child_weight': 34, 'gamma': 1.615669489402599, 'reg_alpha': 4.364588927889282e-05}. Best is trial 12 with value: 0.5777160615380883.\n"
     ]
    },
    {
     "name": "stdout",
     "output_type": "stream",
     "text": [
      "5\n",
      "1\n",
      "2\n",
      "2\n",
      "2\n",
      "1\n",
      "2\n",
      "2\n",
      "2\n",
      "2\n",
      "2\n",
      "2\n",
      "3\n",
      "2\n",
      "5\n",
      "2\n",
      "2\n",
      "2\n",
      "2\n",
      "3\n",
      "3\n",
      "2\n",
      "2\n",
      "2\n",
      "2\n",
      "3\n",
      "4\n",
      "2\n",
      "3\n"
     ]
    },
    {
     "name": "stderr",
     "output_type": "stream",
     "text": [
      "[I 2024-11-28 22:52:13,218] Trial 62 finished with value: 0.5760500061483425 and parameters: {'learning_rate': 0.06577443255184025, 'reg_lambda': 0.056641327570586326, 'max_depth': 8, 'min_child_weight': 64, 'gamma': 1.9546864162132953, 'reg_alpha': 8.205733850974173e-05}. Best is trial 12 with value: 0.5777160615380883.\n"
     ]
    },
    {
     "name": "stdout",
     "output_type": "stream",
     "text": [
      "3\n",
      "2\n",
      "2\n",
      "1\n"
     ]
    },
    {
     "name": "stderr",
     "output_type": "stream",
     "text": [
      "[I 2024-11-28 22:52:15,639] Trial 61 finished with value: 0.5726381700421952 and parameters: {'learning_rate': 0.047799221299834854, 'reg_lambda': 0.04815900379139985, 'max_depth': 9, 'min_child_weight': 65, 'gamma': 0.049350026658716795, 'reg_alpha': 0.00012881637731451475}. Best is trial 12 with value: 0.5777160615380883.\n"
     ]
    },
    {
     "name": "stdout",
     "output_type": "stream",
     "text": [
      "3\n",
      "4\n",
      "1\n",
      "3\n",
      "3\n",
      "3\n",
      "3\n",
      "3\n",
      "3\n"
     ]
    },
    {
     "name": "stderr",
     "output_type": "stream",
     "text": [
      "[I 2024-11-28 22:52:20,512] Trial 63 finished with value: 0.5725685298592839 and parameters: {'learning_rate': 0.06617727846866561, 'reg_lambda': 0.2322505404383738, 'max_depth': 8, 'min_child_weight': 64, 'gamma': 1.9407320352343826, 'reg_alpha': 0.00024105698786874074}. Best is trial 12 with value: 0.5777160615380883.\n"
     ]
    },
    {
     "name": "stdout",
     "output_type": "stream",
     "text": [
      "1\n",
      "3\n",
      "3\n",
      "4\n",
      "3\n",
      "3\n",
      "3\n",
      "3\n",
      "4\n",
      "3\n",
      "3\n",
      "3\n",
      "4\n",
      "3\n",
      "3\n",
      "3\n",
      "4\n",
      "4\n",
      "5\n",
      "3\n",
      "4\n",
      "2\n",
      "4\n",
      "4\n",
      "3\n",
      "5\n",
      "2\n",
      "2\n",
      "4\n",
      "4\n",
      "4\n",
      "4\n",
      "4\n",
      "4\n",
      "4\n",
      "4\n",
      "5\n",
      "4\n",
      "4\n",
      "4\n",
      "4\n",
      "4\n",
      "4\n",
      "5\n",
      "5\n",
      "5\n",
      "4\n"
     ]
    },
    {
     "name": "stderr",
     "output_type": "stream",
     "text": [
      "[I 2024-11-28 22:52:49,200] Trial 64 finished with value: 0.565444245444881 and parameters: {'learning_rate': 0.24043151456860112, 'reg_lambda': 0.09860243454604976, 'max_depth': 8, 'min_child_weight': 62, 'gamma': 1.6762185855573903, 'reg_alpha': 0.00014743897750592425}. Best is trial 12 with value: 0.5777160615380883.\n"
     ]
    },
    {
     "name": "stdout",
     "output_type": "stream",
     "text": [
      "4\n",
      "1\n",
      "5\n",
      "4\n",
      "4\n",
      "5\n",
      "5\n",
      "3\n",
      "5\n"
     ]
    },
    {
     "name": "stderr",
     "output_type": "stream",
     "text": [
      "[I 2024-11-28 22:52:54,714] Trial 65 finished with value: 0.570158004450618 and parameters: {'learning_rate': 0.06496835171562262, 'reg_lambda': 0.046878598424792216, 'max_depth': 8, 'min_child_weight': 62, 'gamma': 1.8458713363277677, 'reg_alpha': 0.00017323054319645705}. Best is trial 12 with value: 0.5777160615380883.\n"
     ]
    },
    {
     "name": "stdout",
     "output_type": "stream",
     "text": [
      "3\n",
      "1\n",
      "4\n",
      "5\n",
      "5\n",
      "3\n",
      "5\n",
      "5\n",
      "5\n",
      "5\n",
      "5\n",
      "5\n"
     ]
    },
    {
     "name": "stderr",
     "output_type": "stream",
     "text": [
      "[I 2024-11-28 22:53:00,439] Trial 80 finished with value: 0.5662538561916918 and parameters: {'learning_rate': 0.18355144455314498, 'reg_lambda': 0.047286939417594674, 'max_depth': 9, 'min_child_weight': 71, 'gamma': 1.7977568008260358, 'reg_alpha': 24.407991264777035}. Best is trial 12 with value: 0.5777160615380883.\n",
      "[I 2024-11-28 22:53:01,088] Trial 66 finished with value: 0.5709680037588687 and parameters: {'learning_rate': 0.0520132762008584, 'reg_lambda': 0.09533912338474078, 'max_depth': 8, 'min_child_weight': 66, 'gamma': 3.7299859349633238, 'reg_alpha': 0.00012053203059128438}. Best is trial 12 with value: 0.5777160615380883.\n"
     ]
    },
    {
     "name": "stdout",
     "output_type": "stream",
     "text": [
      "5\n",
      "1\n",
      "1\n",
      "5\n",
      "5\n",
      "5\n",
      "5\n"
     ]
    },
    {
     "name": "stderr",
     "output_type": "stream",
     "text": [
      "[I 2024-11-28 22:53:05,015] Trial 67 finished with value: 0.5701700425840635 and parameters: {'learning_rate': 0.05790420796598058, 'reg_lambda': 0.18934962859671667, 'max_depth': 8, 'min_child_weight': 62, 'gamma': 0.01748831777346327, 'reg_alpha': 0.00015978710217815832}. Best is trial 12 with value: 0.5777160615380883.\n",
      "[I 2024-11-28 22:53:05,062] Trial 68 finished with value: 0.5729109488003065 and parameters: {'learning_rate': 0.06292243223327793, 'reg_lambda': 0.10234368257034306, 'max_depth': 8, 'min_child_weight': 66, 'gamma': 2.0089234547345205, 'reg_alpha': 9.846177919778101e-05}. Best is trial 12 with value: 0.5777160615380883.\n"
     ]
    },
    {
     "name": "stdout",
     "output_type": "stream",
     "text": [
      "5\n",
      "5\n"
     ]
    },
    {
     "name": "stderr",
     "output_type": "stream",
     "text": [
      "[I 2024-11-28 22:53:05,645] Trial 82 finished with value: 0.5648013544726608 and parameters: {'learning_rate': 0.1804920141498703, 'reg_lambda': 0.00043076062653577023, 'max_depth': 9, 'min_child_weight': 71, 'gamma': 3.7628233355498173, 'reg_alpha': 1.6442766294837772}. Best is trial 12 with value: 0.5777160615380883.\n",
      "[I 2024-11-28 22:53:06,948] Trial 69 finished with value: 0.5737287812344859 and parameters: {'learning_rate': 0.054966345185611665, 'reg_lambda': 0.09276472911068699, 'max_depth': 8, 'min_child_weight': 74, 'gamma': 1.9494769272241101, 'reg_alpha': 0.000302196797831271}. Best is trial 12 with value: 0.5777160615380883.\n"
     ]
    },
    {
     "name": "stdout",
     "output_type": "stream",
     "text": [
      "5\n",
      "2\n",
      "5\n",
      "5\n",
      "4\n"
     ]
    },
    {
     "name": "stderr",
     "output_type": "stream",
     "text": [
      "[I 2024-11-28 22:53:09,494] Trial 70 finished with value: 0.5746995846656138 and parameters: {'learning_rate': 0.06645910756460811, 'reg_lambda': 0.09295932101579646, 'max_depth': 8, 'min_child_weight': 73, 'gamma': 1.8679086209330014, 'reg_alpha': 6.867564427549376e-05}. Best is trial 12 with value: 0.5777160615380883.\n",
      "[I 2024-11-28 22:53:09,513] Trial 71 finished with value: 0.5712727263590853 and parameters: {'learning_rate': 0.17114828432295454, 'reg_lambda': 0.10698976944995184, 'max_depth': 8, 'min_child_weight': 70, 'gamma': 1.80943838599302, 'reg_alpha': 0.0003224571287756672}. Best is trial 12 with value: 0.5777160615380883.\n",
      "[I 2024-11-28 22:53:09,999] Trial 83 finished with value: 0.5731312389002731 and parameters: {'learning_rate': 0.1780935853496117, 'reg_lambda': 0.03437361290887006, 'max_depth': 9, 'min_child_weight': 75, 'gamma': 3.7308404925662844, 'reg_alpha': 1.0650673970462898}. Best is trial 12 with value: 0.5777160615380883.\n",
      "[I 2024-11-28 22:53:11,010] Trial 84 finished with value: 0.5695803978069034 and parameters: {'learning_rate': 0.18112569476837054, 'reg_lambda': 0.0005960396205065611, 'max_depth': 9, 'min_child_weight': 74, 'gamma': 3.809063312960439, 'reg_alpha': 0.017661470197187223}. Best is trial 12 with value: 0.5777160615380883.\n",
      "[I 2024-11-28 22:53:11,474] Trial 86 finished with value: 0.5651536522426668 and parameters: {'learning_rate': 0.1802392523302264, 'reg_lambda': 0.0006507817031875017, 'max_depth': 9, 'min_child_weight': 16, 'gamma': 2.1482576499534005, 'reg_alpha': 0.022374829704015983}. Best is trial 12 with value: 0.5777160615380883.\n",
      "[I 2024-11-28 22:53:11,602] Trial 74 finished with value: 0.5756699684472669 and parameters: {'learning_rate': 0.06673996584321291, 'reg_lambda': 1.1767362097685329e-08, 'max_depth': 8, 'min_child_weight': 73, 'gamma': 0.031352695760871185, 'reg_alpha': 0.0004179861986186862}. Best is trial 12 with value: 0.5777160615380883.\n"
     ]
    },
    {
     "name": "stdout",
     "output_type": "stream",
     "text": [
      "2\n",
      "4\n"
     ]
    },
    {
     "name": "stderr",
     "output_type": "stream",
     "text": [
      "[I 2024-11-28 22:53:12,099] Trial 90 finished with value: 0.574562124790955 and parameters: {'learning_rate': 0.18302211554882658, 'reg_lambda': 0.0006419227475098945, 'max_depth': 9, 'min_child_weight': 76, 'gamma': 3.7944797884226746, 'reg_alpha': 0.015298138811740108}. Best is trial 12 with value: 0.5777160615380883.\n",
      "[I 2024-11-28 22:53:13,019] Trial 75 finished with value: 0.5674955905496593 and parameters: {'learning_rate': 0.2631038261260641, 'reg_lambda': 1.890218907424297e-08, 'max_depth': 9, 'min_child_weight': 74, 'gamma': 0.05217179166788588, 'reg_alpha': 0.000587321766296137}. Best is trial 12 with value: 0.5777160615380883.\n",
      "[I 2024-11-28 22:53:13,260] Trial 72 finished with value: 0.5716432161431094 and parameters: {'learning_rate': 0.055316790759635776, 'reg_lambda': 1.0909924178009376e-08, 'max_depth': 8, 'min_child_weight': 73, 'gamma': 1.9178623627564093, 'reg_alpha': 0.00032090211629686555}. Best is trial 12 with value: 0.5777160615380883.\n"
     ]
    },
    {
     "name": "stdout",
     "output_type": "stream",
     "text": [
      "5\n"
     ]
    },
    {
     "name": "stderr",
     "output_type": "stream",
     "text": [
      "[I 2024-11-28 22:53:13,616] Trial 91 finished with value: 0.5705531210398018 and parameters: {'learning_rate': 0.17878445156743783, 'reg_lambda': 0.00045065737938530624, 'max_depth': 9, 'min_child_weight': 74, 'gamma': 3.8099274799220906, 'reg_alpha': 0.0169989033465285}. Best is trial 12 with value: 0.5777160615380883.\n",
      "[I 2024-11-28 22:53:13,619] Trial 76 finished with value: 0.5661236743569394 and parameters: {'learning_rate': 0.2655742132089267, 'reg_lambda': 0.04823585342460908, 'max_depth': 9, 'min_child_weight': 77, 'gamma': 0.03913208768036602, 'reg_alpha': 0.00035846294682306796}. Best is trial 12 with value: 0.5777160615380883.\n"
     ]
    },
    {
     "name": "stdout",
     "output_type": "stream",
     "text": [
      "4\n"
     ]
    },
    {
     "name": "stderr",
     "output_type": "stream",
     "text": [
      "[I 2024-11-28 22:53:13,985] Trial 73 finished with value: 0.5780589727033894 and parameters: {'learning_rate': 0.06421456292280009, 'reg_lambda': 1.474137475537267e-08, 'max_depth': 8, 'min_child_weight': 72, 'gamma': 0.028030765257318624, 'reg_alpha': 0.00016289766703578003}. Best is trial 73 with value: 0.5780589727033894.\n",
      "[I 2024-11-28 22:53:14,221] Trial 88 finished with value: 0.568710175311062 and parameters: {'learning_rate': 0.17658636482413895, 'reg_lambda': 0.06280675829415626, 'max_depth': 9, 'min_child_weight': 79, 'gamma': 3.836117941996432, 'reg_alpha': 0.023085832408517942}. Best is trial 73 with value: 0.5780589727033894.\n",
      "[I 2024-11-28 22:53:14,505] Trial 92 finished with value: 0.5708050876952407 and parameters: {'learning_rate': 0.18457127370140425, 'reg_lambda': 0.0007881236121385697, 'max_depth': 9, 'min_child_weight': 74, 'gamma': 3.791686147116855, 'reg_alpha': 0.011902571369130846}. Best is trial 73 with value: 0.5780589727033894.\n"
     ]
    },
    {
     "name": "stdout",
     "output_type": "stream",
     "text": [
      "2\n"
     ]
    },
    {
     "name": "stderr",
     "output_type": "stream",
     "text": [
      "[I 2024-11-28 22:53:15,508] Trial 78 finished with value: 0.5724724196163112 and parameters: {'learning_rate': 0.06999771336718572, 'reg_lambda': 0.05572187169408684, 'max_depth': 9, 'min_child_weight': 80, 'gamma': 1.9303123135034974, 'reg_alpha': 0.0004020212144300587}. Best is trial 73 with value: 0.5780589727033894.\n"
     ]
    },
    {
     "name": "stdout",
     "output_type": "stream",
     "text": [
      "2\n"
     ]
    },
    {
     "name": "stderr",
     "output_type": "stream",
     "text": [
      "[I 2024-11-28 22:53:15,803] Trial 77 finished with value: 0.5720355184363004 and parameters: {'learning_rate': 0.17340850456459328, 'reg_lambda': 0.07090814951775912, 'max_depth': 9, 'min_child_weight': 90, 'gamma': 1.9556725182705732, 'reg_alpha': 0.0002907833326500738}. Best is trial 73 with value: 0.5780589727033894.\n",
      "[I 2024-11-28 22:53:15,987] Trial 79 finished with value: 0.5668382420987469 and parameters: {'learning_rate': 0.17989659393673088, 'reg_lambda': 0.000467160931966288, 'max_depth': 9, 'min_child_weight': 71, 'gamma': 1.7670384774895924, 'reg_alpha': 0.00047332818491292733}. Best is trial 73 with value: 0.5780589727033894.\n"
     ]
    },
    {
     "name": "stdout",
     "output_type": "stream",
     "text": [
      "5\n"
     ]
    },
    {
     "name": "stderr",
     "output_type": "stream",
     "text": [
      "[I 2024-11-28 22:53:16,614] Trial 81 finished with value: 0.5719503897623903 and parameters: {'learning_rate': 0.1862220689405025, 'reg_lambda': 0.036528786194681744, 'max_depth': 9, 'min_child_weight': 72, 'gamma': 2.2164793783919623, 'reg_alpha': 0.018126735856188687}. Best is trial 73 with value: 0.5780589727033894.\n",
      "[I 2024-11-28 22:53:17,025] Trial 85 finished with value: 0.5716031269800956 and parameters: {'learning_rate': 0.17969594757492996, 'reg_lambda': 0.05936027070963749, 'max_depth': 9, 'min_child_weight': 73, 'gamma': 2.0966567328188015, 'reg_alpha': 0.014202636190380598}. Best is trial 73 with value: 0.5780589727033894.\n",
      "[I 2024-11-28 22:53:17,137] Trial 87 finished with value: 0.5743137926869756 and parameters: {'learning_rate': 0.17540158826298513, 'reg_lambda': 0.03280825703147124, 'max_depth': 9, 'min_child_weight': 73, 'gamma': 1.2351133652935036, 'reg_alpha': 0.016348499974998}. Best is trial 73 with value: 0.5780589727033894.\n"
     ]
    },
    {
     "name": "stdout",
     "output_type": "stream",
     "text": [
      "3\n",
      "5\n"
     ]
    },
    {
     "name": "stderr",
     "output_type": "stream",
     "text": [
      "[I 2024-11-28 22:53:18,726] Trial 89 finished with value: 0.5679564788902175 and parameters: {'learning_rate': 0.1868616526763337, 'reg_lambda': 0.0006402892245215183, 'max_depth': 9, 'min_child_weight': 71, 'gamma': 2.2073097142716565, 'reg_alpha': 0.018581643408006433}. Best is trial 73 with value: 0.5780589727033894.\n"
     ]
    },
    {
     "name": "stdout",
     "output_type": "stream",
     "text": [
      "3\n"
     ]
    },
    {
     "name": "stderr",
     "output_type": "stream",
     "text": [
      "[I 2024-11-28 22:53:19,257] Trial 95 finished with value: 0.5742485832919234 and parameters: {'learning_rate': 0.17907738398691622, 'reg_lambda': 0.0006480510700970022, 'max_depth': 9, 'min_child_weight': 76, 'gamma': 3.7703751162490424, 'reg_alpha': 0.014283546087074078}. Best is trial 73 with value: 0.5780589727033894.\n"
     ]
    },
    {
     "name": "stdout",
     "output_type": "stream",
     "text": [
      "5\n",
      "3\n",
      "3\n"
     ]
    },
    {
     "name": "stderr",
     "output_type": "stream",
     "text": [
      "[I 2024-11-28 22:53:21,375] Trial 93 finished with value: 0.5661117053315562 and parameters: {'learning_rate': 0.1861599345839241, 'reg_lambda': 0.0007284223819130594, 'max_depth': 9, 'min_child_weight': 77, 'gamma': 2.1994099477871503, 'reg_alpha': 0.012196604985012995}. Best is trial 73 with value: 0.5780589727033894.\n"
     ]
    },
    {
     "name": "stdout",
     "output_type": "stream",
     "text": [
      "4\n"
     ]
    },
    {
     "name": "stderr",
     "output_type": "stream",
     "text": [
      "[I 2024-11-28 22:53:22,057] Trial 94 finished with value: 0.5734623685532766 and parameters: {'learning_rate': 0.0701930571225561, 'reg_lambda': 1.4224381390026172e-06, 'max_depth': 9, 'min_child_weight': 71, 'gamma': 2.2776981878536926, 'reg_alpha': 3.3693047653154586e-07}. Best is trial 73 with value: 0.5780589727033894.\n"
     ]
    },
    {
     "name": "stdout",
     "output_type": "stream",
     "text": [
      "4\n",
      "4\n",
      "4\n",
      "5\n",
      "5\n",
      "5\n"
     ]
    },
    {
     "name": "stderr",
     "output_type": "stream",
     "text": [
      "[I 2024-11-28 22:53:25,197] Trial 96 finished with value: 0.5730185610020846 and parameters: {'learning_rate': 0.1834675713645324, 'reg_lambda': 1.0665675334149358e-06, 'max_depth': 9, 'min_child_weight': 76, 'gamma': 1.2692089323587816, 'reg_alpha': 0.015541467537250298}. Best is trial 73 with value: 0.5780589727033894.\n",
      "[I 2024-11-28 22:53:25,672] Trial 97 finished with value: 0.5713483506562372 and parameters: {'learning_rate': 0.17429407448264353, 'reg_lambda': 0.0006201113719579643, 'max_depth': 9, 'min_child_weight': 76, 'gamma': 2.0388774702383525, 'reg_alpha': 0.021721138543814265}. Best is trial 73 with value: 0.5780589727033894.\n"
     ]
    },
    {
     "name": "stdout",
     "output_type": "stream",
     "text": [
      "5\n"
     ]
    },
    {
     "name": "stderr",
     "output_type": "stream",
     "text": [
      "[I 2024-11-28 22:53:26,544] Trial 99 finished with value: 0.5691172269039463 and parameters: {'learning_rate': 0.17075311879948946, 'reg_lambda': 0.0005176751270490144, 'max_depth': 9, 'min_child_weight': 80, 'gamma': 2.1333537469599677, 'reg_alpha': 3.0575123120595613e-07}. Best is trial 73 with value: 0.5780589727033894.\n",
      "[I 2024-11-28 22:53:27,096] Trial 98 finished with value: 0.565668641725283 and parameters: {'learning_rate': 0.1699639041418185, 'reg_lambda': 0.0004906700617064091, 'max_depth': 9, 'min_child_weight': 47, 'gamma': 1.2976598311843104, 'reg_alpha': 0.01128762845231455}. Best is trial 73 with value: 0.5780589727033894.\n"
     ]
    }
   ],
   "source": [
    "# HYPERPARAMETERTUNING\n",
    "# NO NEED TO RUN ANYMORE: VALUES ARE SAVED AND CAN BE RUN INTO WD IN CHUNK UNDERNEATH\n",
    "bestparams_MG_xgb = functions.parametertuner(model_type = 'xgb', train = data_MatchingGame, feature_lists = MG_features, train_name = 'MatchingGame', trials = 100, jobs = 32)"
   ]
  },
  {
   "cell_type": "code",
   "execution_count": 8,
   "metadata": {},
   "outputs": [],
   "source": [
    "# loading in best params\n",
    "#bestparams_MG_xgb = functions.extract_bestparams('MatchingGame', model_type = 'xgb')"
   ]
  },
  {
   "cell_type": "code",
   "execution_count": 9,
   "metadata": {},
   "outputs": [],
   "source": [
    "# training and testing MatchingGame model: OBS giving one prediction per participant\n",
    "\n",
    "MG_training_xgb = functions.modeltraining(data_MatchingGame,\n",
    "             MG_features,\n",
    "             bestparams_MG_xgb,\n",
    "             'xgb',\n",
    "             'MatchingGame',\n",
    "             save = True)\n",
    "\n",
    "MG_MG_20_test_xgb = functions.modeltesting2(feature_lists = MG_features,\n",
    "             test = MG_MG_20,\n",
    "             model_type = 'xgb',\n",
    "             save = True,\n",
    "             test_name = \"MG_MG_20\",\n",
    "             train_name = 'MatchingGame')\n",
    "\n",
    "MG_Qfam_80_test_xgb = functions.modeltesting2(MG_features,\n",
    "             MG_Qfam_80,\n",
    "             'xgb',\n",
    "             save = True,\n",
    "             test_name = \"MG_Qfam_80\",\n",
    "             train_name = 'MatchingGame')\n",
    "\n",
    "MG_Qfam_20_test_xgb = functions.modeltesting2(MG_features,\n",
    "             MG_Qfam_20,\n",
    "             'xgb',\n",
    "             save = True,\n",
    "             test_name = \"MG_Qfam_20\",\n",
    "             train_name = 'MatchingGame')"
   ]
  },
  {
   "cell_type": "markdown",
   "metadata": {},
   "source": [
    "# SVM"
   ]
  },
  {
   "cell_type": "code",
   "execution_count": 10,
   "metadata": {},
   "outputs": [
    {
     "name": "stderr",
     "output_type": "stream",
     "text": [
      "[I 2024-11-28 22:53:34,542] A new study created in memory with name: no-name-bef54671-e2b6-4e91-88ba-31fc4fb8c997\n"
     ]
    },
    {
     "name": "stdout",
     "output_type": "stream",
     "text": [
      "1\n",
      "1\n",
      "1\n",
      "1\n",
      "1\n",
      "1\n",
      "1\n",
      "1\n",
      "1\n",
      "1\n",
      "1\n",
      "1\n",
      "1\n",
      "1\n",
      "1\n",
      "1\n",
      "1\n",
      "1\n",
      "1\n",
      "1\n",
      "1\n",
      "1\n",
      "1\n",
      "1\n",
      "1\n",
      "1\n",
      "1\n",
      "1\n",
      "1\n",
      "1\n",
      "1\n",
      "1\n",
      "2\n",
      "2\n",
      "3\n",
      "2\n",
      "2\n",
      "2\n",
      "2\n",
      "2\n",
      "2\n",
      "2\n",
      "2\n",
      "2\n",
      "2\n",
      "2\n",
      "4\n",
      "2\n",
      "2\n",
      "2\n",
      "2\n",
      "2\n",
      "2\n",
      "2\n",
      "2\n",
      "2\n",
      "2\n",
      "2\n",
      "2\n",
      "2\n",
      "2\n",
      "2\n",
      "2\n",
      "2\n",
      "2\n",
      "2\n",
      "5\n",
      "3\n"
     ]
    },
    {
     "name": "stderr",
     "output_type": "stream",
     "text": [
      "[I 2024-11-28 22:58:05,455] Trial 10 finished with value: 0.564105649430214 and parameters: {'C': 65.66413028694177, 'gamma': 0.3602224176687265}. Best is trial 10 with value: 0.564105649430214.\n"
     ]
    },
    {
     "name": "stdout",
     "output_type": "stream",
     "text": [
      "1\n",
      "3\n",
      "3\n",
      "3\n",
      "3\n",
      "3\n",
      "3\n",
      "3\n",
      "3\n",
      "3\n",
      "3\n",
      "3\n",
      "3\n",
      "3\n",
      "4\n",
      "3\n",
      "3\n",
      "3\n",
      "3\n",
      "3\n",
      "3\n",
      "3\n",
      "3\n",
      "3\n",
      "3\n",
      "4\n",
      "3\n",
      "3\n",
      "3\n",
      "3\n",
      "3\n",
      "3\n",
      "3\n",
      "2\n",
      "4\n",
      "4\n",
      "4\n",
      "4\n",
      "4\n",
      "4\n",
      "5\n",
      "4\n",
      "4\n",
      "4\n",
      "5\n",
      "4\n",
      "4\n"
     ]
    },
    {
     "name": "stderr",
     "output_type": "stream",
     "text": [
      "[I 2024-11-28 23:03:20,119] Trial 1 finished with value: 0.5566658118651104 and parameters: {'C': 36.02447881400141, 'gamma': 4.25831699240759}. Best is trial 10 with value: 0.564105649430214.\n"
     ]
    },
    {
     "name": "stdout",
     "output_type": "stream",
     "text": [
      "1\n",
      "4\n",
      "5\n",
      "5\n",
      "4\n",
      "4\n",
      "5\n",
      "5\n"
     ]
    },
    {
     "name": "stderr",
     "output_type": "stream",
     "text": [
      "[I 2024-11-28 23:04:14,875] Trial 11 finished with value: 0.5532885117013363 and parameters: {'C': 2.246640544840629, 'gamma': 5.538688737498974}. Best is trial 10 with value: 0.564105649430214.\n"
     ]
    },
    {
     "name": "stdout",
     "output_type": "stream",
     "text": [
      "1\n",
      "4\n",
      "4\n",
      "4\n",
      "4\n",
      "4\n",
      "4\n",
      "5\n",
      "5\n",
      "5\n",
      "4\n",
      "4\n",
      "4\n",
      "4\n",
      "4\n",
      "3\n",
      "4\n",
      "4\n",
      "4\n"
     ]
    },
    {
     "name": "stderr",
     "output_type": "stream",
     "text": [
      "[I 2024-11-28 23:05:21,080] Trial 0 finished with value: 0.5334419723827523 and parameters: {'C': 67.32011589977786, 'gamma': 8.898370941496811}. Best is trial 10 with value: 0.564105649430214.\n"
     ]
    },
    {
     "name": "stdout",
     "output_type": "stream",
     "text": [
      "1\n"
     ]
    },
    {
     "name": "stderr",
     "output_type": "stream",
     "text": [
      "[I 2024-11-28 23:05:28,760] Trial 9 finished with value: 0.5221747361141893 and parameters: {'C': 70.44865948148798, 'gamma': 10.13924000265683}. Best is trial 10 with value: 0.564105649430214.\n"
     ]
    },
    {
     "name": "stdout",
     "output_type": "stream",
     "text": [
      "1\n",
      "5\n",
      "4\n",
      "5\n"
     ]
    },
    {
     "name": "stderr",
     "output_type": "stream",
     "text": [
      "[I 2024-11-28 23:05:46,638] Trial 2 finished with value: 0.5235873655592337 and parameters: {'C': 25.020683501037926, 'gamma': 10.022940880557071}. Best is trial 10 with value: 0.564105649430214.\n"
     ]
    },
    {
     "name": "stdout",
     "output_type": "stream",
     "text": [
      "1\n"
     ]
    },
    {
     "name": "stderr",
     "output_type": "stream",
     "text": [
      "[I 2024-11-28 23:05:51,120] Trial 25 finished with value: 0.5170008332050051 and parameters: {'C': 22.126616205711322, 'gamma': 10.836486565262664}. Best is trial 10 with value: 0.564105649430214.\n"
     ]
    },
    {
     "name": "stdout",
     "output_type": "stream",
     "text": [
      "1\n",
      "5\n"
     ]
    },
    {
     "name": "stderr",
     "output_type": "stream",
     "text": [
      "[I 2024-11-28 23:06:19,973] Trial 3 finished with value: 0.506245323967287 and parameters: {'C': 24.089748144568162, 'gamma': 12.204341646676928}. Best is trial 10 with value: 0.564105649430214.\n"
     ]
    },
    {
     "name": "stdout",
     "output_type": "stream",
     "text": [
      "1\n"
     ]
    },
    {
     "name": "stderr",
     "output_type": "stream",
     "text": [
      "[I 2024-11-28 23:06:27,681] Trial 7 finished with value: 0.5001602428649534 and parameters: {'C': 75.77093077469146, 'gamma': 13.005883431788524}. Best is trial 10 with value: 0.564105649430214.\n"
     ]
    },
    {
     "name": "stdout",
     "output_type": "stream",
     "text": [
      "1\n",
      "5\n"
     ]
    },
    {
     "name": "stderr",
     "output_type": "stream",
     "text": [
      "[I 2024-11-28 23:06:34,933] Trial 15 finished with value: 0.4285706491022069 and parameters: {'C': 0.994613749118862, 'gamma': 83.71448427669574}. Best is trial 10 with value: 0.564105649430214.\n"
     ]
    },
    {
     "name": "stdout",
     "output_type": "stream",
     "text": [
      "1\n",
      "2\n",
      "5\n",
      "5\n",
      "5\n",
      "5\n",
      "5\n",
      "5\n",
      "5\n",
      "5\n",
      "5\n",
      "5\n",
      "5\n",
      "5\n",
      "5\n",
      "5\n",
      "2\n"
     ]
    },
    {
     "name": "stderr",
     "output_type": "stream",
     "text": [
      "[I 2024-11-28 23:07:38,370] Trial 19 finished with value: 0.4515265540863685 and parameters: {'C': 64.51069527408666, 'gamma': 22.113315161980946}. Best is trial 10 with value: 0.564105649430214.\n"
     ]
    },
    {
     "name": "stdout",
     "output_type": "stream",
     "text": [
      "1\n",
      "5\n"
     ]
    },
    {
     "name": "stderr",
     "output_type": "stream",
     "text": [
      "[I 2024-11-28 23:07:45,355] Trial 18 finished with value: 0.4512311266844241 and parameters: {'C': 34.361751087759686, 'gamma': 22.28530235790798}. Best is trial 10 with value: 0.564105649430214.\n"
     ]
    },
    {
     "name": "stdout",
     "output_type": "stream",
     "text": [
      "1\n",
      "5\n",
      "5\n"
     ]
    },
    {
     "name": "stderr",
     "output_type": "stream",
     "text": [
      "[I 2024-11-28 23:08:03,627] Trial 8 finished with value: 0.4335252160398312 and parameters: {'C': 69.17065904480592, 'gamma': 28.12824201935495}. Best is trial 10 with value: 0.564105649430214.\n"
     ]
    },
    {
     "name": "stdout",
     "output_type": "stream",
     "text": [
      "1\n",
      "5\n",
      "4\n"
     ]
    },
    {
     "name": "stderr",
     "output_type": "stream",
     "text": [
      "[I 2024-11-28 23:08:53,767] Trial 5 finished with value: 0.4621589760101723 and parameters: {'C': 3.7156606746173755, 'gamma': 19.341448928999966}. Best is trial 10 with value: 0.564105649430214.\n"
     ]
    },
    {
     "name": "stdout",
     "output_type": "stream",
     "text": [
      "1\n",
      "2\n",
      "2\n",
      "2\n",
      "2\n"
     ]
    },
    {
     "name": "stderr",
     "output_type": "stream",
     "text": [
      "[I 2024-11-28 23:09:15,013] Trial 20 finished with value: 0.42996125485932124 and parameters: {'C': 62.090007671605036, 'gamma': 31.70269355908557}. Best is trial 10 with value: 0.564105649430214.\n"
     ]
    },
    {
     "name": "stdout",
     "output_type": "stream",
     "text": [
      "1\n"
     ]
    },
    {
     "name": "stderr",
     "output_type": "stream",
     "text": [
      "[I 2024-11-28 23:09:16,704] Trial 31 finished with value: 0.4285706491022069 and parameters: {'C': 68.26879926694305, 'gamma': 60.742267194099306}. Best is trial 10 with value: 0.564105649430214.\n"
     ]
    },
    {
     "name": "stdout",
     "output_type": "stream",
     "text": [
      "1\n"
     ]
    },
    {
     "name": "stderr",
     "output_type": "stream",
     "text": [
      "[I 2024-11-28 23:09:23,018] Trial 24 finished with value: 0.4285706491022069 and parameters: {'C': 12.901950637226003, 'gamma': 84.47012189972955}. Best is trial 10 with value: 0.564105649430214.\n"
     ]
    },
    {
     "name": "stdout",
     "output_type": "stream",
     "text": [
      "1\n"
     ]
    },
    {
     "name": "stderr",
     "output_type": "stream",
     "text": [
      "[I 2024-11-28 23:09:25,659] Trial 30 finished with value: 0.4285706491022069 and parameters: {'C': 10.908338146621135, 'gamma': 77.33538576398836}. Best is trial 10 with value: 0.564105649430214.\n"
     ]
    },
    {
     "name": "stdout",
     "output_type": "stream",
     "text": [
      "1\n"
     ]
    },
    {
     "name": "stderr",
     "output_type": "stream",
     "text": [
      "[I 2024-11-28 23:09:27,128] Trial 27 finished with value: 0.4285706491022069 and parameters: {'C': 69.08589943750323, 'gamma': 64.63610109417729}. Best is trial 10 with value: 0.564105649430214.\n"
     ]
    },
    {
     "name": "stdout",
     "output_type": "stream",
     "text": [
      "1\n"
     ]
    },
    {
     "name": "stderr",
     "output_type": "stream",
     "text": [
      "[I 2024-11-28 23:09:31,935] Trial 14 finished with value: 0.4286925489615461 and parameters: {'C': 73.60943951141941, 'gamma': 35.69503307149537}. Best is trial 10 with value: 0.564105649430214.\n"
     ]
    },
    {
     "name": "stdout",
     "output_type": "stream",
     "text": [
      "1\n",
      "2\n"
     ]
    },
    {
     "name": "stderr",
     "output_type": "stream",
     "text": [
      "[I 2024-11-28 23:09:43,500] Trial 23 finished with value: 0.4285706491022069 and parameters: {'C': 88.17699568263261, 'gamma': 86.68901461755395}. Best is trial 10 with value: 0.564105649430214.\n"
     ]
    },
    {
     "name": "stdout",
     "output_type": "stream",
     "text": [
      "1\n"
     ]
    },
    {
     "name": "stderr",
     "output_type": "stream",
     "text": [
      "[I 2024-11-28 23:09:43,733] Trial 6 finished with value: 0.4285706491022069 and parameters: {'C': 91.51344681232948, 'gamma': 59.04289900510615}. Best is trial 10 with value: 0.564105649430214.\n"
     ]
    },
    {
     "name": "stdout",
     "output_type": "stream",
     "text": [
      "1\n"
     ]
    },
    {
     "name": "stderr",
     "output_type": "stream",
     "text": [
      "[I 2024-11-28 23:09:45,622] Trial 17 finished with value: 0.4285706491022069 and parameters: {'C': 29.01499512638316, 'gamma': 94.16171294944061}. Best is trial 10 with value: 0.564105649430214.\n"
     ]
    },
    {
     "name": "stdout",
     "output_type": "stream",
     "text": [
      "1\n"
     ]
    },
    {
     "name": "stderr",
     "output_type": "stream",
     "text": [
      "[I 2024-11-28 23:09:47,945] Trial 29 finished with value: 0.4285706491022069 and parameters: {'C': 65.78563596954835, 'gamma': 90.95595886650489}. Best is trial 10 with value: 0.564105649430214.\n"
     ]
    },
    {
     "name": "stdout",
     "output_type": "stream",
     "text": [
      "1\n"
     ]
    },
    {
     "name": "stderr",
     "output_type": "stream",
     "text": [
      "[I 2024-11-28 23:09:50,604] Trial 13 finished with value: 0.4285706491022069 and parameters: {'C': 87.89526639219461, 'gamma': 89.65753058685729}. Best is trial 10 with value: 0.564105649430214.\n"
     ]
    },
    {
     "name": "stdout",
     "output_type": "stream",
     "text": [
      "1\n"
     ]
    },
    {
     "name": "stderr",
     "output_type": "stream",
     "text": [
      "[I 2024-11-28 23:09:51,411] Trial 26 finished with value: 0.4285706491022069 and parameters: {'C': 78.22448805007325, 'gamma': 55.75519326720637}. Best is trial 10 with value: 0.564105649430214.\n"
     ]
    },
    {
     "name": "stdout",
     "output_type": "stream",
     "text": [
      "1\n",
      "2\n"
     ]
    },
    {
     "name": "stderr",
     "output_type": "stream",
     "text": [
      "[I 2024-11-28 23:09:53,763] Trial 4 finished with value: 0.4285706491022069 and parameters: {'C': 8.228455628380491, 'gamma': 89.9693785030201}. Best is trial 10 with value: 0.564105649430214.\n"
     ]
    },
    {
     "name": "stdout",
     "output_type": "stream",
     "text": [
      "1\n"
     ]
    },
    {
     "name": "stderr",
     "output_type": "stream",
     "text": [
      "[I 2024-11-28 23:09:55,255] Trial 12 finished with value: 0.4285706491022069 and parameters: {'C': 96.65585578853299, 'gamma': 67.11843537065148}. Best is trial 10 with value: 0.564105649430214.\n"
     ]
    },
    {
     "name": "stdout",
     "output_type": "stream",
     "text": [
      "1\n"
     ]
    },
    {
     "name": "stderr",
     "output_type": "stream",
     "text": [
      "[I 2024-11-28 23:09:58,433] Trial 21 finished with value: 0.428533154426578 and parameters: {'C': 1.0947883667533647, 'gamma': 37.472283918081494}. Best is trial 10 with value: 0.564105649430214.\n"
     ]
    },
    {
     "name": "stdout",
     "output_type": "stream",
     "text": [
      "1\n",
      "3\n",
      "2\n"
     ]
    },
    {
     "name": "stderr",
     "output_type": "stream",
     "text": [
      "[I 2024-11-28 23:10:10,894] Trial 16 finished with value: 0.428533154426578 and parameters: {'C': 62.11229073240377, 'gamma': 39.158604735156935}. Best is trial 10 with value: 0.564105649430214.\n"
     ]
    },
    {
     "name": "stdout",
     "output_type": "stream",
     "text": [
      "1\n",
      "2\n"
     ]
    },
    {
     "name": "stderr",
     "output_type": "stream",
     "text": [
      "[I 2024-11-28 23:10:37,184] Trial 28 finished with value: 0.428533154426578 and parameters: {'C': 56.76106932672624, 'gamma': 40.467570756515755}. Best is trial 10 with value: 0.564105649430214.\n"
     ]
    },
    {
     "name": "stdout",
     "output_type": "stream",
     "text": [
      "1\n",
      "2\n",
      "2\n",
      "3\n"
     ]
    },
    {
     "name": "stderr",
     "output_type": "stream",
     "text": [
      "[I 2024-11-28 23:10:56,500] Trial 22 finished with value: 0.4285706491022069 and parameters: {'C': 77.5656046427677, 'gamma': 61.8975645038454}. Best is trial 10 with value: 0.564105649430214.\n"
     ]
    },
    {
     "name": "stdout",
     "output_type": "stream",
     "text": [
      "1\n",
      "2\n",
      "2\n",
      "2\n",
      "5\n",
      "2\n",
      "2\n",
      "2\n",
      "3\n",
      "3\n",
      "3\n",
      "2\n",
      "2\n",
      "2\n",
      "4\n",
      "3\n",
      "3\n",
      "2\n",
      "2\n",
      "3\n",
      "2\n",
      "3\n",
      "2\n",
      "3\n",
      "2\n",
      "2\n",
      "4\n",
      "3\n",
      "4\n",
      "2\n",
      "2\n",
      "2\n",
      "5\n",
      "3\n",
      "3\n",
      "2\n",
      "3\n",
      "3\n"
     ]
    },
    {
     "name": "stderr",
     "output_type": "stream",
     "text": [
      "[I 2024-11-28 23:13:35,950] Trial 52 finished with value: 0.5672229370791053 and parameters: {'C': 47.5989566712272, 'gamma': 0.17802472857964202}. Best is trial 52 with value: 0.5672229370791053.\n"
     ]
    },
    {
     "name": "stdout",
     "output_type": "stream",
     "text": [
      "1\n",
      "5\n",
      "5\n",
      "3\n",
      "4\n"
     ]
    },
    {
     "name": "stderr",
     "output_type": "stream",
     "text": [
      "[I 2024-11-28 23:13:48,855] Trial 32 finished with value: 0.4285706491022069 and parameters: {'C': 35.417667438382274, 'gamma': 68.64416575792885}. Best is trial 52 with value: 0.5672229370791053.\n"
     ]
    },
    {
     "name": "stdout",
     "output_type": "stream",
     "text": [
      "1\n",
      "3\n",
      "3\n"
     ]
    },
    {
     "name": "stderr",
     "output_type": "stream",
     "text": [
      "[I 2024-11-28 23:14:13,280] Trial 55 finished with value: 0.5661487625177405 and parameters: {'C': 49.41292773169111, 'gamma': 0.5669844225707621}. Best is trial 52 with value: 0.5672229370791053.\n"
     ]
    },
    {
     "name": "stdout",
     "output_type": "stream",
     "text": [
      "1\n",
      "4\n"
     ]
    },
    {
     "name": "stderr",
     "output_type": "stream",
     "text": [
      "[I 2024-11-28 23:14:14,552] Trial 57 finished with value: 0.566647211189354 and parameters: {'C': 44.59535308812202, 'gamma': 0.6037446968559368}. Best is trial 52 with value: 0.5672229370791053.\n"
     ]
    },
    {
     "name": "stdout",
     "output_type": "stream",
     "text": [
      "1\n",
      "3\n",
      "3\n",
      "4\n",
      "3\n",
      "4\n",
      "4\n",
      "2\n",
      "5\n",
      "4\n",
      "2\n",
      "2\n",
      "2\n",
      "5\n",
      "3\n"
     ]
    },
    {
     "name": "stderr",
     "output_type": "stream",
     "text": [
      "[I 2024-11-28 23:15:45,576] Trial 58 finished with value: 0.5692176014530966 and parameters: {'C': 47.569852930764405, 'gamma': 0.840405592308668}. Best is trial 58 with value: 0.5692176014530966.\n"
     ]
    },
    {
     "name": "stdout",
     "output_type": "stream",
     "text": [
      "1\n",
      "3\n",
      "5\n",
      "3\n",
      "3\n",
      "3\n",
      "4\n",
      "4\n"
     ]
    },
    {
     "name": "stderr",
     "output_type": "stream",
     "text": [
      "[I 2024-11-28 23:16:05,652] Trial 63 finished with value: 0.5691811823674856 and parameters: {'C': 41.707484528118435, 'gamma': 0.6996687994109614}. Best is trial 58 with value: 0.5692176014530966.\n"
     ]
    },
    {
     "name": "stdout",
     "output_type": "stream",
     "text": [
      "1\n",
      "4\n",
      "3\n",
      "3\n",
      "3\n",
      "3\n",
      "3\n",
      "4\n",
      "5\n",
      "3\n",
      "4\n",
      "5\n",
      "2\n",
      "4\n"
     ]
    },
    {
     "name": "stderr",
     "output_type": "stream",
     "text": [
      "[I 2024-11-28 23:16:43,365] Trial 60 finished with value: 0.5660552499851061 and parameters: {'C': 45.29851771744417, 'gamma': 1.2807763480694163}. Best is trial 58 with value: 0.5692176014530966.\n"
     ]
    },
    {
     "name": "stdout",
     "output_type": "stream",
     "text": [
      "1\n",
      "4\n",
      "4\n",
      "3\n",
      "3\n",
      "4\n",
      "3\n",
      "5\n",
      "4\n"
     ]
    },
    {
     "name": "stderr",
     "output_type": "stream",
     "text": [
      "[I 2024-11-28 23:17:28,938] Trial 56 finished with value: 0.5655784050936458 and parameters: {'C': 47.233063153655365, 'gamma': 1.9579299581401903}. Best is trial 58 with value: 0.5692176014530966.\n"
     ]
    },
    {
     "name": "stdout",
     "output_type": "stream",
     "text": [
      "1\n",
      "5\n",
      "3\n",
      "5\n",
      "5\n"
     ]
    },
    {
     "name": "stderr",
     "output_type": "stream",
     "text": [
      "[I 2024-11-28 23:18:04,069] Trial 67 finished with value: 0.5657808564469703 and parameters: {'C': 45.78966614627051, 'gamma': 0.2666786832955036}. Best is trial 58 with value: 0.5692176014530966.\n"
     ]
    },
    {
     "name": "stdout",
     "output_type": "stream",
     "text": [
      "1\n",
      "4\n",
      "4\n",
      "4\n",
      "4\n"
     ]
    },
    {
     "name": "stderr",
     "output_type": "stream",
     "text": [
      "[I 2024-11-28 23:18:30,828] Trial 62 finished with value: 0.5657914707142984 and parameters: {'C': 39.36381661286487, 'gamma': 2.034599152906962}. Best is trial 58 with value: 0.5692176014530966.\n"
     ]
    },
    {
     "name": "stdout",
     "output_type": "stream",
     "text": [
      "1\n",
      "5\n",
      "4\n",
      "2\n"
     ]
    },
    {
     "name": "stderr",
     "output_type": "stream",
     "text": [
      "[I 2024-11-28 23:18:46,861] Trial 61 finished with value: 0.5646654613864881 and parameters: {'C': 46.44673463988214, 'gamma': 2.487467087006033}. Best is trial 58 with value: 0.5692176014530966.\n"
     ]
    },
    {
     "name": "stdout",
     "output_type": "stream",
     "text": [
      "1\n",
      "5\n",
      "4\n"
     ]
    },
    {
     "name": "stderr",
     "output_type": "stream",
     "text": [
      "[I 2024-11-28 23:18:57,120] Trial 33 finished with value: 0.4285706491022069 and parameters: {'C': 69.36533265837815, 'gamma': 69.21341563437527}. Best is trial 58 with value: 0.5692176014530966.\n"
     ]
    },
    {
     "name": "stdout",
     "output_type": "stream",
     "text": [
      "1\n",
      "5\n",
      "5\n",
      "5\n",
      "5\n",
      "4\n",
      "2\n",
      "5\n",
      "4\n",
      "4\n",
      "5\n",
      "4\n",
      "4\n"
     ]
    },
    {
     "name": "stderr",
     "output_type": "stream",
     "text": [
      "[I 2024-11-28 23:19:54,849] Trial 66 finished with value: 0.5701049939691195 and parameters: {'C': 45.82233865067229, 'gamma': 0.8100242540502144}. Best is trial 66 with value: 0.5701049939691195.\n"
     ]
    },
    {
     "name": "stdout",
     "output_type": "stream",
     "text": [
      "1\n",
      "4\n"
     ]
    },
    {
     "name": "stderr",
     "output_type": "stream",
     "text": [
      "[I 2024-11-28 23:20:03,820] Trial 68 finished with value: 0.5656262969708228 and parameters: {'C': 43.54498529850936, 'gamma': 0.5839344974700891}. Best is trial 66 with value: 0.5701049939691195.\n"
     ]
    },
    {
     "name": "stdout",
     "output_type": "stream",
     "text": [
      "1\n",
      "4\n",
      "4\n",
      "4\n",
      "2\n"
     ]
    },
    {
     "name": "stderr",
     "output_type": "stream",
     "text": [
      "[I 2024-11-28 23:20:11,808] Trial 34 finished with value: 0.428533154426578 and parameters: {'C': 53.63409866667782, 'gamma': 38.573979004834285}. Best is trial 66 with value: 0.5701049939691195.\n"
     ]
    },
    {
     "name": "stdout",
     "output_type": "stream",
     "text": [
      "1\n",
      "4\n",
      "4\n",
      "5\n",
      "5\n",
      "2\n",
      "5\n",
      "5\n",
      "2\n",
      "2\n",
      "5\n",
      "5\n"
     ]
    },
    {
     "name": "stderr",
     "output_type": "stream",
     "text": [
      "[I 2024-11-28 23:21:25,976] Trial 64 finished with value: 0.5659785186070063 and parameters: {'C': 43.736683255516766, 'gamma': 1.9224938592031018}. Best is trial 66 with value: 0.5701049939691195.\n"
     ]
    },
    {
     "name": "stdout",
     "output_type": "stream",
     "text": [
      "1\n"
     ]
    },
    {
     "name": "stderr",
     "output_type": "stream",
     "text": [
      "[I 2024-11-28 23:21:27,380] Trial 36 finished with value: 0.4285706491022069 and parameters: {'C': 94.68752403596054, 'gamma': 87.5564401598275}. Best is trial 66 with value: 0.5701049939691195.\n"
     ]
    },
    {
     "name": "stdout",
     "output_type": "stream",
     "text": [
      "1\n",
      "2\n",
      "3\n"
     ]
    },
    {
     "name": "stderr",
     "output_type": "stream",
     "text": [
      "[I 2024-11-28 23:21:39,237] Trial 35 finished with value: 0.4285706491022069 and parameters: {'C': 10.236659414647594, 'gamma': 54.25942315349619}. Best is trial 66 with value: 0.5701049939691195.\n"
     ]
    },
    {
     "name": "stdout",
     "output_type": "stream",
     "text": [
      "1\n"
     ]
    },
    {
     "name": "stderr",
     "output_type": "stream",
     "text": [
      "[I 2024-11-28 23:21:48,672] Trial 39 finished with value: 0.4285706491022069 and parameters: {'C': 50.78967797887677, 'gamma': 98.21983588543792}. Best is trial 66 with value: 0.5701049939691195.\n"
     ]
    },
    {
     "name": "stdout",
     "output_type": "stream",
     "text": [
      "1\n"
     ]
    },
    {
     "name": "stderr",
     "output_type": "stream",
     "text": [
      "[I 2024-11-28 23:21:53,415] Trial 65 finished with value: 0.5657468529658141 and parameters: {'C': 43.16781012766644, 'gamma': 1.972168864820834}. Best is trial 66 with value: 0.5701049939691195.\n"
     ]
    },
    {
     "name": "stdout",
     "output_type": "stream",
     "text": [
      "1\n"
     ]
    },
    {
     "name": "stderr",
     "output_type": "stream",
     "text": [
      "[I 2024-11-28 23:22:00,088] Trial 38 finished with value: 0.4285706491022069 and parameters: {'C': 48.28796793891149, 'gamma': 43.60654902487966}. Best is trial 66 with value: 0.5701049939691195.\n"
     ]
    },
    {
     "name": "stdout",
     "output_type": "stream",
     "text": [
      "1\n"
     ]
    },
    {
     "name": "stderr",
     "output_type": "stream",
     "text": [
      "[I 2024-11-28 23:22:15,717] Trial 37 finished with value: 0.4285706491022069 and parameters: {'C': 2.867393895393057, 'gamma': 80.28565517029206}. Best is trial 66 with value: 0.5701049939691195.\n"
     ]
    },
    {
     "name": "stdout",
     "output_type": "stream",
     "text": [
      "1\n"
     ]
    },
    {
     "name": "stderr",
     "output_type": "stream",
     "text": [
      "[I 2024-11-28 23:22:16,602] Trial 40 finished with value: 0.4285706491022069 and parameters: {'C': 58.95076276728018, 'gamma': 66.18165688764104}. Best is trial 66 with value: 0.5701049939691195.\n"
     ]
    },
    {
     "name": "stdout",
     "output_type": "stream",
     "text": [
      "1\n",
      "5\n",
      "3\n",
      "5\n",
      "5\n",
      "2\n",
      "5\n",
      "2\n",
      "5\n",
      "2\n",
      "5\n"
     ]
    },
    {
     "name": "stderr",
     "output_type": "stream",
     "text": [
      "[I 2024-11-28 23:23:03,238] Trial 41 finished with value: 0.4285706491022069 and parameters: {'C': 96.90474005271733, 'gamma': 44.61261154284052}. Best is trial 66 with value: 0.5701049939691195.\n"
     ]
    },
    {
     "name": "stdout",
     "output_type": "stream",
     "text": [
      "1\n",
      "5\n",
      "5\n",
      "3\n",
      "5\n"
     ]
    },
    {
     "name": "stderr",
     "output_type": "stream",
     "text": [
      "[I 2024-11-28 23:23:26,325] Trial 43 finished with value: 0.4285706491022069 and parameters: {'C': 48.677734103447065, 'gamma': 47.19949875101955}. Best is trial 66 with value: 0.5701049939691195.\n"
     ]
    },
    {
     "name": "stdout",
     "output_type": "stream",
     "text": [
      "1\n",
      "5\n",
      "3\n"
     ]
    },
    {
     "name": "stderr",
     "output_type": "stream",
     "text": [
      "[I 2024-11-28 23:23:53,526] Trial 42 finished with value: 0.428533154426578 and parameters: {'C': 93.09668140386181, 'gamma': 39.75341516765136}. Best is trial 66 with value: 0.5701049939691195.\n"
     ]
    },
    {
     "name": "stdout",
     "output_type": "stream",
     "text": [
      "1\n",
      "3\n"
     ]
    },
    {
     "name": "stderr",
     "output_type": "stream",
     "text": [
      "[I 2024-11-28 23:24:04,406] Trial 44 finished with value: 0.4285706491022069 and parameters: {'C': 92.09075235655335, 'gamma': 45.607226869023194}. Best is trial 66 with value: 0.5701049939691195.\n"
     ]
    },
    {
     "name": "stdout",
     "output_type": "stream",
     "text": [
      "1\n",
      "2\n",
      "2\n",
      "3\n",
      "2\n",
      "3\n",
      "4\n",
      "2\n",
      "2\n",
      "2\n",
      "2\n"
     ]
    },
    {
     "name": "stderr",
     "output_type": "stream",
     "text": [
      "[I 2024-11-28 23:25:00,322] Trial 46 finished with value: 0.4285706491022069 and parameters: {'C': 98.08265133632158, 'gamma': 46.49697737180764}. Best is trial 66 with value: 0.5701049939691195.\n"
     ]
    },
    {
     "name": "stdout",
     "output_type": "stream",
     "text": [
      "1\n"
     ]
    },
    {
     "name": "stderr",
     "output_type": "stream",
     "text": [
      "[I 2024-11-28 23:25:10,980] Trial 48 finished with value: 0.428533154426578 and parameters: {'C': 93.8150039476486, 'gamma': 42.40120539957198}. Best is trial 66 with value: 0.5701049939691195.\n"
     ]
    },
    {
     "name": "stdout",
     "output_type": "stream",
     "text": [
      "1\n"
     ]
    },
    {
     "name": "stderr",
     "output_type": "stream",
     "text": [
      "[I 2024-11-28 23:25:11,398] Trial 51 finished with value: 0.4285706491022069 and parameters: {'C': 91.81150110969122, 'gamma': 43.411022321700926}. Best is trial 66 with value: 0.5701049939691195.\n"
     ]
    },
    {
     "name": "stdout",
     "output_type": "stream",
     "text": [
      "1\n"
     ]
    },
    {
     "name": "stderr",
     "output_type": "stream",
     "text": [
      "[I 2024-11-28 23:25:12,036] Trial 47 finished with value: 0.4285706491022069 and parameters: {'C': 98.28202888935304, 'gamma': 43.26434057056445}. Best is trial 66 with value: 0.5701049939691195.\n"
     ]
    },
    {
     "name": "stdout",
     "output_type": "stream",
     "text": [
      "1\n",
      "2\n",
      "2\n"
     ]
    },
    {
     "name": "stderr",
     "output_type": "stream",
     "text": [
      "[I 2024-11-28 23:25:24,249] Trial 45 finished with value: 0.4285706491022069 and parameters: {'C': 93.9343875029289, 'gamma': 49.46893309664182}. Best is trial 66 with value: 0.5701049939691195.\n"
     ]
    },
    {
     "name": "stdout",
     "output_type": "stream",
     "text": [
      "1\n",
      "4\n",
      "3\n",
      "3\n"
     ]
    },
    {
     "name": "stderr",
     "output_type": "stream",
     "text": [
      "[I 2024-11-28 23:25:35,892] Trial 49 finished with value: 0.428533154426578 and parameters: {'C': 95.91712754360925, 'gamma': 41.848254428388216}. Best is trial 66 with value: 0.5701049939691195.\n",
      "[I 2024-11-28 23:25:36,022] Trial 53 finished with value: 0.428533154426578 and parameters: {'C': 46.54499359182371, 'gamma': 42.718259213618516}. Best is trial 66 with value: 0.5701049939691195.\n"
     ]
    },
    {
     "name": "stdout",
     "output_type": "stream",
     "text": [
      "1\n",
      "1\n"
     ]
    },
    {
     "name": "stderr",
     "output_type": "stream",
     "text": [
      "[I 2024-11-28 23:25:38,805] Trial 54 finished with value: 0.4285706491022069 and parameters: {'C': 45.752790064111785, 'gamma': 45.42108603308974}. Best is trial 66 with value: 0.5701049939691195.\n"
     ]
    },
    {
     "name": "stdout",
     "output_type": "stream",
     "text": [
      "1\n",
      "3\n"
     ]
    },
    {
     "name": "stderr",
     "output_type": "stream",
     "text": [
      "[I 2024-11-28 23:25:48,356] Trial 50 finished with value: 0.428533154426578 and parameters: {'C': 96.07799321922914, 'gamma': 38.475631436986504}. Best is trial 66 with value: 0.5701049939691195.\n"
     ]
    },
    {
     "name": "stdout",
     "output_type": "stream",
     "text": [
      "1\n",
      "4\n",
      "2\n"
     ]
    },
    {
     "name": "stderr",
     "output_type": "stream",
     "text": [
      "[I 2024-11-28 23:26:21,471] Trial 59 finished with value: 0.428533154426578 and parameters: {'C': 47.532376636137705, 'gamma': 37.62662285048252}. Best is trial 66 with value: 0.5701049939691195.\n"
     ]
    },
    {
     "name": "stdout",
     "output_type": "stream",
     "text": [
      "2\n",
      "4\n",
      "2\n",
      "4\n",
      "4\n",
      "5\n",
      "3\n",
      "3\n",
      "3\n",
      "2\n",
      "2\n",
      "4\n",
      "2\n",
      "2\n",
      "2\n",
      "3\n",
      "3\n",
      "3\n",
      "2\n",
      "2\n",
      "3\n",
      "2\n",
      "3\n",
      "2\n",
      "4\n",
      "3\n",
      "5\n",
      "4\n",
      "5\n",
      "4\n"
     ]
    },
    {
     "name": "stderr",
     "output_type": "stream",
     "text": [
      "[I 2024-11-28 23:28:42,035] Trial 69 finished with value: 0.4856659070091241 and parameters: {'C': 45.15275844274874, 'gamma': 15.257421310141309}. Best is trial 66 with value: 0.5701049939691195.\n"
     ]
    },
    {
     "name": "stdout",
     "output_type": "stream",
     "text": [
      "3\n",
      "5\n",
      "3\n",
      "5\n",
      "5\n",
      "3\n",
      "3\n",
      "3\n",
      "3\n",
      "3\n",
      "4\n",
      "5\n",
      "3\n",
      "3\n",
      "4\n",
      "3\n"
     ]
    },
    {
     "name": "stderr",
     "output_type": "stream",
     "text": [
      "[I 2024-11-28 23:30:04,967] Trial 71 finished with value: 0.4784329762853979 and parameters: {'C': 40.70605218008372, 'gamma': 16.727281266010408}. Best is trial 66 with value: 0.5701049939691195.\n"
     ]
    },
    {
     "name": "stdout",
     "output_type": "stream",
     "text": [
      "4\n",
      "4\n",
      "3\n",
      "4\n"
     ]
    },
    {
     "name": "stderr",
     "output_type": "stream",
     "text": [
      "[I 2024-11-28 23:30:11,502] Trial 70 finished with value: 0.464413783382193 and parameters: {'C': 43.084446708399064, 'gamma': 18.858512041024262}. Best is trial 66 with value: 0.5701049939691195.\n"
     ]
    },
    {
     "name": "stdout",
     "output_type": "stream",
     "text": [
      "4\n",
      "4\n",
      "3\n",
      "4\n",
      "5\n"
     ]
    },
    {
     "name": "stderr",
     "output_type": "stream",
     "text": [
      "[I 2024-11-28 23:30:35,086] Trial 72 finished with value: 0.49148138757128185 and parameters: {'C': 54.52953913990678, 'gamma': 14.068501927670965}. Best is trial 66 with value: 0.5701049939691195.\n"
     ]
    },
    {
     "name": "stdout",
     "output_type": "stream",
     "text": [
      "5\n"
     ]
    },
    {
     "name": "stderr",
     "output_type": "stream",
     "text": [
      "[I 2024-11-28 23:30:48,931] Trial 74 finished with value: 0.4853836746846524 and parameters: {'C': 54.04588611692764, 'gamma': 15.17475767779172}. Best is trial 66 with value: 0.5701049939691195.\n"
     ]
    },
    {
     "name": "stdout",
     "output_type": "stream",
     "text": [
      "5\n"
     ]
    },
    {
     "name": "stderr",
     "output_type": "stream",
     "text": [
      "[I 2024-11-28 23:31:01,853] Trial 73 finished with value: 0.47603409035474425 and parameters: {'C': 55.27481585609902, 'gamma': 17.022640205572728}. Best is trial 66 with value: 0.5701049939691195.\n"
     ]
    },
    {
     "name": "stdout",
     "output_type": "stream",
     "text": [
      "4\n"
     ]
    },
    {
     "name": "stderr",
     "output_type": "stream",
     "text": [
      "[I 2024-11-28 23:31:15,877] Trial 75 finished with value: 0.48205977133021294 and parameters: {'C': 52.68267282131453, 'gamma': 16.21368986215088}. Best is trial 66 with value: 0.5701049939691195.\n"
     ]
    },
    {
     "name": "stdout",
     "output_type": "stream",
     "text": [
      "4\n",
      "4\n",
      "4\n",
      "4\n",
      "4\n",
      "4\n",
      "5\n",
      "4\n",
      "4\n",
      "5\n",
      "4\n"
     ]
    },
    {
     "name": "stderr",
     "output_type": "stream",
     "text": [
      "[I 2024-11-28 23:32:04,223] Trial 78 finished with value: 0.4835907647498753 and parameters: {'C': 55.312298094839626, 'gamma': 15.767410224182717}. Best is trial 66 with value: 0.5701049939691195.\n"
     ]
    },
    {
     "name": "stdout",
     "output_type": "stream",
     "text": [
      "4\n",
      "5\n",
      "5\n"
     ]
    },
    {
     "name": "stderr",
     "output_type": "stream",
     "text": [
      "[I 2024-11-28 23:32:14,961] Trial 76 finished with value: 0.4855592330144331 and parameters: {'C': 56.36734105093455, 'gamma': 15.220067378421504}. Best is trial 66 with value: 0.5701049939691195.\n"
     ]
    },
    {
     "name": "stdout",
     "output_type": "stream",
     "text": [
      "5\n",
      "4\n",
      "5\n"
     ]
    },
    {
     "name": "stderr",
     "output_type": "stream",
     "text": [
      "[I 2024-11-28 23:32:29,450] Trial 77 finished with value: 0.4833331402109164 and parameters: {'C': 54.76278622662046, 'gamma': 15.849735241102973}. Best is trial 66 with value: 0.5701049939691195.\n"
     ]
    },
    {
     "name": "stdout",
     "output_type": "stream",
     "text": [
      "4\n",
      "5\n",
      "5\n",
      "5\n"
     ]
    },
    {
     "name": "stderr",
     "output_type": "stream",
     "text": [
      "[I 2024-11-28 23:33:18,484] Trial 80 finished with value: 0.48344300401233153 and parameters: {'C': 54.77930605095143, 'gamma': 15.840415009848458}. Best is trial 66 with value: 0.5701049939691195.\n"
     ]
    },
    {
     "name": "stdout",
     "output_type": "stream",
     "text": [
      "5\n",
      "5\n",
      "5\n"
     ]
    },
    {
     "name": "stderr",
     "output_type": "stream",
     "text": [
      "[I 2024-11-28 23:33:26,840] Trial 87 finished with value: 0.5401374833662478 and parameters: {'C': 30.268296877849433, 'gamma': 7.2356888500824335}. Best is trial 66 with value: 0.5701049939691195.\n"
     ]
    },
    {
     "name": "stdout",
     "output_type": "stream",
     "text": [
      "5\n",
      "5\n",
      "5\n"
     ]
    },
    {
     "name": "stderr",
     "output_type": "stream",
     "text": [
      "[I 2024-11-28 23:33:36,444] Trial 83 finished with value: 0.48270134949263444 and parameters: {'C': 56.74409839522917, 'gamma': 15.996503754049625}. Best is trial 66 with value: 0.5701049939691195.\n",
      "[I 2024-11-28 23:33:44,314] Trial 79 finished with value: 0.48870971610769554 and parameters: {'C': 38.772884126665986, 'gamma': 14.61058309893673}. Best is trial 66 with value: 0.5701049939691195.\n"
     ]
    },
    {
     "name": "stdout",
     "output_type": "stream",
     "text": [
      "5\n"
     ]
    },
    {
     "name": "stderr",
     "output_type": "stream",
     "text": [
      "[I 2024-11-28 23:33:47,445] Trial 84 finished with value: 0.48390214043659013 and parameters: {'C': 58.18423710802499, 'gamma': 15.609585430880406}. Best is trial 66 with value: 0.5701049939691195.\n"
     ]
    },
    {
     "name": "stdout",
     "output_type": "stream",
     "text": [
      "5\n",
      "5\n",
      "5\n"
     ]
    },
    {
     "name": "stderr",
     "output_type": "stream",
     "text": [
      "[I 2024-11-28 23:34:03,838] Trial 86 finished with value: 0.4834410382098738 and parameters: {'C': 39.2501561428522, 'gamma': 15.798661286133049}. Best is trial 66 with value: 0.5701049939691195.\n"
     ]
    },
    {
     "name": "stdout",
     "output_type": "stream",
     "text": [
      "5\n",
      "5\n"
     ]
    },
    {
     "name": "stderr",
     "output_type": "stream",
     "text": [
      "[I 2024-11-28 23:34:16,787] Trial 81 finished with value: 0.4822469328903941 and parameters: {'C': 53.987833248692816, 'gamma': 16.12780759135785}. Best is trial 66 with value: 0.5701049939691195.\n",
      "[I 2024-11-28 23:34:30,214] Trial 82 finished with value: 0.4794102885196379 and parameters: {'C': 56.41315323227902, 'gamma': 16.56011820086546}. Best is trial 66 with value: 0.5701049939691195.\n",
      "[I 2024-11-28 23:34:33,660] Trial 93 finished with value: 0.5414888176736549 and parameters: {'C': 39.05590281602551, 'gamma': 7.0929992857863216}. Best is trial 66 with value: 0.5701049939691195.\n",
      "[I 2024-11-28 23:34:33,663] Trial 92 finished with value: 0.5434375552246417 and parameters: {'C': 39.51461734610825, 'gamma': 6.786163920573438}. Best is trial 66 with value: 0.5701049939691195.\n",
      "[I 2024-11-28 23:34:38,327] Trial 94 finished with value: 0.5426764242277952 and parameters: {'C': 30.642698644976743, 'gamma': 6.941845172466869}. Best is trial 66 with value: 0.5701049939691195.\n",
      "[I 2024-11-28 23:34:41,385] Trial 95 finished with value: 0.5455221990799513 and parameters: {'C': 31.297726606032235, 'gamma': 6.641407667917572}. Best is trial 66 with value: 0.5701049939691195.\n",
      "[I 2024-11-28 23:34:45,708] Trial 85 finished with value: 0.4850344858706735 and parameters: {'C': 55.556523185522686, 'gamma': 15.37928654899727}. Best is trial 66 with value: 0.5701049939691195.\n",
      "[I 2024-11-28 23:34:46,868] Trial 91 finished with value: 0.5432792454775223 and parameters: {'C': 30.51689577212414, 'gamma': 6.799395575535245}. Best is trial 66 with value: 0.5701049939691195.\n",
      "[I 2024-11-28 23:34:49,220] Trial 96 finished with value: 0.542588287884451 and parameters: {'C': 29.856332966405443, 'gamma': 6.926736192652765}. Best is trial 66 with value: 0.5701049939691195.\n",
      "[I 2024-11-28 23:34:54,690] Trial 88 finished with value: 0.48602095429036163 and parameters: {'C': 39.1778025304156, 'gamma': 15.078553142858247}. Best is trial 66 with value: 0.5701049939691195.\n",
      "[I 2024-11-28 23:34:59,580] Trial 89 finished with value: 0.48548623042340183 and parameters: {'C': 30.346064491228802, 'gamma': 15.186665839156776}. Best is trial 66 with value: 0.5701049939691195.\n",
      "[I 2024-11-28 23:34:59,586] Trial 97 finished with value: 0.5483497815484345 and parameters: {'C': 39.72085147455012, 'gamma': 6.293475687348073}. Best is trial 66 with value: 0.5701049939691195.\n",
      "[I 2024-11-28 23:35:15,306] Trial 99 finished with value: 0.5410987760634468 and parameters: {'C': 40.14547168902892, 'gamma': 7.144907422037143}. Best is trial 66 with value: 0.5701049939691195.\n",
      "[I 2024-11-28 23:35:18,357] Trial 98 finished with value: 0.5393063903044784 and parameters: {'C': 39.726066007696616, 'gamma': 7.330962185553931}. Best is trial 66 with value: 0.5701049939691195.\n",
      "[I 2024-11-28 23:35:23,585] Trial 90 finished with value: 0.4789393637834044 and parameters: {'C': 31.345461343997403, 'gamma': 16.647672109906214}. Best is trial 66 with value: 0.5701049939691195.\n"
     ]
    }
   ],
   "source": [
    "# SVM PARAMETERTUNING\n",
    "bestparams_MG_svm = functions.parametertuner(model_type = 'svm', train = data_MatchingGame, feature_lists = MG_features, train_name = 'MatchingGame', trials = 100, jobs = 32)"
   ]
  },
  {
   "cell_type": "code",
   "execution_count": 11,
   "metadata": {},
   "outputs": [],
   "source": [
    "# loading in hyperparameters\n",
    "#bestparams_MG_svm = functions.extract_bestparams('MatchingGame', model_type = 'svm')\n"
   ]
  },
  {
   "cell_type": "code",
   "execution_count": 12,
   "metadata": {},
   "outputs": [],
   "source": [
    "# training and testing MatchingGame model: OBS giving one prediction per participant\n",
    "\n",
    "MG_training_svm = functions.modeltraining(data_MatchingGame,\n",
    "             MG_features,\n",
    "             bestparams_MG_svm,\n",
    "             'svm',\n",
    "             'MatchingGame',\n",
    "             save = True)"
   ]
  },
  {
   "cell_type": "code",
   "execution_count": 13,
   "metadata": {},
   "outputs": [],
   "source": [
    "# model testing\n",
    "\n",
    "MG_MG_20_test_svm = functions.modeltesting2(\n",
    "             MG_features,\n",
    "             MG_MG_20,\n",
    "             'svm',\n",
    "             save = True,\n",
    "             test_name = \"MG_MG_20\",\n",
    "             train_name = 'MatchingGame')\n",
    "\n",
    "MG_Qfam_80_test_svm = functions.modeltesting2(\n",
    "             MG_features,\n",
    "             MG_Qfam_80,\n",
    "             'svm',\n",
    "             save = True,\n",
    "             test_name = \"MG_Qfam_80\",\n",
    "             train_name = 'MatchingGame')\n",
    "\n",
    "MG_Qfam_20_test_svm = functions.modeltesting2(\n",
    "             MG_features,\n",
    "             MG_Qfam_20,\n",
    "             'svm',\n",
    "             save = True,\n",
    "             test_name = \"MG_Qfam_20\",\n",
    "             train_name = 'MatchingGame')"
   ]
  },
  {
   "cell_type": "markdown",
   "metadata": {},
   "source": [
    "### Questions Familiar - svm"
   ]
  },
  {
   "cell_type": "code",
   "execution_count": 14,
   "metadata": {},
   "outputs": [
    {
     "name": "stderr",
     "output_type": "stream",
     "text": [
      "[I 2024-11-28 23:47:41,779] A new study created in memory with name: no-name-2cc4acea-c294-463d-9d98-546bc97e23dd\n"
     ]
    },
    {
     "name": "stdout",
     "output_type": "stream",
     "text": [
      "1\n",
      "1\n",
      "1\n",
      "1\n",
      "1\n",
      "1\n",
      "1\n",
      "1\n",
      "1\n",
      "1\n",
      "1\n",
      "1\n",
      "1\n",
      "1\n",
      "1\n",
      "1\n",
      "1\n",
      "1\n",
      "1\n",
      "1\n",
      "1\n",
      "1\n",
      "1\n",
      "1\n",
      "1\n",
      "1\n",
      "1\n",
      "1\n",
      "1\n",
      "1\n",
      "1\n",
      "1\n",
      "2\n",
      "2\n",
      "2\n",
      "2\n",
      "2\n",
      "2\n",
      "2\n",
      "2\n",
      "2\n",
      "2\n",
      "2\n",
      "2\n",
      "2\n",
      "2\n",
      "2\n",
      "2\n",
      "2\n",
      "2\n",
      "2\n",
      "2\n",
      "2\n",
      "2\n",
      "2\n",
      "2\n",
      "2\n",
      "2\n",
      "2\n",
      "2\n",
      "2\n",
      "2\n",
      "2\n",
      "3\n",
      "2\n",
      "3\n",
      "3\n",
      "3\n",
      "3\n",
      "3\n",
      "4\n",
      "3\n",
      "3\n",
      "3\n",
      "3\n",
      "3\n",
      "3\n",
      "3\n",
      "3\n",
      "3\n",
      "3\n",
      "3\n",
      "3\n",
      "3\n",
      "3\n",
      "3\n",
      "4\n",
      "3\n",
      "3\n",
      "4\n",
      "3\n",
      "4\n",
      "3\n",
      "3\n",
      "3\n",
      "3\n",
      "3\n",
      "3\n",
      "4\n",
      "3\n",
      "4\n",
      "3\n",
      "4\n",
      "4\n",
      "4\n",
      "4\n",
      "4\n",
      "4\n",
      "4\n",
      "4\n",
      "4\n",
      "4\n",
      "4\n",
      "4\n",
      "4\n",
      "4\n",
      "4\n",
      "4\n",
      "4\n",
      "4\n",
      "4\n",
      "4\n",
      "4\n",
      "4\n",
      "4\n",
      "4\n",
      "4\n",
      "5\n",
      "5\n",
      "4\n",
      "5\n",
      "5\n",
      "5\n",
      "5\n",
      "5\n",
      "5\n",
      "5\n",
      "5\n",
      "5\n",
      "5\n",
      "5\n",
      "5\n",
      "5\n",
      "5\n"
     ]
    },
    {
     "name": "stderr",
     "output_type": "stream",
     "text": [
      "[I 2024-11-28 23:48:31,259] Trial 9 finished with value: 0.5568483643361181 and parameters: {'C': 35.45641311812199, 'gamma': 1.7337250416296954}. Best is trial 9 with value: 0.5568483643361181.\n"
     ]
    },
    {
     "name": "stdout",
     "output_type": "stream",
     "text": [
      "1\n",
      "5\n",
      "5\n",
      "5\n",
      "5\n",
      "5\n",
      "5\n",
      "5\n"
     ]
    },
    {
     "name": "stderr",
     "output_type": "stream",
     "text": [
      "[I 2024-11-28 23:48:32,657] Trial 28 finished with value: 0.4389259151862552 and parameters: {'C': 68.06994341152843, 'gamma': 76.94414857241885}. Best is trial 9 with value: 0.5568483643361181.\n"
     ]
    },
    {
     "name": "stdout",
     "output_type": "stream",
     "text": [
      "5\n",
      "1\n",
      "5\n",
      "5\n",
      "5\n",
      "5\n",
      "5\n"
     ]
    },
    {
     "name": "stderr",
     "output_type": "stream",
     "text": [
      "[I 2024-11-28 23:48:33,555] Trial 31 finished with value: 0.4389259151862552 and parameters: {'C': 58.665306331326306, 'gamma': 55.86303585895135}. Best is trial 9 with value: 0.5568483643361181.\n"
     ]
    },
    {
     "name": "stdout",
     "output_type": "stream",
     "text": [
      "1\n",
      "5\n"
     ]
    },
    {
     "name": "stderr",
     "output_type": "stream",
     "text": [
      "[I 2024-11-28 23:48:34,702] Trial 25 finished with value: 0.4389259151862552 and parameters: {'C': 31.767797982462614, 'gamma': 96.33174419945684}. Best is trial 9 with value: 0.5568483643361181.\n"
     ]
    },
    {
     "name": "stdout",
     "output_type": "stream",
     "text": [
      "1\n",
      "5\n"
     ]
    },
    {
     "name": "stderr",
     "output_type": "stream",
     "text": [
      "[I 2024-11-28 23:48:36,100] Trial 18 finished with value: 0.4389259151862552 and parameters: {'C': 30.39018667177178, 'gamma': 34.28266923438893}. Best is trial 9 with value: 0.5568483643361181.\n"
     ]
    },
    {
     "name": "stdout",
     "output_type": "stream",
     "text": [
      "1\n",
      "5\n"
     ]
    },
    {
     "name": "stderr",
     "output_type": "stream",
     "text": [
      "[I 2024-11-28 23:48:38,055] Trial 16 finished with value: 0.4903869586514441 and parameters: {'C': 53.55899740507346, 'gamma': 12.177556348250473}. Best is trial 9 with value: 0.5568483643361181.\n"
     ]
    },
    {
     "name": "stdout",
     "output_type": "stream",
     "text": [
      "1\n"
     ]
    },
    {
     "name": "stderr",
     "output_type": "stream",
     "text": [
      "[I 2024-11-28 23:48:38,559] Trial 17 finished with value: 0.4389259151862552 and parameters: {'C': 21.690538400496347, 'gamma': 89.7880786940679}. Best is trial 9 with value: 0.5568483643361181.\n"
     ]
    },
    {
     "name": "stdout",
     "output_type": "stream",
     "text": [
      "1\n"
     ]
    },
    {
     "name": "stderr",
     "output_type": "stream",
     "text": [
      "[I 2024-11-28 23:48:39,188] Trial 2 finished with value: 0.4389259151862552 and parameters: {'C': 70.64938966064021, 'gamma': 93.14975647067035}. Best is trial 9 with value: 0.5568483643361181.\n",
      "[I 2024-11-28 23:48:39,275] Trial 13 finished with value: 0.48269833041662186 and parameters: {'C': 2.2638640302705504, 'gamma': 13.631536434972737}. Best is trial 9 with value: 0.5568483643361181.\n"
     ]
    },
    {
     "name": "stdout",
     "output_type": "stream",
     "text": [
      "1\n",
      "1\n"
     ]
    },
    {
     "name": "stderr",
     "output_type": "stream",
     "text": [
      "[I 2024-11-28 23:48:39,468] Trial 1 finished with value: 0.5026858814738207 and parameters: {'C': 32.18728740750102, 'gamma': 9.364928264423213}. Best is trial 9 with value: 0.5568483643361181.\n",
      "[I 2024-11-28 23:48:39,500] Trial 7 finished with value: 0.43911175118937995 and parameters: {'C': 26.37476384111912, 'gamma': 28.342081990995464}. Best is trial 9 with value: 0.5568483643361181.\n",
      "[I 2024-11-28 23:48:39,622] Trial 27 finished with value: 0.5043771014782964 and parameters: {'C': 58.97784612392013, 'gamma': 8.659480629797825}. Best is trial 9 with value: 0.5568483643361181.\n",
      "[I 2024-11-28 23:48:39,641] Trial 6 finished with value: 0.45271995641069973 and parameters: {'C': 56.63429054090359, 'gamma': 20.1207319634127}. Best is trial 9 with value: 0.5568483643361181.\n"
     ]
    },
    {
     "name": "stdout",
     "output_type": "stream",
     "text": [
      "1\n",
      "1\n",
      "1\n",
      "1\n"
     ]
    },
    {
     "name": "stderr",
     "output_type": "stream",
     "text": [
      "[I 2024-11-28 23:48:39,993] Trial 5 finished with value: 0.4389259151862552 and parameters: {'C': 97.67321803615232, 'gamma': 55.558090313555056}. Best is trial 9 with value: 0.5568483643361181.\n"
     ]
    },
    {
     "name": "stdout",
     "output_type": "stream",
     "text": [
      "1\n"
     ]
    },
    {
     "name": "stderr",
     "output_type": "stream",
     "text": [
      "[I 2024-11-28 23:48:40,335] Trial 29 finished with value: 0.4389259151862552 and parameters: {'C': 75.95858441087904, 'gamma': 79.65480462392644}. Best is trial 9 with value: 0.5568483643361181.\n"
     ]
    },
    {
     "name": "stdout",
     "output_type": "stream",
     "text": [
      "1\n"
     ]
    },
    {
     "name": "stderr",
     "output_type": "stream",
     "text": [
      "[I 2024-11-28 23:48:40,892] Trial 23 finished with value: 0.4389259151862552 and parameters: {'C': 73.85508143013091, 'gamma': 83.3352428595004}. Best is trial 9 with value: 0.5568483643361181.\n",
      "[I 2024-11-28 23:48:40,992] Trial 3 finished with value: 0.5153265260083757 and parameters: {'C': 13.745814379698329, 'gamma': 7.5349785393515685}. Best is trial 9 with value: 0.5568483643361181.\n",
      "[I 2024-11-28 23:48:41,090] Trial 22 finished with value: 0.5090064057617589 and parameters: {'C': 22.44427795690492, 'gamma': 8.186555218614036}. Best is trial 9 with value: 0.5568483643361181.\n"
     ]
    },
    {
     "name": "stdout",
     "output_type": "stream",
     "text": [
      "1\n",
      "1\n",
      "1\n"
     ]
    },
    {
     "name": "stderr",
     "output_type": "stream",
     "text": [
      "[I 2024-11-28 23:48:41,127] Trial 19 finished with value: 0.4389259151862552 and parameters: {'C': 52.15529872634286, 'gamma': 61.01323256008054}. Best is trial 9 with value: 0.5568483643361181.\n",
      "[I 2024-11-28 23:48:41,150] Trial 8 finished with value: 0.463479679600169 and parameters: {'C': 39.52669398595162, 'gamma': 17.699249869677843}. Best is trial 9 with value: 0.5568483643361181.\n",
      "[I 2024-11-28 23:48:41,242] Trial 15 finished with value: 0.4389259151862552 and parameters: {'C': 41.032785302410836, 'gamma': 79.2846859921816}. Best is trial 9 with value: 0.5568483643361181.\n",
      "[I 2024-11-28 23:48:41,269] Trial 11 finished with value: 0.4389259151862552 and parameters: {'C': 77.67171620292619, 'gamma': 90.77525746608372}. Best is trial 9 with value: 0.5568483643361181.\n"
     ]
    },
    {
     "name": "stdout",
     "output_type": "stream",
     "text": [
      "1\n",
      "1\n",
      "1\n",
      "1\n"
     ]
    },
    {
     "name": "stderr",
     "output_type": "stream",
     "text": [
      "[I 2024-11-28 23:48:41,417] Trial 26 finished with value: 0.5016968609361029 and parameters: {'C': 39.122695576836136, 'gamma': 9.9247325918406}. Best is trial 9 with value: 0.5568483643361181.\n"
     ]
    },
    {
     "name": "stdout",
     "output_type": "stream",
     "text": [
      "1\n"
     ]
    },
    {
     "name": "stderr",
     "output_type": "stream",
     "text": [
      "[I 2024-11-28 23:48:41,738] Trial 14 finished with value: 0.4389259151862552 and parameters: {'C': 13.617691342259706, 'gamma': 73.55410049753289}. Best is trial 9 with value: 0.5568483643361181.\n",
      "[I 2024-11-28 23:48:41,947] Trial 4 finished with value: 0.4389259151862552 and parameters: {'C': 79.86720155350552, 'gamma': 59.38138963256856}. Best is trial 9 with value: 0.5568483643361181.\n"
     ]
    },
    {
     "name": "stdout",
     "output_type": "stream",
     "text": [
      "1\n",
      "1\n"
     ]
    },
    {
     "name": "stderr",
     "output_type": "stream",
     "text": [
      "[I 2024-11-28 23:48:42,340] Trial 12 finished with value: 0.4389259151862552 and parameters: {'C': 80.6887259291951, 'gamma': 86.95017178505275}. Best is trial 9 with value: 0.5568483643361181.\n"
     ]
    },
    {
     "name": "stdout",
     "output_type": "stream",
     "text": [
      "1\n"
     ]
    },
    {
     "name": "stderr",
     "output_type": "stream",
     "text": [
      "[I 2024-11-28 23:48:42,705] Trial 10 finished with value: 0.4389259151862552 and parameters: {'C': 78.92893209239057, 'gamma': 53.81826545067478}. Best is trial 9 with value: 0.5568483643361181.\n",
      "[I 2024-11-28 23:48:42,802] Trial 20 finished with value: 0.4389259151862552 and parameters: {'C': 22.834861260538723, 'gamma': 57.549287683087954}. Best is trial 9 with value: 0.5568483643361181.\n"
     ]
    },
    {
     "name": "stdout",
     "output_type": "stream",
     "text": [
      "1\n",
      "1\n"
     ]
    },
    {
     "name": "stderr",
     "output_type": "stream",
     "text": [
      "[I 2024-11-28 23:48:43,874] Trial 21 finished with value: 0.4717118364385525 and parameters: {'C': 50.22006692793564, 'gamma': 15.826669771141555}. Best is trial 9 with value: 0.5568483643361181.\n"
     ]
    },
    {
     "name": "stdout",
     "output_type": "stream",
     "text": [
      "1\n",
      "2\n",
      "2\n"
     ]
    },
    {
     "name": "stderr",
     "output_type": "stream",
     "text": [
      "[I 2024-11-28 23:48:45,224] Trial 0 finished with value: 0.4389259151862552 and parameters: {'C': 35.409149233968144, 'gamma': 97.25104189409693}. Best is trial 9 with value: 0.5568483643361181.\n"
     ]
    },
    {
     "name": "stdout",
     "output_type": "stream",
     "text": [
      "1\n",
      "2\n"
     ]
    },
    {
     "name": "stderr",
     "output_type": "stream",
     "text": [
      "[I 2024-11-28 23:48:46,434] Trial 30 finished with value: 0.4389259151862552 and parameters: {'C': 17.13394667862404, 'gamma': 59.88885567370166}. Best is trial 9 with value: 0.5568483643361181.\n"
     ]
    },
    {
     "name": "stdout",
     "output_type": "stream",
     "text": [
      "2\n",
      "1\n"
     ]
    },
    {
     "name": "stderr",
     "output_type": "stream",
     "text": [
      "[I 2024-11-28 23:48:47,523] Trial 24 finished with value: 0.4389259151862552 and parameters: {'C': 39.009953029462956, 'gamma': 85.18757341621344}. Best is trial 9 with value: 0.5568483643361181.\n"
     ]
    },
    {
     "name": "stdout",
     "output_type": "stream",
     "text": [
      "1\n",
      "2\n",
      "2\n",
      "2\n",
      "2\n",
      "2\n",
      "2\n",
      "2\n",
      "2\n",
      "2\n",
      "2\n",
      "2\n",
      "2\n",
      "2\n",
      "2\n",
      "2\n",
      "2\n",
      "2\n",
      "2\n",
      "2\n",
      "2\n",
      "2\n",
      "2\n",
      "2\n",
      "2\n",
      "2\n",
      "3\n",
      "2\n",
      "3\n",
      "3\n",
      "3\n",
      "2\n",
      "3\n",
      "3\n",
      "3\n",
      "3\n",
      "3\n",
      "3\n",
      "3\n",
      "3\n",
      "2\n",
      "3\n",
      "3\n",
      "3\n",
      "4\n",
      "3\n",
      "3\n",
      "4\n",
      "3\n",
      "4\n",
      "3\n",
      "3\n",
      "4\n",
      "4\n",
      "4\n",
      "3\n",
      "4\n",
      "4\n",
      "3\n",
      "4\n",
      "3\n",
      "3\n",
      "4\n",
      "4\n",
      "3\n",
      "4\n",
      "3\n",
      "3\n",
      "3\n",
      "4\n",
      "4\n",
      "4\n",
      "4\n",
      "4\n",
      "3\n",
      "5\n",
      "4\n",
      "5\n",
      "4\n",
      "5\n",
      "4\n",
      "5\n",
      "4\n",
      "5\n",
      "5\n",
      "5\n",
      "3\n",
      "3\n",
      "5\n",
      "5\n",
      "4\n",
      "4\n",
      "4\n",
      "4\n",
      "3\n",
      "4\n",
      "4\n",
      "4\n"
     ]
    },
    {
     "name": "stderr",
     "output_type": "stream",
     "text": [
      "[I 2024-11-28 23:49:14,043] Trial 56 finished with value: 0.5481479081792832 and parameters: {'C': 11.607501198673303, 'gamma': 0.7619815058636279}. Best is trial 9 with value: 0.5568483643361181.\n"
     ]
    },
    {
     "name": "stdout",
     "output_type": "stream",
     "text": [
      "1\n"
     ]
    },
    {
     "name": "stderr",
     "output_type": "stream",
     "text": [
      "[I 2024-11-28 23:49:14,713] Trial 53 finished with value: 0.5165231322721534 and parameters: {'C': 12.84969006318368, 'gamma': 0.16913197574420735}. Best is trial 9 with value: 0.5568483643361181.\n"
     ]
    },
    {
     "name": "stdout",
     "output_type": "stream",
     "text": [
      "1\n"
     ]
    },
    {
     "name": "stderr",
     "output_type": "stream",
     "text": [
      "[I 2024-11-28 23:49:14,953] Trial 51 finished with value: 0.5492093047943686 and parameters: {'C': 7.355948896102067, 'gamma': 1.0038535301587577}. Best is trial 9 with value: 0.5568483643361181.\n"
     ]
    },
    {
     "name": "stdout",
     "output_type": "stream",
     "text": [
      "1\n",
      "5\n"
     ]
    },
    {
     "name": "stderr",
     "output_type": "stream",
     "text": [
      "[I 2024-11-28 23:49:15,594] Trial 50 finished with value: 0.5231842827232327 and parameters: {'C': 5.61997469686249, 'gamma': 0.34703465715533355}. Best is trial 9 with value: 0.5568483643361181.\n",
      "[I 2024-11-28 23:49:15,620] Trial 55 finished with value: 0.5314198020336292 and parameters: {'C': 9.195283999573391, 'gamma': 0.41790098377587004}. Best is trial 9 with value: 0.5568483643361181.\n",
      "[I 2024-11-28 23:49:15,737] Trial 58 finished with value: 0.5273413204567345 and parameters: {'C': 14.239503565281254, 'gamma': 0.25079409185978374}. Best is trial 9 with value: 0.5568483643361181.\n"
     ]
    },
    {
     "name": "stdout",
     "output_type": "stream",
     "text": [
      "5\n",
      "1\n",
      "1\n",
      "1\n"
     ]
    },
    {
     "name": "stderr",
     "output_type": "stream",
     "text": [
      "[I 2024-11-28 23:49:16,009] Trial 47 finished with value: 0.5572630163797866 and parameters: {'C': 43.79815873471113, 'gamma': 0.8005072798496159}. Best is trial 47 with value: 0.5572630163797866.\n"
     ]
    },
    {
     "name": "stdout",
     "output_type": "stream",
     "text": [
      "1\n",
      "5\n",
      "4\n"
     ]
    },
    {
     "name": "stderr",
     "output_type": "stream",
     "text": [
      "[I 2024-11-28 23:49:17,341] Trial 59 finished with value: 0.5252992351546701 and parameters: {'C': 9.324102649103377, 'gamma': 0.2741725457132116}. Best is trial 47 with value: 0.5572630163797866.\n"
     ]
    },
    {
     "name": "stdout",
     "output_type": "stream",
     "text": [
      "1\n",
      "4\n",
      "5\n"
     ]
    },
    {
     "name": "stderr",
     "output_type": "stream",
     "text": [
      "[I 2024-11-28 23:49:17,570] Trial 46 finished with value: 0.5599156963606198 and parameters: {'C': 87.84061698947416, 'gamma': 0.6277186034715232}. Best is trial 46 with value: 0.5599156963606198.\n"
     ]
    },
    {
     "name": "stdout",
     "output_type": "stream",
     "text": [
      "1\n",
      "5\n",
      "4\n",
      "5\n",
      "5\n",
      "5\n",
      "5\n",
      "5\n",
      "4\n",
      "5\n",
      "5\n",
      "2\n",
      "2\n"
     ]
    },
    {
     "name": "stderr",
     "output_type": "stream",
     "text": [
      "[I 2024-11-28 23:49:23,507] Trial 57 finished with value: 0.5578226299981522 and parameters: {'C': 12.546289283547122, 'gamma': 1.5014121584197282}. Best is trial 46 with value: 0.5599156963606198.\n"
     ]
    },
    {
     "name": "stdout",
     "output_type": "stream",
     "text": [
      "1\n",
      "5\n",
      "5\n",
      "5\n",
      "2\n"
     ]
    },
    {
     "name": "stderr",
     "output_type": "stream",
     "text": [
      "[I 2024-11-28 23:49:24,440] Trial 33 finished with value: 0.4389259151862552 and parameters: {'C': 17.233934667310304, 'gamma': 93.19438930210265}. Best is trial 46 with value: 0.5599156963606198.\n"
     ]
    },
    {
     "name": "stdout",
     "output_type": "stream",
     "text": [
      "1\n"
     ]
    },
    {
     "name": "stderr",
     "output_type": "stream",
     "text": [
      "[I 2024-11-28 23:49:24,856] Trial 34 finished with value: 0.4389259151862552 and parameters: {'C': 8.657372072303938, 'gamma': 78.68965614993952}. Best is trial 46 with value: 0.5599156963606198.\n"
     ]
    },
    {
     "name": "stdout",
     "output_type": "stream",
     "text": [
      "5\n",
      "1\n",
      "2\n"
     ]
    },
    {
     "name": "stderr",
     "output_type": "stream",
     "text": [
      "[I 2024-11-28 23:49:24,944] Trial 52 finished with value: 0.5570314569440387 and parameters: {'C': 12.585893871127354, 'gamma': 1.730148113880909}. Best is trial 46 with value: 0.5599156963606198.\n"
     ]
    },
    {
     "name": "stdout",
     "output_type": "stream",
     "text": [
      "1\n",
      "5\n",
      "5\n",
      "5\n"
     ]
    },
    {
     "name": "stderr",
     "output_type": "stream",
     "text": [
      "[I 2024-11-28 23:49:26,675] Trial 44 finished with value: 0.5437140107023082 and parameters: {'C': 93.87004237868072, 'gamma': 4.167338362967876}. Best is trial 46 with value: 0.5599156963606198.\n",
      "[I 2024-11-28 23:49:26,739] Trial 54 finished with value: 0.5566658718294293 and parameters: {'C': 15.429473577207588, 'gamma': 1.700447286886477}. Best is trial 46 with value: 0.5599156963606198.\n"
     ]
    },
    {
     "name": "stdout",
     "output_type": "stream",
     "text": [
      "1\n",
      "1\n",
      "2\n"
     ]
    },
    {
     "name": "stderr",
     "output_type": "stream",
     "text": [
      "[I 2024-11-28 23:49:27,243] Trial 32 finished with value: 0.461746919390552 and parameters: {'C': 77.08251779245776, 'gamma': 18.234736240711214}. Best is trial 46 with value: 0.5599156963606198.\n"
     ]
    },
    {
     "name": "stdout",
     "output_type": "stream",
     "text": [
      "2\n",
      "1\n",
      "5\n"
     ]
    },
    {
     "name": "stderr",
     "output_type": "stream",
     "text": [
      "[I 2024-11-28 23:49:27,727] Trial 35 finished with value: 0.4389259151862552 and parameters: {'C': 27.39720547181711, 'gamma': 86.85239595270885}. Best is trial 46 with value: 0.5599156963606198.\n",
      "[I 2024-11-28 23:49:27,825] Trial 45 finished with value: 0.5502105674329655 and parameters: {'C': 81.906364311441, 'gamma': 3.0447433734114693}. Best is trial 46 with value: 0.5599156963606198.\n"
     ]
    },
    {
     "name": "stdout",
     "output_type": "stream",
     "text": [
      "1\n",
      "1\n",
      "2\n"
     ]
    },
    {
     "name": "stderr",
     "output_type": "stream",
     "text": [
      "[I 2024-11-28 23:49:28,337] Trial 36 finished with value: 0.4389259151862552 and parameters: {'C': 25.94622244767799, 'gamma': 50.13466075877928}. Best is trial 46 with value: 0.5599156963606198.\n"
     ]
    },
    {
     "name": "stdout",
     "output_type": "stream",
     "text": [
      "1\n"
     ]
    },
    {
     "name": "stderr",
     "output_type": "stream",
     "text": [
      "[I 2024-11-28 23:49:28,856] Trial 43 finished with value: 0.5384995360659129 and parameters: {'C': 44.27278770613226, 'gamma': 4.874769780460843}. Best is trial 46 with value: 0.5599156963606198.\n"
     ]
    },
    {
     "name": "stdout",
     "output_type": "stream",
     "text": [
      "1\n",
      "2\n",
      "5\n",
      "2\n"
     ]
    },
    {
     "name": "stderr",
     "output_type": "stream",
     "text": [
      "[I 2024-11-28 23:49:29,819] Trial 37 finished with value: 0.4389259151862552 and parameters: {'C': 84.58729628812867, 'gamma': 92.30226920630275}. Best is trial 46 with value: 0.5599156963606198.\n"
     ]
    },
    {
     "name": "stdout",
     "output_type": "stream",
     "text": [
      "1\n",
      "5\n",
      "3\n"
     ]
    },
    {
     "name": "stderr",
     "output_type": "stream",
     "text": [
      "[I 2024-11-28 23:49:31,301] Trial 60 finished with value: 0.5551965466400425 and parameters: {'C': 12.156105111056409, 'gamma': 1.809495611970931}. Best is trial 46 with value: 0.5599156963606198.\n"
     ]
    },
    {
     "name": "stdout",
     "output_type": "stream",
     "text": [
      "3\n",
      "1\n",
      "5\n"
     ]
    },
    {
     "name": "stderr",
     "output_type": "stream",
     "text": [
      "[I 2024-11-28 23:49:32,534] Trial 39 finished with value: 0.4389259151862552 and parameters: {'C': 60.80203757789328, 'gamma': 94.49691510050874}. Best is trial 46 with value: 0.5599156963606198.\n"
     ]
    },
    {
     "name": "stdout",
     "output_type": "stream",
     "text": [
      "1\n"
     ]
    },
    {
     "name": "stderr",
     "output_type": "stream",
     "text": [
      "[I 2024-11-28 23:49:33,201] Trial 38 finished with value: 0.4389259151862552 and parameters: {'C': 82.01502977681733, 'gamma': 32.79888153768528}. Best is trial 46 with value: 0.5599156963606198.\n"
     ]
    },
    {
     "name": "stdout",
     "output_type": "stream",
     "text": [
      "1\n"
     ]
    },
    {
     "name": "stderr",
     "output_type": "stream",
     "text": [
      "[I 2024-11-28 23:49:33,764] Trial 41 finished with value: 0.4389259151862552 and parameters: {'C': 97.76331087212063, 'gamma': 36.427992628757224}. Best is trial 46 with value: 0.5599156963606198.\n",
      "[I 2024-11-28 23:49:33,929] Trial 40 finished with value: 0.4389259151862552 and parameters: {'C': 11.881802886737377, 'gamma': 44.247328340499436}. Best is trial 46 with value: 0.5599156963606198.\n"
     ]
    },
    {
     "name": "stdout",
     "output_type": "stream",
     "text": [
      "1\n",
      "1\n",
      "3\n",
      "2\n"
     ]
    },
    {
     "name": "stderr",
     "output_type": "stream",
     "text": [
      "[I 2024-11-28 23:49:34,848] Trial 62 finished with value: 0.5538613529296558 and parameters: {'C': 6.918617174378973, 'gamma': 2.1955911376911565}. Best is trial 46 with value: 0.5599156963606198.\n"
     ]
    },
    {
     "name": "stdout",
     "output_type": "stream",
     "text": [
      "1\n"
     ]
    },
    {
     "name": "stderr",
     "output_type": "stream",
     "text": [
      "[I 2024-11-28 23:49:35,097] Trial 49 finished with value: 0.4389259151862552 and parameters: {'C': 8.497634121476965, 'gamma': 42.8660115841994}. Best is trial 46 with value: 0.5599156963606198.\n"
     ]
    },
    {
     "name": "stdout",
     "output_type": "stream",
     "text": [
      "1\n",
      "3\n",
      "4\n"
     ]
    },
    {
     "name": "stderr",
     "output_type": "stream",
     "text": [
      "[I 2024-11-28 23:49:35,810] Trial 48 finished with value: 0.4389259151862552 and parameters: {'C': 8.048885378091402, 'gamma': 42.73917165209783}. Best is trial 46 with value: 0.5599156963606198.\n"
     ]
    },
    {
     "name": "stdout",
     "output_type": "stream",
     "text": [
      "4\n",
      "1\n",
      "2\n",
      "2\n",
      "2\n",
      "2\n",
      "2\n"
     ]
    },
    {
     "name": "stderr",
     "output_type": "stream",
     "text": [
      "[I 2024-11-28 23:49:39,020] Trial 61 finished with value: 0.550782231257655 and parameters: {'C': 12.95628132029469, 'gamma': 2.9770382990277637}. Best is trial 46 with value: 0.5599156963606198.\n"
     ]
    },
    {
     "name": "stdout",
     "output_type": "stream",
     "text": [
      "3\n",
      "1\n"
     ]
    },
    {
     "name": "stderr",
     "output_type": "stream",
     "text": [
      "[I 2024-11-28 23:49:39,294] Trial 42 finished with value: 0.5240653354620415 and parameters: {'C': 93.30741876016523, 'gamma': 6.296519449500611}. Best is trial 46 with value: 0.5599156963606198.\n"
     ]
    },
    {
     "name": "stdout",
     "output_type": "stream",
     "text": [
      "3\n",
      "2\n",
      "1\n",
      "4\n",
      "2\n",
      "4\n",
      "2\n",
      "3\n",
      "2\n",
      "2\n",
      "2\n",
      "3\n",
      "3\n"
     ]
    },
    {
     "name": "stderr",
     "output_type": "stream",
     "text": [
      "[I 2024-11-28 23:49:41,937] Trial 63 finished with value: 0.5514784455685549 and parameters: {'C': 7.024375628686643, 'gamma': 2.8860528337755724}. Best is trial 46 with value: 0.5599156963606198.\n"
     ]
    },
    {
     "name": "stdout",
     "output_type": "stream",
     "text": [
      "1\n",
      "5\n",
      "5\n",
      "2\n",
      "2\n",
      "2\n",
      "2\n",
      "4\n",
      "4\n",
      "2\n",
      "2\n",
      "3\n",
      "2\n",
      "4\n"
     ]
    },
    {
     "name": "stderr",
     "output_type": "stream",
     "text": [
      "[I 2024-11-28 23:49:47,698] Trial 65 finished with value: 0.5250749408611068 and parameters: {'C': 5.536287921098084, 'gamma': 0.39093099049251}. Best is trial 46 with value: 0.5599156963606198.\n"
     ]
    },
    {
     "name": "stdout",
     "output_type": "stream",
     "text": [
      "1\n",
      "3\n",
      "3\n",
      "4\n",
      "5\n",
      "4\n",
      "5\n",
      "2\n",
      "3\n"
     ]
    },
    {
     "name": "stderr",
     "output_type": "stream",
     "text": [
      "[I 2024-11-28 23:49:48,618] Trial 64 finished with value: 0.5495038274531702 and parameters: {'C': 7.676446669929545, 'gamma': 1.1736647805578198}. Best is trial 46 with value: 0.5599156963606198.\n"
     ]
    },
    {
     "name": "stdout",
     "output_type": "stream",
     "text": [
      "1\n",
      "3\n",
      "3\n",
      "2\n",
      "3\n",
      "3\n",
      "2\n",
      "3\n",
      "3\n",
      "3\n",
      "4\n",
      "3\n",
      "4\n",
      "4\n"
     ]
    },
    {
     "name": "stderr",
     "output_type": "stream",
     "text": [
      "[I 2024-11-28 23:49:55,408] Trial 67 finished with value: 0.5400456399102791 and parameters: {'C': 0.35182566111063274, 'gamma': 1.9130717945561484}. Best is trial 46 with value: 0.5599156963606198.\n"
     ]
    },
    {
     "name": "stdout",
     "output_type": "stream",
     "text": [
      "2\n",
      "4\n",
      "1\n",
      "3\n"
     ]
    },
    {
     "name": "stderr",
     "output_type": "stream",
     "text": [
      "[I 2024-11-28 23:49:55,769] Trial 66 finished with value: 0.5453882805022424 and parameters: {'C': 0.8631331327205753, 'gamma': 2.9535699175164054}. Best is trial 46 with value: 0.5599156963606198.\n"
     ]
    },
    {
     "name": "stdout",
     "output_type": "stream",
     "text": [
      "3\n",
      "1\n",
      "3\n",
      "3\n",
      "5\n",
      "5\n",
      "4\n",
      "3\n",
      "4\n",
      "3\n",
      "3\n",
      "5\n",
      "4\n",
      "4\n",
      "4\n",
      "2\n",
      "4\n",
      "5\n",
      "5\n",
      "4\n",
      "2\n",
      "4\n",
      "3\n",
      "4\n",
      "4\n",
      "4\n",
      "4\n",
      "3\n",
      "4\n",
      "5\n"
     ]
    },
    {
     "name": "stderr",
     "output_type": "stream",
     "text": [
      "[I 2024-11-28 23:50:05,662] Trial 70 finished with value: 0.44518543456621956 and parameters: {'C': 45.27104151139436, 'gamma': 23.939270998981414}. Best is trial 46 with value: 0.5599156963606198.\n"
     ]
    },
    {
     "name": "stdout",
     "output_type": "stream",
     "text": [
      "4\n",
      "3\n"
     ]
    },
    {
     "name": "stderr",
     "output_type": "stream",
     "text": [
      "[I 2024-11-28 23:50:06,161] Trial 69 finished with value: 0.44141691674679373 and parameters: {'C': 8.536145217237703, 'gamma': 26.17969829535061}. Best is trial 46 with value: 0.5599156963606198.\n"
     ]
    },
    {
     "name": "stdout",
     "output_type": "stream",
     "text": [
      "4\n",
      "5\n",
      "5\n",
      "2\n",
      "5\n"
     ]
    },
    {
     "name": "stderr",
     "output_type": "stream",
     "text": [
      "[I 2024-11-28 23:50:07,516] Trial 68 finished with value: 0.4388529874465206 and parameters: {'C': 6.761297086043245, 'gamma': 29.490069182682475}. Best is trial 46 with value: 0.5599156963606198.\n"
     ]
    },
    {
     "name": "stdout",
     "output_type": "stream",
     "text": [
      "2\n"
     ]
    },
    {
     "name": "stderr",
     "output_type": "stream",
     "text": [
      "[I 2024-11-28 23:50:07,958] Trial 72 finished with value: 0.44758240349959877 and parameters: {'C': 46.02619836614577, 'gamma': 21.871127507568595}. Best is trial 46 with value: 0.5599156963606198.\n"
     ]
    },
    {
     "name": "stdout",
     "output_type": "stream",
     "text": [
      "4\n",
      "5\n",
      "3\n"
     ]
    },
    {
     "name": "stderr",
     "output_type": "stream",
     "text": [
      "[I 2024-11-28 23:50:09,618] Trial 71 finished with value: 0.4426335971219978 and parameters: {'C': 43.2918323216457, 'gamma': 25.594215554789887}. Best is trial 46 with value: 0.5599156963606198.\n"
     ]
    },
    {
     "name": "stdout",
     "output_type": "stream",
     "text": [
      "5\n",
      "5\n",
      "4\n",
      "5\n",
      "3\n",
      "5\n",
      "5\n",
      "5\n",
      "5\n",
      "3\n"
     ]
    },
    {
     "name": "stderr",
     "output_type": "stream",
     "text": [
      "[I 2024-11-28 23:50:13,071] Trial 73 finished with value: 0.4423577860722756 and parameters: {'C': 44.55422578443599, 'gamma': 25.766186633048115}. Best is trial 46 with value: 0.5599156963606198.\n"
     ]
    },
    {
     "name": "stdout",
     "output_type": "stream",
     "text": [
      "4\n",
      "5\n",
      "5\n",
      "5\n"
     ]
    },
    {
     "name": "stderr",
     "output_type": "stream",
     "text": [
      "[I 2024-11-28 23:50:14,214] Trial 75 finished with value: 0.44757404697899544 and parameters: {'C': 46.42706227772865, 'gamma': 22.979125223629193}. Best is trial 46 with value: 0.5599156963606198.\n"
     ]
    },
    {
     "name": "stdout",
     "output_type": "stream",
     "text": [
      "5\n"
     ]
    },
    {
     "name": "stderr",
     "output_type": "stream",
     "text": [
      "[I 2024-11-28 23:50:14,711] Trial 74 finished with value: 0.44842978177378845 and parameters: {'C': 98.01489091263088, 'gamma': 22.494740187184448}. Best is trial 46 with value: 0.5599156963606198.\n",
      "[I 2024-11-28 23:50:14,877] Trial 76 finished with value: 0.4417836303905466 and parameters: {'C': 95.27175247047842, 'gamma': 26.117711840031863}. Best is trial 46 with value: 0.5599156963606198.\n"
     ]
    },
    {
     "name": "stdout",
     "output_type": "stream",
     "text": [
      "5\n",
      "4\n",
      "5\n",
      "5\n",
      "4\n",
      "4\n"
     ]
    },
    {
     "name": "stderr",
     "output_type": "stream",
     "text": [
      "[I 2024-11-28 23:50:17,574] Trial 77 finished with value: 0.44412038958345346 and parameters: {'C': 85.79330247428429, 'gamma': 24.445872169693587}. Best is trial 46 with value: 0.5599156963606198.\n",
      "[I 2024-11-28 23:50:17,692] Trial 80 finished with value: 0.4485798228075769 and parameters: {'C': 0.718790990625525, 'gamma': 24.216335709377162}. Best is trial 46 with value: 0.5599156963606198.\n",
      "[I 2024-11-28 23:50:18,107] Trial 79 finished with value: 0.44000979741200846 and parameters: {'C': 46.451488113448576, 'gamma': 26.651469950721644}. Best is trial 46 with value: 0.5599156963606198.\n",
      "[I 2024-11-28 23:50:18,398] Trial 78 finished with value: 0.44252964827823227 and parameters: {'C': 46.12276579974204, 'gamma': 24.802879729344923}. Best is trial 46 with value: 0.5599156963606198.\n",
      "[I 2024-11-28 23:50:18,616] Trial 84 finished with value: 0.4426072352091137 and parameters: {'C': 46.773135253518454, 'gamma': 24.996457134229676}. Best is trial 46 with value: 0.5599156963606198.\n"
     ]
    },
    {
     "name": "stdout",
     "output_type": "stream",
     "text": [
      "3\n",
      "5\n"
     ]
    },
    {
     "name": "stderr",
     "output_type": "stream",
     "text": [
      "[I 2024-11-28 23:50:18,771] Trial 81 finished with value: 0.4432762484913816 and parameters: {'C': 0.5371285120979206, 'gamma': 23.614397160132107}. Best is trial 46 with value: 0.5599156963606198.\n"
     ]
    },
    {
     "name": "stdout",
     "output_type": "stream",
     "text": [
      "3\n"
     ]
    },
    {
     "name": "stderr",
     "output_type": "stream",
     "text": [
      "[I 2024-11-28 23:50:18,902] Trial 82 finished with value: 0.4426335971219978 and parameters: {'C': 43.60877734502225, 'gamma': 25.386692212119364}. Best is trial 46 with value: 0.5599156963606198.\n",
      "[I 2024-11-28 23:50:19,055] Trial 83 finished with value: 0.44252964827823227 and parameters: {'C': 43.92249744878326, 'gamma': 24.889187840000787}. Best is trial 46 with value: 0.5599156963606198.\n",
      "[I 2024-11-28 23:50:20,630] Trial 86 finished with value: 0.4467826851966586 and parameters: {'C': 34.45506339791385, 'gamma': 23.460343285966765}. Best is trial 46 with value: 0.5599156963606198.\n",
      "[I 2024-11-28 23:50:20,666] Trial 85 finished with value: 0.4393900254412605 and parameters: {'C': 44.86006810358708, 'gamma': 26.953049134501825}. Best is trial 46 with value: 0.5599156963606198.\n"
     ]
    },
    {
     "name": "stdout",
     "output_type": "stream",
     "text": [
      "5\n"
     ]
    },
    {
     "name": "stderr",
     "output_type": "stream",
     "text": [
      "[I 2024-11-28 23:50:21,124] Trial 90 finished with value: 0.30555017025376224 and parameters: {'C': 0.20672934223141404, 'gamma': 22.241208891138317}. Best is trial 46 with value: 0.5599156963606198.\n",
      "[I 2024-11-28 23:50:21,608] Trial 87 finished with value: 0.4437811098377503 and parameters: {'C': 45.4486416722397, 'gamma': 24.553773528874473}. Best is trial 46 with value: 0.5599156963606198.\n",
      "[I 2024-11-28 23:50:21,771] Trial 91 finished with value: 0.4504699979715746 and parameters: {'C': 0.9568128093457489, 'gamma': 21.486002064079816}. Best is trial 46 with value: 0.5599156963606198.\n",
      "[I 2024-11-28 23:50:21,794] Trial 88 finished with value: 0.4524741279075801 and parameters: {'C': 0.7238663673617669, 'gamma': 23.107642042282887}. Best is trial 46 with value: 0.5599156963606198.\n"
     ]
    },
    {
     "name": "stdout",
     "output_type": "stream",
     "text": [
      "4\n",
      "4\n"
     ]
    },
    {
     "name": "stderr",
     "output_type": "stream",
     "text": [
      "[I 2024-11-28 23:50:23,647] Trial 89 finished with value: 0.4483601515155538 and parameters: {'C': 44.6479578769685, 'gamma': 22.489426721528353}. Best is trial 46 with value: 0.5599156963606198.\n",
      "[I 2024-11-28 23:50:23,963] Trial 92 finished with value: 0.4480990338846704 and parameters: {'C': 45.94560086248599, 'gamma': 22.564854284276976}. Best is trial 46 with value: 0.5599156963606198.\n"
     ]
    },
    {
     "name": "stdout",
     "output_type": "stream",
     "text": [
      "5\n",
      "5\n"
     ]
    },
    {
     "name": "stderr",
     "output_type": "stream",
     "text": [
      "[I 2024-11-28 23:50:25,597] Trial 94 finished with value: 0.4468363382847368 and parameters: {'C': 36.36202021045228, 'gamma': 23.27257055103996}. Best is trial 46 with value: 0.5599156963606198.\n"
     ]
    },
    {
     "name": "stdout",
     "output_type": "stream",
     "text": [
      "5\n",
      "5\n",
      "5\n"
     ]
    },
    {
     "name": "stderr",
     "output_type": "stream",
     "text": [
      "[I 2024-11-28 23:50:28,916] Trial 96 finished with value: 0.450687876825003 and parameters: {'C': 0.5052067795764756, 'gamma': 21.38812036482328}. Best is trial 46 with value: 0.5599156963606198.\n",
      "[I 2024-11-28 23:50:30,048] Trial 93 finished with value: 0.4426335971219978 and parameters: {'C': 18.217908377465005, 'gamma': 25.381048778425562}. Best is trial 46 with value: 0.5599156963606198.\n",
      "[I 2024-11-28 23:50:30,124] Trial 97 finished with value: 0.44661981497534686 and parameters: {'C': 44.89967058555124, 'gamma': 23.316691796100816}. Best is trial 46 with value: 0.5599156963606198.\n"
     ]
    },
    {
     "name": "stdout",
     "output_type": "stream",
     "text": [
      "5\n"
     ]
    },
    {
     "name": "stderr",
     "output_type": "stream",
     "text": [
      "[I 2024-11-28 23:50:32,047] Trial 95 finished with value: 0.4484011532051079 and parameters: {'C': 46.14148566116515, 'gamma': 21.719376646598178}. Best is trial 46 with value: 0.5599156963606198.\n",
      "[I 2024-11-28 23:50:32,519] Trial 99 finished with value: 0.4489360900141636 and parameters: {'C': 33.66892344736219, 'gamma': 21.412724768366797}. Best is trial 46 with value: 0.5599156963606198.\n",
      "[I 2024-11-28 23:50:35,023] Trial 98 finished with value: 0.4840049787327665 and parameters: {'C': 45.01377672748936, 'gamma': 13.049159532098685}. Best is trial 46 with value: 0.5599156963606198.\n"
     ]
    }
   ],
   "source": [
    "# SVM PARAMETERTUNING\n",
    "bestparams_Qfam_svm = functions.parametertuner(model_type = 'svm', train = data_Questions_fam, feature_lists = Qfam_features, train_name = 'Q_fam', trials = 100, jobs = 32)"
   ]
  },
  {
   "cell_type": "code",
   "execution_count": 15,
   "metadata": {},
   "outputs": [],
   "source": [
    "Qfam_training_svm = functions.modeltraining2(data_Questions_fam,\n",
    "             Qfam_features,\n",
    "             bestparams_Qfam_svm,\n",
    "             'svm',\n",
    "             'Qfam',\n",
    "             save = True)"
   ]
  },
  {
   "cell_type": "code",
   "execution_count": 16,
   "metadata": {},
   "outputs": [
    {
     "name": "stderr",
     "output_type": "stream",
     "text": [
      "/home/ucloud/.local/lib/python3.12/site-packages/sklearn/metrics/_classification.py:1531: UndefinedMetricWarning:\n",
      "\n",
      "Precision is ill-defined and being set to 0.0 in labels with no predicted samples. Use `zero_division` parameter to control this behavior.\n",
      "\n",
      "/home/ucloud/.local/lib/python3.12/site-packages/sklearn/metrics/_classification.py:1531: UndefinedMetricWarning:\n",
      "\n",
      "Precision is ill-defined and being set to 0.0 in labels with no predicted samples. Use `zero_division` parameter to control this behavior.\n",
      "\n",
      "/home/ucloud/.local/lib/python3.12/site-packages/sklearn/metrics/_classification.py:1531: UndefinedMetricWarning:\n",
      "\n",
      "Precision is ill-defined and being set to 0.0 in labels with no predicted samples. Use `zero_division` parameter to control this behavior.\n",
      "\n",
      "/home/ucloud/.local/lib/python3.12/site-packages/sklearn/metrics/_classification.py:1531: UndefinedMetricWarning:\n",
      "\n",
      "Precision is ill-defined and being set to 0.0 in labels with no predicted samples. Use `zero_division` parameter to control this behavior.\n",
      "\n",
      "/home/ucloud/.local/lib/python3.12/site-packages/sklearn/metrics/_classification.py:1531: UndefinedMetricWarning:\n",
      "\n",
      "Precision is ill-defined and being set to 0.0 in labels with no predicted samples. Use `zero_division` parameter to control this behavior.\n",
      "\n",
      "/home/ucloud/.local/lib/python3.12/site-packages/sklearn/metrics/_classification.py:1531: UndefinedMetricWarning:\n",
      "\n",
      "Precision is ill-defined and being set to 0.0 in labels with no predicted samples. Use `zero_division` parameter to control this behavior.\n",
      "\n",
      "/home/ucloud/.local/lib/python3.12/site-packages/sklearn/metrics/_classification.py:1531: UndefinedMetricWarning:\n",
      "\n",
      "Precision is ill-defined and being set to 0.0 in labels with no predicted samples. Use `zero_division` parameter to control this behavior.\n",
      "\n",
      "/home/ucloud/.local/lib/python3.12/site-packages/sklearn/metrics/_classification.py:1531: UndefinedMetricWarning:\n",
      "\n",
      "Precision is ill-defined and being set to 0.0 in labels with no predicted samples. Use `zero_division` parameter to control this behavior.\n",
      "\n",
      "/home/ucloud/.local/lib/python3.12/site-packages/sklearn/metrics/_classification.py:1531: UndefinedMetricWarning:\n",
      "\n",
      "Precision is ill-defined and being set to 0.0 in labels with no predicted samples. Use `zero_division` parameter to control this behavior.\n",
      "\n",
      "/home/ucloud/.local/lib/python3.12/site-packages/sklearn/metrics/_classification.py:1531: UndefinedMetricWarning:\n",
      "\n",
      "Precision is ill-defined and being set to 0.0 in labels with no predicted samples. Use `zero_division` parameter to control this behavior.\n",
      "\n",
      "/home/ucloud/.local/lib/python3.12/site-packages/sklearn/metrics/_classification.py:1531: UndefinedMetricWarning:\n",
      "\n",
      "Precision is ill-defined and being set to 0.0 in labels with no predicted samples. Use `zero_division` parameter to control this behavior.\n",
      "\n",
      "/home/ucloud/.local/lib/python3.12/site-packages/sklearn/metrics/_classification.py:1531: UndefinedMetricWarning:\n",
      "\n",
      "Precision is ill-defined and being set to 0.0 in labels with no predicted samples. Use `zero_division` parameter to control this behavior.\n",
      "\n",
      "/home/ucloud/.local/lib/python3.12/site-packages/sklearn/metrics/_classification.py:1531: UndefinedMetricWarning:\n",
      "\n",
      "Precision is ill-defined and being set to 0.0 in labels with no predicted samples. Use `zero_division` parameter to control this behavior.\n",
      "\n",
      "/home/ucloud/.local/lib/python3.12/site-packages/sklearn/metrics/_classification.py:1531: UndefinedMetricWarning:\n",
      "\n",
      "Precision is ill-defined and being set to 0.0 in labels with no predicted samples. Use `zero_division` parameter to control this behavior.\n",
      "\n",
      "/home/ucloud/.local/lib/python3.12/site-packages/sklearn/metrics/_classification.py:1531: UndefinedMetricWarning:\n",
      "\n",
      "Precision is ill-defined and being set to 0.0 in labels with no predicted samples. Use `zero_division` parameter to control this behavior.\n",
      "\n"
     ]
    }
   ],
   "source": [
    "Qfam_qfam_20_test_svm = functions.modeltesting2(\n",
    "             Qfam_features,\n",
    "             Qfam_Qfam_20,\n",
    "             'svm',\n",
    "             save = True,\n",
    "             test_name = \"Qfam_Qfam_20\",\n",
    "             train_name = 'Qfam')\n",
    "\n",
    "Qfam_MG_80_test_svm = functions.modeltesting2(\n",
    "             Qfam_features,\n",
    "             Qfam_MG_80,\n",
    "             'svm',\n",
    "             save = True,\n",
    "             test_name = \"Qfam_MG_80\",\n",
    "             train_name = 'Qfam')\n",
    "\n",
    "Qfam_MG_20_test_svm = functions.modeltesting2(\n",
    "             Qfam_features,\n",
    "             Qfam_MG_20,\n",
    "             'svm',\n",
    "             save = True,\n",
    "             test_name = \"Qfam_MG_20\",\n",
    "             train_name = 'Qfam')\n",
    "\n",
    "Qfam_Qunfam_20_test_svm = functions.modeltesting2(\n",
    "             Qfam_features,\n",
    "             Qfam_Qunfam_20,\n",
    "             'svm',\n",
    "             save = True,\n",
    "             test_name = \"Qfam_Qunfam_20\",\n",
    "             train_name = 'Qfam')\n",
    "\n",
    "Qfam_Qunfam_80_test_svm = functions.modeltesting2(\n",
    "             Qfam_features,\n",
    "             Qfam_Qunfam_80,\n",
    "             'svm',\n",
    "             save = True,\n",
    "             test_name = \"Qfam_Qunfam_80\",\n",
    "             train_name = 'Qfam')"
   ]
  },
  {
   "cell_type": "markdown",
   "metadata": {},
   "source": [
    "### Questions familiar - xgb"
   ]
  },
  {
   "cell_type": "code",
   "execution_count": 17,
   "metadata": {},
   "outputs": [
    {
     "name": "stderr",
     "output_type": "stream",
     "text": [
      "[I 2024-11-28 23:53:52,054] A new study created in memory with name: no-name-7b45097e-5e66-4eef-873c-d7e90db54447\n"
     ]
    },
    {
     "name": "stdout",
     "output_type": "stream",
     "text": [
      "1\n",
      "1\n",
      "1\n",
      "1\n",
      "1\n",
      "1\n",
      "1\n",
      "1\n",
      "1\n",
      "1\n",
      "1\n",
      "1\n",
      "1\n",
      "1\n",
      "1\n",
      "1\n",
      "1\n",
      "1\n",
      "1\n",
      "1\n",
      "1\n",
      "1\n",
      "1\n",
      "1\n",
      "1\n",
      "1\n",
      "1\n",
      "1\n",
      "1\n",
      "1\n",
      "1\n",
      "1\n",
      "2\n",
      "2\n",
      "2\n",
      "2\n",
      "2\n",
      "2\n",
      "2\n",
      "2\n",
      "2\n",
      "2\n",
      "2\n",
      "2\n",
      "2\n",
      "2\n",
      "2\n",
      "2\n",
      "2\n",
      "2\n",
      "2\n",
      "2\n",
      "2\n",
      "2\n",
      "2\n",
      "2\n",
      "2\n",
      "2\n",
      "2\n",
      "2\n",
      "2\n",
      "2\n",
      "2\n",
      "2\n",
      "3\n",
      "3\n",
      "3\n",
      "3\n",
      "33\n",
      "\n",
      "3\n",
      "3\n",
      "3\n",
      "3\n",
      "3\n",
      "3\n",
      "3\n",
      "3\n",
      "3\n",
      "3\n",
      "3\n",
      "3\n",
      "3\n",
      "3\n",
      "3\n",
      "3\n",
      "3\n",
      "3\n",
      "3\n",
      "3\n",
      "4\n",
      "3\n",
      "3\n",
      "3\n",
      "3\n",
      "3\n",
      "4\n",
      "4\n",
      "4\n",
      "4\n",
      "4\n",
      "4\n",
      "4\n",
      "3\n",
      "4\n",
      "4\n",
      "4\n",
      "4\n",
      "4\n",
      "4\n",
      "4\n",
      "4\n",
      "4\n",
      "4\n",
      "4\n",
      "4\n",
      "4\n",
      "4\n",
      "4\n",
      "4\n",
      "4\n",
      "4\n",
      "44\n",
      "\n",
      "4\n",
      "4\n",
      "5\n",
      "4\n",
      "5\n",
      "5\n",
      "5\n",
      "5\n",
      "5\n",
      "5\n",
      "5\n",
      "4\n",
      "5\n",
      "5\n",
      "5\n",
      "5\n",
      "5\n",
      "5\n",
      "5\n",
      "5\n",
      "5\n",
      "5\n",
      "5\n"
     ]
    },
    {
     "name": "stderr",
     "output_type": "stream",
     "text": [
      "[I 2024-11-28 23:54:45,253] Trial 2 finished with value: 0.5368525191761662 and parameters: {'learning_rate': 0.24950234485658213, 'reg_lambda': 0.0025028383030512324, 'max_depth': 7, 'min_child_weight': 20, 'gamma': 4.1195331961815125, 'reg_alpha': 2.8711833753562454e-05}. Best is trial 2 with value: 0.5368525191761662.\n"
     ]
    },
    {
     "name": "stdout",
     "output_type": "stream",
     "text": [
      "5\n",
      "1\n",
      "5\n",
      "5\n",
      "5\n",
      "5\n",
      "5\n"
     ]
    },
    {
     "name": "stderr",
     "output_type": "stream",
     "text": [
      "[I 2024-11-28 23:54:47,179] Trial 4 finished with value: 0.5277058603217402 and parameters: {'learning_rate': 0.17999975429150603, 'reg_lambda': 1.5706411837825567, 'max_depth': 7, 'min_child_weight': 27, 'gamma': 4.86459653990004, 'reg_alpha': 6.357384695982359e-05}. Best is trial 2 with value: 0.5368525191761662.\n"
     ]
    },
    {
     "name": "stdout",
     "output_type": "stream",
     "text": [
      "1\n",
      "5\n"
     ]
    },
    {
     "name": "stderr",
     "output_type": "stream",
     "text": [
      "[I 2024-11-28 23:54:48,126] Trial 20 finished with value: 0.5281170186174229 and parameters: {'learning_rate': 0.25289098985010305, 'reg_lambda': 0.5285942047617143, 'max_depth': 3, 'min_child_weight': 85, 'gamma': 4.614753958617835, 'reg_alpha': 4.9446131888173905}. Best is trial 2 with value: 0.5368525191761662.\n"
     ]
    },
    {
     "name": "stdout",
     "output_type": "stream",
     "text": [
      "1\n",
      "5\n",
      "5\n"
     ]
    },
    {
     "name": "stderr",
     "output_type": "stream",
     "text": [
      "[I 2024-11-28 23:54:49,139] Trial 8 finished with value: 0.5405043449195902 and parameters: {'learning_rate': 0.23779089504213236, 'reg_lambda': 22.474301350097633, 'max_depth': 8, 'min_child_weight': 20, 'gamma': 4.719201152984795, 'reg_alpha': 1.1493231779433924e-08}. Best is trial 8 with value: 0.5405043449195902.\n",
      "[I 2024-11-28 23:54:49,281] Trial 10 finished with value: 0.5381543855624822 and parameters: {'learning_rate': 0.20588561392230567, 'reg_lambda': 1.2812639032373693e-06, 'max_depth': 3, 'min_child_weight': 1, 'gamma': 3.214673124902747, 'reg_alpha': 1.0061818006167778}. Best is trial 8 with value: 0.5405043449195902.\n"
     ]
    },
    {
     "name": "stdout",
     "output_type": "stream",
     "text": [
      "5\n",
      "1\n",
      "5\n",
      "1\n",
      "5\n"
     ]
    },
    {
     "name": "stderr",
     "output_type": "stream",
     "text": [
      "[I 2024-11-28 23:54:50,310] Trial 9 finished with value: 0.5376240328026224 and parameters: {'learning_rate': 0.2616918778807311, 'reg_lambda': 1.7703981096408046, 'max_depth': 7, 'min_child_weight': 11, 'gamma': 3.56709895982241, 'reg_alpha': 4.20683574423229e-08}. Best is trial 8 with value: 0.5405043449195902.\n"
     ]
    },
    {
     "name": "stdout",
     "output_type": "stream",
     "text": [
      "1\n"
     ]
    },
    {
     "name": "stderr",
     "output_type": "stream",
     "text": [
      "[I 2024-11-28 23:54:50,930] Trial 6 finished with value: 0.5375363501670993 and parameters: {'learning_rate': 0.1413303421237187, 'reg_lambda': 0.00031736240866694947, 'max_depth': 5, 'min_child_weight': 2, 'gamma': 2.7882711001886937, 'reg_alpha': 0.07849863529547117}. Best is trial 8 with value: 0.5405043449195902.\n",
      "[I 2024-11-28 23:54:51,042] Trial 15 finished with value: 0.5252904764105215 and parameters: {'learning_rate': 0.1243352010157882, 'reg_lambda': 6.083013186078446e-06, 'max_depth': 6, 'min_child_weight': 92, 'gamma': 4.005749857571862, 'reg_alpha': 17.697667478086608}. Best is trial 8 with value: 0.5405043449195902.\n"
     ]
    },
    {
     "name": "stdout",
     "output_type": "stream",
     "text": [
      "1\n",
      "1\n"
     ]
    },
    {
     "name": "stderr",
     "output_type": "stream",
     "text": [
      "[I 2024-11-28 23:54:51,924] Trial 7 finished with value: 0.5290020573475922 and parameters: {'learning_rate': 0.13552057809849408, 'reg_lambda': 0.6866980289697096, 'max_depth': 7, 'min_child_weight': 40, 'gamma': 2.682679652522528, 'reg_alpha': 13.009561800605407}. Best is trial 8 with value: 0.5405043449195902.\n",
      "[I 2024-11-28 23:54:51,940] Trial 13 finished with value: 0.5299948817710379 and parameters: {'learning_rate': 0.06734963982674907, 'reg_lambda': 1.1368344152824353e-08, 'max_depth': 3, 'min_child_weight': 43, 'gamma': 0.01864734783638855, 'reg_alpha': 0.032107669686480086}. Best is trial 8 with value: 0.5405043449195902.\n",
      "[I 2024-11-28 23:54:51,981] Trial 1 finished with value: 0.5371969566374659 and parameters: {'learning_rate': 0.27312065596198676, 'reg_lambda': 0.07335659698319384, 'max_depth': 8, 'min_child_weight': 81, 'gamma': 3.284025264794578, 'reg_alpha': 8.094705115066574e-06}. Best is trial 8 with value: 0.5405043449195902.\n",
      "[I 2024-11-28 23:54:52,235] Trial 14 finished with value: 0.5288632946040964 and parameters: {'learning_rate': 0.1281599899460834, 'reg_lambda': 4.359524421678342e-05, 'max_depth': 4, 'min_child_weight': 57, 'gamma': 4.867697355346011, 'reg_alpha': 3.278027322506921e-07}. Best is trial 8 with value: 0.5405043449195902.\n",
      "[I 2024-11-28 23:54:52,254] Trial 29 finished with value: 0.5379561434838764 and parameters: {'learning_rate': 0.24629387711732628, 'reg_lambda': 4.7383205003051116e-07, 'max_depth': 5, 'min_child_weight': 18, 'gamma': 3.9138882854506156, 'reg_alpha': 0.006090031396474677}. Best is trial 8 with value: 0.5405043449195902.\n"
     ]
    },
    {
     "name": "stdout",
     "output_type": "stream",
     "text": [
      "1\n",
      "1\n",
      "1\n"
     ]
    },
    {
     "name": "stderr",
     "output_type": "stream",
     "text": [
      "[I 2024-11-28 23:54:52,357] Trial 24 finished with value: 0.5354260518041247 and parameters: {'learning_rate': 0.29059990669176616, 'reg_lambda': 0.0001245101024318422, 'max_depth': 10, 'min_child_weight': 33, 'gamma': 4.887122152362668, 'reg_alpha': 0.003031659204814813}. Best is trial 8 with value: 0.5405043449195902.\n"
     ]
    },
    {
     "name": "stdout",
     "output_type": "stream",
     "text": [
      "1\n",
      "1\n",
      "1\n"
     ]
    },
    {
     "name": "stderr",
     "output_type": "stream",
     "text": [
      "[I 2024-11-28 23:54:54,454] Trial 11 finished with value: 0.5332561518292172 and parameters: {'learning_rate': 0.09717730105489411, 'reg_lambda': 0.0010409126798418388, 'max_depth': 5, 'min_child_weight': 80, 'gamma': 3.7022939302921354, 'reg_alpha': 0.000547286281884253}. Best is trial 8 with value: 0.5405043449195902.\n",
      "[I 2024-11-28 23:54:54,673] Trial 19 finished with value: 0.5343083472466823 and parameters: {'learning_rate': 0.19696658247809873, 'reg_lambda': 0.0007551495682007732, 'max_depth': 7, 'min_child_weight': 59, 'gamma': 3.4654181241183335, 'reg_alpha': 7.183496347260777e-08}. Best is trial 8 with value: 0.5405043449195902.\n",
      "[I 2024-11-28 23:54:54,677] Trial 27 finished with value: 0.5320676868259222 and parameters: {'learning_rate': 0.21151893197034455, 'reg_lambda': 0.4436250584753348, 'max_depth': 6, 'min_child_weight': 81, 'gamma': 4.5292695077529075, 'reg_alpha': 0.0014407289838326883}. Best is trial 8 with value: 0.5405043449195902.\n"
     ]
    },
    {
     "name": "stdout",
     "output_type": "stream",
     "text": [
      "1\n",
      "5\n",
      "1\n",
      "1\n"
     ]
    },
    {
     "name": "stderr",
     "output_type": "stream",
     "text": [
      "[I 2024-11-28 23:54:55,666] Trial 16 finished with value: 0.5281230348968619 and parameters: {'learning_rate': 0.07468449874010513, 'reg_lambda': 3.8354060886920217e-07, 'max_depth': 4, 'min_child_weight': 22, 'gamma': 2.1115460783044693, 'reg_alpha': 18.88146697871712}. Best is trial 8 with value: 0.5405043449195902.\n"
     ]
    },
    {
     "name": "stdout",
     "output_type": "stream",
     "text": [
      "1\n"
     ]
    },
    {
     "name": "stderr",
     "output_type": "stream",
     "text": [
      "[I 2024-11-28 23:54:57,536] Trial 18 finished with value: 0.5392414496979294 and parameters: {'learning_rate': 0.13907213479432934, 'reg_lambda': 0.4325171147467517, 'max_depth': 9, 'min_child_weight': 66, 'gamma': 3.385418220389233, 'reg_alpha': 0.5252689364925895}. Best is trial 8 with value: 0.5405043449195902.\n",
      "[I 2024-11-28 23:54:57,544] Trial 21 finished with value: 0.5308847129361614 and parameters: {'learning_rate': 0.09476293544002458, 'reg_lambda': 9.019556193648462e-08, 'max_depth': 10, 'min_child_weight': 80, 'gamma': 4.703073066381219, 'reg_alpha': 4.548206366293942e-05}. Best is trial 8 with value: 0.5405043449195902.\n",
      "[I 2024-11-28 23:54:57,546] Trial 26 finished with value: 0.5341364140058363 and parameters: {'learning_rate': 0.11592885060834279, 'reg_lambda': 0.00020949677618759552, 'max_depth': 5, 'min_child_weight': 20, 'gamma': 2.5262899139375743, 'reg_alpha': 0.05008356762126483}. Best is trial 8 with value: 0.5405043449195902.\n",
      "[I 2024-11-28 23:54:57,566] Trial 3 finished with value: 0.5308087820480335 and parameters: {'learning_rate': 0.0635639870565527, 'reg_lambda': 0.0012841683448477576, 'max_depth': 8, 'min_child_weight': 57, 'gamma': 3.4482289869749594, 'reg_alpha': 0.0008817137318154706}. Best is trial 8 with value: 0.5405043449195902.\n",
      "[I 2024-11-28 23:54:57,873] Trial 25 finished with value: 0.5297995038725325 and parameters: {'learning_rate': 0.23226935964126313, 'reg_lambda': 20.077724534741336, 'max_depth': 8, 'min_child_weight': 46, 'gamma': 3.19503994279513, 'reg_alpha': 0.0034495703697794704}. Best is trial 8 with value: 0.5405043449195902.\n"
     ]
    },
    {
     "name": "stdout",
     "output_type": "stream",
     "text": [
      "1\n",
      "1\n",
      "1\n"
     ]
    },
    {
     "name": "stderr",
     "output_type": "stream",
     "text": [
      "[I 2024-11-28 23:54:58,889] Trial 30 finished with value: 0.5295276104516294 and parameters: {'learning_rate': 0.09121070063837565, 'reg_lambda': 1.5525929690719423e-05, 'max_depth': 4, 'min_child_weight': 10, 'gamma': 0.5202811678278807, 'reg_alpha': 10.567197732202887}. Best is trial 8 with value: 0.5405043449195902.\n"
     ]
    },
    {
     "name": "stdout",
     "output_type": "stream",
     "text": [
      "1\n",
      "2\n",
      "1\n"
     ]
    },
    {
     "name": "stderr",
     "output_type": "stream",
     "text": [
      "[I 2024-11-28 23:54:59,329] Trial 23 finished with value: 0.5329354552454645 and parameters: {'learning_rate': 0.07059633471881915, 'reg_lambda': 0.00048523181270120454, 'max_depth': 7, 'min_child_weight': 94, 'gamma': 1.8043662372923004, 'reg_alpha': 1.692908820789544e-06}. Best is trial 8 with value: 0.5405043449195902.\n",
      "[I 2024-11-28 23:54:59,666] Trial 28 finished with value: 0.5351905050968793 and parameters: {'learning_rate': 0.1597158035783007, 'reg_lambda': 4.798672225165576e-07, 'max_depth': 10, 'min_child_weight': 64, 'gamma': 3.4116631818103738, 'reg_alpha': 1.3256386410955162e-05}. Best is trial 8 with value: 0.5405043449195902.\n"
     ]
    },
    {
     "name": "stdout",
     "output_type": "stream",
     "text": [
      "1\n",
      "1\n",
      "2\n",
      "1\n",
      "2\n"
     ]
    },
    {
     "name": "stderr",
     "output_type": "stream",
     "text": [
      "[I 2024-11-28 23:55:01,831] Trial 12 finished with value: 0.5373871941651671 and parameters: {'learning_rate': 0.21126078040631946, 'reg_lambda': 1.2639025782904836e-07, 'max_depth': 10, 'min_child_weight': 5, 'gamma': 1.5620686684176461, 'reg_alpha': 6.39903440887035e-07}. Best is trial 8 with value: 0.5405043449195902.\n",
      "[I 2024-11-28 23:55:02,009] Trial 17 finished with value: 0.5398457652392777 and parameters: {'learning_rate': 0.19245608224269706, 'reg_lambda': 4.6098791176981186e-08, 'max_depth': 8, 'min_child_weight': 30, 'gamma': 1.4214795144523562, 'reg_alpha': 2.7163759220703677e-05}. Best is trial 8 with value: 0.5405043449195902.\n",
      "[I 2024-11-28 23:55:02,147] Trial 5 finished with value: 0.5169300397316358 and parameters: {'learning_rate': 0.019855342024479618, 'reg_lambda': 0.0038123858965808375, 'max_depth': 9, 'min_child_weight': 66, 'gamma': 4.645501366912117, 'reg_alpha': 8.314988353001714e-08}. Best is trial 8 with value: 0.5405043449195902.\n",
      "[I 2024-11-28 23:55:02,946] Trial 0 finished with value: 0.5295529562366764 and parameters: {'learning_rate': 0.0279846694120457, 'reg_lambda': 19.961895480186076, 'max_depth': 8, 'min_child_weight': 21, 'gamma': 3.452873295816781, 'reg_alpha': 0.0020596251509764113}. Best is trial 8 with value: 0.5405043449195902.\n"
     ]
    },
    {
     "name": "stdout",
     "output_type": "stream",
     "text": [
      "1\n",
      "1\n",
      "1\n"
     ]
    },
    {
     "name": "stderr",
     "output_type": "stream",
     "text": [
      "[I 2024-11-28 23:55:03,936] Trial 22 finished with value: 0.5375880840296088 and parameters: {'learning_rate': 0.15188131378071418, 'reg_lambda': 0.18085744977171203, 'max_depth': 8, 'min_child_weight': 30, 'gamma': 1.8464878010635843, 'reg_alpha': 2.252492191939268e-06}. Best is trial 8 with value: 0.5405043449195902.\n"
     ]
    },
    {
     "name": "stdout",
     "output_type": "stream",
     "text": [
      "1\n",
      "2\n",
      "12\n",
      "\n",
      "2\n",
      "2\n",
      "2\n",
      "2\n",
      "2\n",
      "2\n",
      "2\n",
      "2\n",
      "2\n",
      "2\n",
      "2\n",
      "2\n"
     ]
    },
    {
     "name": "stderr",
     "output_type": "stream",
     "text": [
      "[I 2024-11-28 23:55:13,746] Trial 31 finished with value: 0.525567914385494 and parameters: {'learning_rate': 0.016808807194672565, 'reg_lambda': 1.0318555813432377, 'max_depth': 10, 'min_child_weight': 19, 'gamma': 1.1612106081209672, 'reg_alpha': 2.590782035293781e-05}. Best is trial 8 with value: 0.5405043449195902.\n"
     ]
    },
    {
     "name": "stdout",
     "output_type": "stream",
     "text": [
      "3\n",
      "2\n",
      "2\n",
      "1\n",
      "2\n",
      "3\n",
      "3\n",
      "2\n",
      "2\n",
      "22\n",
      "\n",
      "2\n",
      "3\n",
      "3\n",
      "3\n",
      "2\n",
      "2\n",
      "2\n",
      "2\n",
      "3\n",
      "2\n",
      "3\n",
      "2\n",
      "3\n",
      "3\n",
      "3\n",
      "4\n",
      "3\n",
      "3\n",
      "3\n",
      "3\n",
      "3\n",
      "3\n",
      "4\n",
      "4\n",
      "2\n",
      "3\n",
      "3\n",
      "3\n",
      "3\n",
      "3\n",
      "4\n",
      "4\n",
      "4\n",
      "3\n",
      "4\n",
      "3\n",
      "4\n",
      "4\n",
      "3\n",
      "4\n",
      "3\n",
      "4\n",
      "4\n",
      "4\n",
      "3\n",
      "3\n",
      "4\n",
      "4\n",
      "5\n",
      "4\n",
      "4\n",
      "5\n",
      "4\n",
      "5\n",
      "4\n",
      "3\n",
      "3\n",
      "4\n",
      "4\n",
      "3\n",
      "3\n",
      "4\n",
      "4\n",
      "5\n",
      "5\n",
      "5\n",
      "4\n",
      "5\n",
      "5\n",
      "4\n"
     ]
    },
    {
     "name": "stderr",
     "output_type": "stream",
     "text": [
      "[I 2024-11-28 23:55:54,133] Trial 32 finished with value: 0.5295159630935729 and parameters: {'learning_rate': 0.2452296830318952, 'reg_lambda': 1.2295549378867618, 'max_depth': 7, 'min_child_weight': 49, 'gamma': 3.291512714527254, 'reg_alpha': 3.8927846667965447e-07}. Best is trial 8 with value: 0.5405043449195902.\n"
     ]
    },
    {
     "name": "stdout",
     "output_type": "stream",
     "text": [
      "1\n",
      "5\n",
      "5\n",
      "4\n",
      "5\n",
      "5\n",
      "4\n",
      "5\n"
     ]
    },
    {
     "name": "stderr",
     "output_type": "stream",
     "text": [
      "[I 2024-11-28 23:55:57,740] Trial 34 finished with value: 0.5329716294453825 and parameters: {'learning_rate': 0.29984001498599605, 'reg_lambda': 2.292417909352175, 'max_depth': 6, 'min_child_weight': 64, 'gamma': 2.541249298577762, 'reg_alpha': 0.0012704912459449939}. Best is trial 8 with value: 0.5405043449195902.\n"
     ]
    },
    {
     "name": "stdout",
     "output_type": "stream",
     "text": [
      "4\n",
      "5\n",
      "4\n",
      "5\n"
     ]
    },
    {
     "name": "stderr",
     "output_type": "stream",
     "text": [
      "[I 2024-11-28 23:55:58,927] Trial 33 finished with value: 0.5352077842716118 and parameters: {'learning_rate': 0.1246231212164086, 'reg_lambda': 0.49254800383627245, 'max_depth': 5, 'min_child_weight': 92, 'gamma': 1.2784225149388933, 'reg_alpha': 4.054772853019547e-08}. Best is trial 8 with value: 0.5405043449195902.\n"
     ]
    },
    {
     "name": "stdout",
     "output_type": "stream",
     "text": [
      "1\n",
      "5\n",
      "1\n",
      "5\n",
      "5\n",
      "5\n",
      "4\n"
     ]
    },
    {
     "name": "stderr",
     "output_type": "stream",
     "text": [
      "[I 2024-11-28 23:56:02,944] Trial 39 finished with value: 0.5320535145972375 and parameters: {'learning_rate': 0.1531952045751984, 'reg_lambda': 3.073954169342385e-07, 'max_depth': 4, 'min_child_weight': 44, 'gamma': 0.9003012290489942, 'reg_alpha': 2.304217552669879e-06}. Best is trial 8 with value: 0.5405043449195902.\n"
     ]
    },
    {
     "name": "stdout",
     "output_type": "stream",
     "text": [
      "1\n",
      "5\n"
     ]
    },
    {
     "name": "stderr",
     "output_type": "stream",
     "text": [
      "[I 2024-11-28 23:56:04,233] Trial 36 finished with value: 0.5381946438399523 and parameters: {'learning_rate': 0.06436037813302593, 'reg_lambda': 0.14147129932221747, 'max_depth': 8, 'min_child_weight': 98, 'gamma': 0.13535694681889254, 'reg_alpha': 0.46875869342778437}. Best is trial 8 with value: 0.5405043449195902.\n"
     ]
    },
    {
     "name": "stdout",
     "output_type": "stream",
     "text": [
      "5\n"
     ]
    },
    {
     "name": "stderr",
     "output_type": "stream",
     "text": [
      "[I 2024-11-28 23:56:04,619] Trial 37 finished with value: 0.5409010855435789 and parameters: {'learning_rate': 0.11463807752720587, 'reg_lambda': 0.3611130394130867, 'max_depth': 5, 'min_child_weight': 10, 'gamma': 2.3223095453984217, 'reg_alpha': 5.759978482709283e-07}. Best is trial 37 with value: 0.5409010855435789.\n",
      "[I 2024-11-28 23:56:04,701] Trial 38 finished with value: 0.5363457758129699 and parameters: {'learning_rate': 0.18318688652242787, 'reg_lambda': 4.907387716992123e-06, 'max_depth': 10, 'min_child_weight': 100, 'gamma': 2.5094010181437327, 'reg_alpha': 1.2866802792977953e-08}. Best is trial 37 with value: 0.5409010855435789.\n",
      "[I 2024-11-28 23:56:04,995] Trial 48 finished with value: 0.5384102916232609 and parameters: {'learning_rate': 0.21614831702032983, 'reg_lambda': 3.331428710333261e-07, 'max_depth': 9, 'min_child_weight': 9, 'gamma': 1.920490516032971, 'reg_alpha': 0.4802163689561752}. Best is trial 37 with value: 0.5409010855435789.\n"
     ]
    },
    {
     "name": "stdout",
     "output_type": "stream",
     "text": [
      "1\n",
      "5\n",
      "4\n",
      "1\n",
      "1\n",
      "1\n",
      "4\n",
      "5\n",
      "5\n",
      "2\n"
     ]
    },
    {
     "name": "stderr",
     "output_type": "stream",
     "text": [
      "[I 2024-11-28 23:56:09,011] Trial 49 finished with value: 0.5287473468361391 and parameters: {'learning_rate': 0.21470471146264558, 'reg_lambda': 0.02930867863706368, 'max_depth': 9, 'min_child_weight': 2, 'gamma': 1.6428122967100913, 'reg_alpha': 0.5922476147962324}. Best is trial 37 with value: 0.5409010855435789.\n"
     ]
    },
    {
     "name": "stdout",
     "output_type": "stream",
     "text": [
      "5\n",
      "1\n"
     ]
    },
    {
     "name": "stderr",
     "output_type": "stream",
     "text": [
      "[I 2024-11-28 23:56:10,601] Trial 46 finished with value: 0.5333370787344609 and parameters: {'learning_rate': 0.1996129871445699, 'reg_lambda': 2.8657127726062053e-07, 'max_depth': 9, 'min_child_weight': 1, 'gamma': 1.295889185506355, 'reg_alpha': 0.34047762904890566}. Best is trial 37 with value: 0.5409010855435789.\n",
      "[I 2024-11-28 23:56:10,849] Trial 44 finished with value: 0.5320577232331867 and parameters: {'learning_rate': 0.20835809719068066, 'reg_lambda': 1.931974420882729e-07, 'max_depth': 9, 'min_child_weight': 61, 'gamma': 1.4567623216804293, 'reg_alpha': 1.3066394652499103e-08}. Best is trial 37 with value: 0.5409010855435789.\n",
      "[I 2024-11-28 23:56:10,921] Trial 42 finished with value: 0.533752552617458 and parameters: {'learning_rate': 0.19988307477526285, 'reg_lambda': 7.826011732743049e-07, 'max_depth': 10, 'min_child_weight': 63, 'gamma': 1.5419111023832142, 'reg_alpha': 1.479490876788744e-08}. Best is trial 37 with value: 0.5409010855435789.\n",
      "[I 2024-11-28 23:56:11,140] Trial 40 finished with value: 0.5320087075365876 and parameters: {'learning_rate': 0.19951386960732875, 'reg_lambda': 1.5383718354982457e-06, 'max_depth': 10, 'min_child_weight': 63, 'gamma': 1.4097063612047416, 'reg_alpha': 1.3140019378287703e-08}. Best is trial 37 with value: 0.5409010855435789.\n",
      "[I 2024-11-28 23:56:11,715] Trial 53 finished with value: 0.5278182518039548 and parameters: {'learning_rate': 0.1655453697601401, 'reg_lambda': 0.027783655205222225, 'max_depth': 9, 'min_child_weight': 2, 'gamma': 1.8564971922479632, 'reg_alpha': 0.5015289994714116}. Best is trial 37 with value: 0.5409010855435789.\n"
     ]
    },
    {
     "name": "stdout",
     "output_type": "stream",
     "text": [
      "1\n",
      "1\n",
      "2\n",
      "1\n",
      "5\n",
      "1\n"
     ]
    },
    {
     "name": "stderr",
     "output_type": "stream",
     "text": [
      "[I 2024-11-28 23:56:13,249] Trial 43 finished with value: 0.535665068514293 and parameters: {'learning_rate': 0.19831611392394913, 'reg_lambda': 0.009215855695041445, 'max_depth': 9, 'min_child_weight': 60, 'gamma': 1.4096990202962583, 'reg_alpha': 0.3525863793680187}. Best is trial 37 with value: 0.5409010855435789.\n"
     ]
    },
    {
     "name": "stdout",
     "output_type": "stream",
     "text": [
      "1\n",
      "5\n"
     ]
    },
    {
     "name": "stderr",
     "output_type": "stream",
     "text": [
      "[I 2024-11-28 23:56:13,967] Trial 41 finished with value: 0.5327782005925177 and parameters: {'learning_rate': 0.1984117459803974, 'reg_lambda': 3.052698873911621e-07, 'max_depth': 10, 'min_child_weight': 60, 'gamma': 1.3856737063896734, 'reg_alpha': 1.2357124561650134e-08}. Best is trial 37 with value: 0.5409010855435789.\n"
     ]
    },
    {
     "name": "stdout",
     "output_type": "stream",
     "text": [
      "5\n",
      "2\n",
      "1\n",
      "1\n"
     ]
    },
    {
     "name": "stderr",
     "output_type": "stream",
     "text": [
      "[I 2024-11-28 23:56:16,200] Trial 35 finished with value: 0.5406404755601739 and parameters: {'learning_rate': 0.16166812602836772, 'reg_lambda': 3.68252410896954e-05, 'max_depth': 10, 'min_child_weight': 25, 'gamma': 1.0739580234826658, 'reg_alpha': 0.0031119142652471384}. Best is trial 37 with value: 0.5409010855435789.\n"
     ]
    },
    {
     "name": "stdout",
     "output_type": "stream",
     "text": [
      "1\n"
     ]
    },
    {
     "name": "stderr",
     "output_type": "stream",
     "text": [
      "[I 2024-11-28 23:56:17,448] Trial 45 finished with value: 0.5309043421913617 and parameters: {'learning_rate': 0.19514077460616816, 'reg_lambda': 23.527972931411906, 'max_depth': 9, 'min_child_weight': 1, 'gamma': 1.3469066482288428, 'reg_alpha': 1.0555031891222986e-08}. Best is trial 37 with value: 0.5409010855435789.\n",
      "[I 2024-11-28 23:56:17,519] Trial 50 finished with value: 0.5345713993858292 and parameters: {'learning_rate': 0.17018300434124534, 'reg_lambda': 10.555215276884972, 'max_depth': 9, 'min_child_weight': 1, 'gamma': 1.8025887512645946, 'reg_alpha': 0.8763735181695644}. Best is trial 37 with value: 0.5409010855435789.\n",
      "[I 2024-11-28 23:56:18,416] Trial 57 finished with value: 0.5317786091931593 and parameters: {'learning_rate': 0.16859773660431987, 'reg_lambda': 17.736389315279638, 'max_depth': 9, 'min_child_weight': 1, 'gamma': 1.7533341549093313, 'reg_alpha': 0.691776182496459}. Best is trial 37 with value: 0.5409010855435789.\n"
     ]
    },
    {
     "name": "stdout",
     "output_type": "stream",
     "text": [
      "1\n",
      "2\n",
      "1\n"
     ]
    },
    {
     "name": "stderr",
     "output_type": "stream",
     "text": [
      "[I 2024-11-28 23:56:19,570] Trial 56 finished with value: 0.5317574910155385 and parameters: {'learning_rate': 0.1758424198516449, 'reg_lambda': 21.08121624467553, 'max_depth': 9, 'min_child_weight': 1, 'gamma': 1.5137533486117145, 'reg_alpha': 1.2241608132798223}. Best is trial 37 with value: 0.5409010855435789.\n"
     ]
    },
    {
     "name": "stdout",
     "output_type": "stream",
     "text": [
      "5\n",
      "1\n",
      "2\n",
      "1\n"
     ]
    },
    {
     "name": "stderr",
     "output_type": "stream",
     "text": [
      "[I 2024-11-28 23:56:21,235] Trial 55 finished with value: 0.5131073347502874 and parameters: {'learning_rate': 0.01782675468165637, 'reg_lambda': 20.59231393508658, 'max_depth': 9, 'min_child_weight': 70, 'gamma': 1.8012121855165841, 'reg_alpha': 0.14192175862433318}. Best is trial 37 with value: 0.5409010855435789.\n"
     ]
    },
    {
     "name": "stdout",
     "output_type": "stream",
     "text": [
      "2\n",
      "1\n"
     ]
    },
    {
     "name": "stderr",
     "output_type": "stream",
     "text": [
      "[I 2024-11-28 23:56:22,961] Trial 59 finished with value: 0.51632978381984 and parameters: {'learning_rate': 0.020881836476027385, 'reg_lambda': 0.017942718596733978, 'max_depth': 9, 'min_child_weight': 69, 'gamma': 0.9944953806558017, 'reg_alpha': 0.37712863795697144}. Best is trial 37 with value: 0.5409010855435789.\n"
     ]
    },
    {
     "name": "stdout",
     "output_type": "stream",
     "text": [
      "3\n",
      "5\n",
      "2\n",
      "2\n"
     ]
    },
    {
     "name": "stderr",
     "output_type": "stream",
     "text": [
      "[I 2024-11-28 23:56:24,109] Trial 51 finished with value: 0.5376149445944435 and parameters: {'learning_rate': 0.164272263735091, 'reg_lambda': 23.875848999523377, 'max_depth': 9, 'min_child_weight': 1, 'gamma': 1.1658210440590178, 'reg_alpha': 0.7439763301421823}. Best is trial 37 with value: 0.5409010855435789.\n"
     ]
    },
    {
     "name": "stdout",
     "output_type": "stream",
     "text": [
      "1\n"
     ]
    },
    {
     "name": "stderr",
     "output_type": "stream",
     "text": [
      "[I 2024-11-28 23:56:24,952] Trial 61 finished with value: 0.5414573921144603 and parameters: {'learning_rate': 0.1785736402222985, 'reg_lambda': 0.02808747456818283, 'max_depth': 9, 'min_child_weight': 33, 'gamma': 1.3666954666621638, 'reg_alpha': 0.9121458997390421}. Best is trial 61 with value: 0.5414573921144603.\n"
     ]
    },
    {
     "name": "stdout",
     "output_type": "stream",
     "text": [
      "1\n",
      "2\n"
     ]
    },
    {
     "name": "stderr",
     "output_type": "stream",
     "text": [
      "[I 2024-11-28 23:56:26,574] Trial 63 finished with value: 0.5396271876156855 and parameters: {'learning_rate': 0.175114535845101, 'reg_lambda': 0.01546671690185925, 'max_depth': 9, 'min_child_weight': 37, 'gamma': 3.0058606343040273, 'reg_alpha': 1.5060509553661192}. Best is trial 61 with value: 0.5414573921144603.\n"
     ]
    },
    {
     "name": "stdout",
     "output_type": "stream",
     "text": [
      "5\n",
      "1\n",
      "5\n",
      "2\n",
      "3\n",
      "2\n",
      "2\n",
      "3\n",
      "2\n",
      "1\n"
     ]
    },
    {
     "name": "stderr",
     "output_type": "stream",
     "text": [
      "[I 2024-11-28 23:56:29,223] Trial 62 finished with value: 0.5380685633898188 and parameters: {'learning_rate': 0.17593567166237176, 'reg_lambda': 0.013078527355016564, 'max_depth': 9, 'min_child_weight': 35, 'gamma': 1.2314792789962095, 'reg_alpha': 1.246856227042542}. Best is trial 61 with value: 0.5414573921144603.\n",
      "[I 2024-11-28 23:56:29,636] Trial 60 finished with value: 0.5388005324510841 and parameters: {'learning_rate': 0.1762717968714073, 'reg_lambda': 0.03012325257274158, 'max_depth': 9, 'min_child_weight': 31, 'gamma': 1.186838465075174, 'reg_alpha': 0.5806102164538717}. Best is trial 61 with value: 0.5414573921144603.\n"
     ]
    },
    {
     "name": "stdout",
     "output_type": "stream",
     "text": [
      "2\n",
      "2\n",
      "2\n",
      "1\n",
      "2\n",
      "1\n",
      "2\n",
      "3\n",
      "2\n",
      "2\n",
      "3\n",
      "4\n",
      "2\n",
      "3\n",
      "2\n"
     ]
    },
    {
     "name": "stderr",
     "output_type": "stream",
     "text": [
      "[I 2024-11-28 23:56:36,722] Trial 47 finished with value: 0.5227164734387145 and parameters: {'learning_rate': 0.01998440399162396, 'reg_lambda': 22.939837100394747, 'max_depth': 9, 'min_child_weight': 2, 'gamma': 1.9178853167906862, 'reg_alpha': 0.43873872205703945}. Best is trial 61 with value: 0.5414573921144603.\n"
     ]
    },
    {
     "name": "stdout",
     "output_type": "stream",
     "text": [
      "2\n",
      "1\n",
      "4\n",
      "4\n",
      "3\n",
      "3\n",
      "2\n"
     ]
    },
    {
     "name": "stderr",
     "output_type": "stream",
     "text": [
      "[I 2024-11-28 23:56:41,061] Trial 52 finished with value: 0.523891412402507 and parameters: {'learning_rate': 0.019223648618594547, 'reg_lambda': 24.27626675476436, 'max_depth': 9, 'min_child_weight': 1, 'gamma': 2.0094232618613446, 'reg_alpha': 1.1040993878627767}. Best is trial 61 with value: 0.5414573921144603.\n"
     ]
    },
    {
     "name": "stdout",
     "output_type": "stream",
     "text": [
      "3\n",
      "3\n",
      "3\n",
      "3\n",
      "3\n",
      "2\n",
      "1\n",
      "2\n"
     ]
    },
    {
     "name": "stderr",
     "output_type": "stream",
     "text": [
      "[I 2024-11-28 23:56:44,182] Trial 58 finished with value: 0.5247407641420772 and parameters: {'learning_rate': 0.015185721046939493, 'reg_lambda': 23.212380605702382, 'max_depth': 9, 'min_child_weight': 1, 'gamma': 3.021687930010539, 'reg_alpha': 0.6326164752732076}. Best is trial 61 with value: 0.5414573921144603.\n",
      "[I 2024-11-28 23:56:44,799] Trial 54 finished with value: 0.5258562600652015 and parameters: {'learning_rate': 0.03255191060874778, 'reg_lambda': 0.021079838998286565, 'max_depth': 9, 'min_child_weight': 1, 'gamma': 2.073337587903789, 'reg_alpha': 1.0859383885494085}. Best is trial 61 with value: 0.5414573921144603.\n"
     ]
    },
    {
     "name": "stdout",
     "output_type": "stream",
     "text": [
      "33\n",
      "\n",
      "4\n",
      "2\n",
      "1\n",
      "3\n",
      "4\n",
      "4\n",
      "1\n",
      "2\n",
      "3\n",
      "3\n",
      "5\n",
      "3\n",
      "33\n",
      "\n",
      "3\n",
      "3\n",
      "4\n",
      "5\n",
      "2\n",
      "5\n",
      "4\n",
      "4\n",
      "4\n",
      "4\n",
      "4\n",
      "4\n",
      "3\n",
      "4\n",
      "4\n",
      "2\n",
      "43\n",
      "\n",
      "3\n",
      "5\n",
      "5\n",
      "5\n",
      "4\n",
      "4\n",
      "2\n",
      "3\n",
      "4\n",
      "2\n"
     ]
    },
    {
     "name": "stderr",
     "output_type": "stream",
     "text": [
      "[I 2024-11-28 23:57:00,113] Trial 64 finished with value: 0.5373971635081217 and parameters: {'learning_rate': 0.17602550296458053, 'reg_lambda': 0.02086366500315374, 'max_depth': 9, 'min_child_weight': 12, 'gamma': 2.965206202346676, 'reg_alpha': 1.1903805782941275}. Best is trial 61 with value: 0.5414573921144603.\n"
     ]
    },
    {
     "name": "stdout",
     "output_type": "stream",
     "text": [
      "4\n",
      "4\n",
      "3\n",
      "4\n",
      "4\n",
      "1\n"
     ]
    },
    {
     "name": "stderr",
     "output_type": "stream",
     "text": [
      "[I 2024-11-28 23:57:02,552] Trial 66 finished with value: 0.533470553473108 and parameters: {'learning_rate': 0.17553289244847295, 'reg_lambda': 0.013022334196321029, 'max_depth': 9, 'min_child_weight': 37, 'gamma': 4.321827771443114, 'reg_alpha': 0.6932301869304182}. Best is trial 61 with value: 0.5414573921144603.\n",
      "[I 2024-11-28 23:57:03,148] Trial 65 finished with value: 0.5331606223106543 and parameters: {'learning_rate': 0.17731516215722704, 'reg_lambda': 8.438279833085657, 'max_depth': 9, 'min_child_weight': 38, 'gamma': 2.917902402547373, 'reg_alpha': 1.4440711951996736}. Best is trial 61 with value: 0.5414573921144603.\n"
     ]
    },
    {
     "name": "stdout",
     "output_type": "stream",
     "text": [
      "4\n",
      "1\n",
      "5\n",
      "1\n",
      "3\n",
      "5\n",
      "5\n",
      "5\n",
      "5\n",
      "4\n",
      "5\n",
      "5\n",
      "5\n",
      "4\n",
      "5\n",
      "3\n",
      "5\n"
     ]
    },
    {
     "name": "stderr",
     "output_type": "stream",
     "text": [
      "[I 2024-11-28 23:57:09,022] Trial 71 finished with value: 0.5339773586636148 and parameters: {'learning_rate': 0.17399553743266244, 'reg_lambda': 0.017696062852107362, 'max_depth': 9, 'min_child_weight': 38, 'gamma': 4.366723822101099, 'reg_alpha': 0.00019924459176388134}. Best is trial 61 with value: 0.5414573921144603.\n"
     ]
    },
    {
     "name": "stdout",
     "output_type": "stream",
     "text": [
      "4\n"
     ]
    },
    {
     "name": "stderr",
     "output_type": "stream",
     "text": [
      "[I 2024-11-28 23:57:09,593] Trial 70 finished with value: 0.5335873937851079 and parameters: {'learning_rate': 0.1829087131057792, 'reg_lambda': 0.01229429528331266, 'max_depth': 9, 'min_child_weight': 36, 'gamma': 4.314449095290053, 'reg_alpha': 0.0001671121563229487}. Best is trial 61 with value: 0.5414573921144603.\n",
      "[I 2024-11-28 23:57:09,712] Trial 67 finished with value: 0.5475463071218784 and parameters: {'learning_rate': 0.17626926235423893, 'reg_lambda': 0.020185306752053548, 'max_depth': 9, 'min_child_weight': 36, 'gamma': 2.9836574091935106, 'reg_alpha': 0.7605340002683045}. Best is trial 67 with value: 0.5475463071218784.\n"
     ]
    },
    {
     "name": "stdout",
     "output_type": "stream",
     "text": [
      "1\n",
      "5\n",
      "3\n",
      "5\n",
      "5\n",
      "4\n",
      "3\n",
      "5\n",
      "5\n",
      "2\n",
      "5\n"
     ]
    },
    {
     "name": "stderr",
     "output_type": "stream",
     "text": [
      "[I 2024-11-28 23:57:14,505] Trial 72 finished with value: 0.5408495165515255 and parameters: {'learning_rate': 0.16725902099154366, 'reg_lambda': 0.013810529783071004, 'max_depth': 9, 'min_child_weight': 13, 'gamma': 2.1750423971428003, 'reg_alpha': 0.00015024534028579409}. Best is trial 67 with value: 0.5475463071218784.\n"
     ]
    },
    {
     "name": "stdout",
     "output_type": "stream",
     "text": [
      "5\n",
      "2\n",
      "4\n",
      "5\n"
     ]
    },
    {
     "name": "stderr",
     "output_type": "stream",
     "text": [
      "[I 2024-11-28 23:57:16,189] Trial 75 finished with value: 0.5321081876646322 and parameters: {'learning_rate': 0.22907396122178442, 'reg_lambda': 0.009758324817008493, 'max_depth': 9, 'min_child_weight': 13, 'gamma': 2.06245466869543, 'reg_alpha': 8.376666192470995e-05}. Best is trial 67 with value: 0.5475463071218784.\n",
      "[I 2024-11-28 23:57:16,205] Trial 76 finished with value: 0.5439656279107844 and parameters: {'learning_rate': 0.17344365835847766, 'reg_lambda': 0.016108954122505157, 'max_depth': 9, 'min_child_weight': 12, 'gamma': 2.162282798173871, 'reg_alpha': 0.00013869254058595333}. Best is trial 67 with value: 0.5475463071218784.\n",
      "[I 2024-11-28 23:57:16,244] Trial 73 finished with value: 0.5377343345174876 and parameters: {'learning_rate': 0.18000809257603495, 'reg_lambda': 6.291848532999831, 'max_depth': 9, 'min_child_weight': 13, 'gamma': 2.1742914906910005, 'reg_alpha': 2.34153090794948}. Best is trial 67 with value: 0.5475463071218784.\n"
     ]
    },
    {
     "name": "stdout",
     "output_type": "stream",
     "text": [
      "2\n"
     ]
    },
    {
     "name": "stderr",
     "output_type": "stream",
     "text": [
      "[I 2024-11-28 23:57:16,919] Trial 77 finished with value: 0.5371664229021001 and parameters: {'learning_rate': 0.22718200776100217, 'reg_lambda': 8.089070823902436, 'max_depth': 8, 'min_child_weight': 13, 'gamma': 2.2983344817649076, 'reg_alpha': 0.00013598473273639876}. Best is trial 67 with value: 0.5475463071218784.\n",
      "[I 2024-11-28 23:57:17,499] Trial 78 finished with value: 0.5305816839598932 and parameters: {'learning_rate': 0.23161560567007314, 'reg_lambda': 8.429004572622533, 'max_depth': 8, 'min_child_weight': 71, 'gamma': 3.0272314419778406, 'reg_alpha': 0.0001377514442331673}. Best is trial 67 with value: 0.5475463071218784.\n"
     ]
    },
    {
     "name": "stdout",
     "output_type": "stream",
     "text": [
      "4\n",
      "5\n"
     ]
    },
    {
     "name": "stderr",
     "output_type": "stream",
     "text": [
      "[I 2024-11-28 23:57:18,238] Trial 79 finished with value: 0.5340638356169634 and parameters: {'learning_rate': 0.22695857771355452, 'reg_lambda': 6.2019222676797, 'max_depth': 8, 'min_child_weight': 13, 'gamma': 2.093337536514168, 'reg_alpha': 0.0002580290576338499}. Best is trial 67 with value: 0.5475463071218784.\n",
      "[I 2024-11-28 23:57:18,565] Trial 80 finished with value: 0.539143983021073 and parameters: {'learning_rate': 0.17693122604077174, 'reg_lambda': 3.4103283264588926, 'max_depth': 8, 'min_child_weight': 36, 'gamma': 2.9000115393106185, 'reg_alpha': 0.0003869617323796389}. Best is trial 67 with value: 0.5475463071218784.\n",
      "[I 2024-11-28 23:57:18,570] Trial 68 finished with value: 0.53529944636102 and parameters: {'learning_rate': 0.03489480001319148, 'reg_lambda': 0.008292685380148056, 'max_depth': 9, 'min_child_weight': 36, 'gamma': 0.22230233055967538, 'reg_alpha': 0.472350862407635}. Best is trial 67 with value: 0.5475463071218784.\n",
      "[I 2024-11-28 23:57:18,742] Trial 69 finished with value: 0.5357580735418426 and parameters: {'learning_rate': 0.04357822020918402, 'reg_lambda': 0.008448481844618992, 'max_depth': 9, 'min_child_weight': 36, 'gamma': 4.36957798782121, 'reg_alpha': 0.00015919266331813762}. Best is trial 67 with value: 0.5475463071218784.\n",
      "[I 2024-11-28 23:57:19,352] Trial 82 finished with value: 0.537757887669492 and parameters: {'learning_rate': 0.22658639192383181, 'reg_lambda': 2.7995891552791026e-08, 'max_depth': 8, 'min_child_weight': 13, 'gamma': 2.2122293541283535, 'reg_alpha': 0.13644674357577738}. Best is trial 67 with value: 0.5475463071218784.\n"
     ]
    },
    {
     "name": "stdout",
     "output_type": "stream",
     "text": [
      "4\n",
      "5\n",
      "5\n"
     ]
    },
    {
     "name": "stderr",
     "output_type": "stream",
     "text": [
      "[I 2024-11-28 23:57:19,836] Trial 84 finished with value: 0.5405372479031844 and parameters: {'learning_rate': 0.22671626606895834, 'reg_lambda': 2.260915024783795e-08, 'max_depth': 8, 'min_child_weight': 14, 'gamma': 2.20724031011998, 'reg_alpha': 0.0001663530154985814}. Best is trial 67 with value: 0.5475463071218784.\n",
      "[I 2024-11-28 23:57:20,152] Trial 83 finished with value: 0.5446586938215218 and parameters: {'learning_rate': 0.22699057525997213, 'reg_lambda': 1.0228256520680324e-08, 'max_depth': 8, 'min_child_weight': 13, 'gamma': 2.2686536419531227, 'reg_alpha': 0.00010267788437881208}. Best is trial 67 with value: 0.5475463071218784.\n"
     ]
    },
    {
     "name": "stdout",
     "output_type": "stream",
     "text": [
      "2\n",
      "4\n"
     ]
    },
    {
     "name": "stderr",
     "output_type": "stream",
     "text": [
      "[I 2024-11-28 23:57:20,906] Trial 86 finished with value: 0.5343937190510994 and parameters: {'learning_rate': 0.2268909298580765, 'reg_lambda': 1.9404835835506974e-08, 'max_depth': 8, 'min_child_weight': 14, 'gamma': 2.9589930435209792, 'reg_alpha': 0.0001920825708485279}. Best is trial 67 with value: 0.5475463071218784.\n",
      "[I 2024-11-28 23:57:21,351] Trial 85 finished with value: 0.5308920531869321 and parameters: {'learning_rate': 0.14019905323031606, 'reg_lambda': 3.775225677587854e-08, 'max_depth': 8, 'min_child_weight': 14, 'gamma': 2.22669817412635, 'reg_alpha': 3.3779947595027076}. Best is trial 67 with value: 0.5475463071218784.\n",
      "[I 2024-11-28 23:57:21,394] Trial 81 finished with value: 0.5435620026364838 and parameters: {'learning_rate': 0.10933738295132112, 'reg_lambda': 4.0687101924599865e-08, 'max_depth': 8, 'min_child_weight': 12, 'gamma': 2.1230030741991586, 'reg_alpha': 0.0002924348760071498}. Best is trial 67 with value: 0.5475463071218784.\n",
      "[I 2024-11-28 23:57:22,268] Trial 87 finished with value: 0.5404764308884016 and parameters: {'learning_rate': 0.2278346142814518, 'reg_lambda': 3.2556320173846266e-08, 'max_depth': 8, 'min_child_weight': 14, 'gamma': 2.1982060210036245, 'reg_alpha': 0.00011154878597916443}. Best is trial 67 with value: 0.5475463071218784.\n"
     ]
    },
    {
     "name": "stdout",
     "output_type": "stream",
     "text": [
      "3\n",
      "5\n",
      "3\n"
     ]
    },
    {
     "name": "stderr",
     "output_type": "stream",
     "text": [
      "[I 2024-11-28 23:57:23,271] Trial 89 finished with value: 0.538094791141212 and parameters: {'learning_rate': 0.23131727262880328, 'reg_lambda': 2.2827142658653447e-08, 'max_depth': 8, 'min_child_weight': 36, 'gamma': 2.1910972287383212, 'reg_alpha': 0.00018055524675960314}. Best is trial 67 with value: 0.5475463071218784.\n"
     ]
    },
    {
     "name": "stdout",
     "output_type": "stream",
     "text": [
      "3\n",
      "5\n"
     ]
    },
    {
     "name": "stderr",
     "output_type": "stream",
     "text": [
      "[I 2024-11-28 23:57:23,893] Trial 90 finished with value: 0.53613936184303 and parameters: {'learning_rate': 0.22648955854293779, 'reg_lambda': 4.3180821700475205, 'max_depth': 8, 'min_child_weight': 25, 'gamma': 2.175032054971544, 'reg_alpha': 0.00010575964972289707}. Best is trial 67 with value: 0.5475463071218784.\n",
      "[I 2024-11-28 23:57:24,007] Trial 74 finished with value: 0.5300301558550257 and parameters: {'learning_rate': 0.03831514934551315, 'reg_lambda': 0.015342174717247237, 'max_depth': 9, 'min_child_weight': 12, 'gamma': 2.169836736192911, 'reg_alpha': 0.00012647036939776777}. Best is trial 67 with value: 0.5475463071218784.\n"
     ]
    },
    {
     "name": "stdout",
     "output_type": "stream",
     "text": [
      "5\n"
     ]
    },
    {
     "name": "stderr",
     "output_type": "stream",
     "text": [
      "[I 2024-11-28 23:57:24,722] Trial 88 finished with value: 0.538672838738383 and parameters: {'learning_rate': 0.13885822318848248, 'reg_lambda': 4.524432261807274, 'max_depth': 8, 'min_child_weight': 37, 'gamma': 2.202252429654001, 'reg_alpha': 0.00027095132800762227}. Best is trial 67 with value: 0.5475463071218784.\n"
     ]
    },
    {
     "name": "stdout",
     "output_type": "stream",
     "text": [
      "5\n",
      "3\n",
      "4\n",
      "4\n",
      "5\n",
      "4\n"
     ]
    },
    {
     "name": "stderr",
     "output_type": "stream",
     "text": [
      "[I 2024-11-28 23:57:26,597] Trial 91 finished with value: 0.5363989976537191 and parameters: {'learning_rate': 0.038883376561035216, 'reg_lambda': 1.9237394349834658e-08, 'max_depth': 8, 'min_child_weight': 37, 'gamma': 2.2440316185407836, 'reg_alpha': 0.00016463501567427462}. Best is trial 67 with value: 0.5475463071218784.\n",
      "[I 2024-11-28 23:57:26,738] Trial 92 finished with value: 0.532499605604731 and parameters: {'learning_rate': 0.14357621283414201, 'reg_lambda': 4.44580235183715, 'max_depth': 8, 'min_child_weight': 25, 'gamma': 2.2113275447982623, 'reg_alpha': 0.0002842288463862841}. Best is trial 67 with value: 0.5475463071218784.\n",
      "[I 2024-11-28 23:57:27,092] Trial 95 finished with value: 0.5397077991981818 and parameters: {'learning_rate': 0.14176216482725504, 'reg_lambda': 0.0026127037158097206, 'max_depth': 8, 'min_child_weight': 25, 'gamma': 2.8071920482825696, 'reg_alpha': 9.139476897041668e-05}. Best is trial 67 with value: 0.5475463071218784.\n",
      "[I 2024-11-28 23:57:27,148] Trial 93 finished with value: 0.5408417347141526 and parameters: {'learning_rate': 0.1444210099196268, 'reg_lambda': 5.322105239803071, 'max_depth': 8, 'min_child_weight': 26, 'gamma': 2.245839701615463, 'reg_alpha': 8.998594366803632e-05}. Best is trial 67 with value: 0.5475463071218784.\n"
     ]
    },
    {
     "name": "stdout",
     "output_type": "stream",
     "text": [
      "4\n",
      "5\n"
     ]
    },
    {
     "name": "stderr",
     "output_type": "stream",
     "text": [
      "[I 2024-11-28 23:57:27,870] Trial 94 finished with value: 0.5395733125657659 and parameters: {'learning_rate': 0.1419819769090054, 'reg_lambda': 0.0033767618213952372, 'max_depth': 8, 'min_child_weight': 25, 'gamma': 2.219595875252385, 'reg_alpha': 0.00022482489311637408}. Best is trial 67 with value: 0.5475463071218784.\n"
     ]
    },
    {
     "name": "stdout",
     "output_type": "stream",
     "text": [
      "5\n",
      "5\n"
     ]
    },
    {
     "name": "stderr",
     "output_type": "stream",
     "text": [
      "[I 2024-11-28 23:57:28,831] Trial 97 finished with value: 0.5382163767105791 and parameters: {'learning_rate': 0.1356879411913185, 'reg_lambda': 0.002694300029833264, 'max_depth': 8, 'min_child_weight': 26, 'gamma': 3.689172372424786, 'reg_alpha': 0.0002642311258623086}. Best is trial 67 with value: 0.5475463071218784.\n"
     ]
    },
    {
     "name": "stdout",
     "output_type": "stream",
     "text": [
      "5\n"
     ]
    },
    {
     "name": "stderr",
     "output_type": "stream",
     "text": [
      "[I 2024-11-28 23:57:29,404] Trial 96 finished with value: 0.5371537581404419 and parameters: {'learning_rate': 0.13996383735302978, 'reg_lambda': 0.0021495965026014923, 'max_depth': 8, 'min_child_weight': 24, 'gamma': 2.292002548037185, 'reg_alpha': 0.0003352612577335185}. Best is trial 67 with value: 0.5475463071218784.\n",
      "[I 2024-11-28 23:57:29,493] Trial 98 finished with value: 0.5357105947837756 and parameters: {'learning_rate': 0.14352989597981491, 'reg_lambda': 0.0020691472466373307, 'max_depth': 8, 'min_child_weight': 25, 'gamma': 2.2058131722052643, 'reg_alpha': 0.0002298240232510115}. Best is trial 67 with value: 0.5475463071218784.\n",
      "[I 2024-11-28 23:57:29,829] Trial 99 finished with value: 0.5354329753800203 and parameters: {'learning_rate': 0.1436887063426116, 'reg_lambda': 0.001709373350715247, 'max_depth': 8, 'min_child_weight': 26, 'gamma': 2.3220679882528503, 'reg_alpha': 0.011505254020303616}. Best is trial 67 with value: 0.5475463071218784.\n"
     ]
    }
   ],
   "source": [
    "# XBG PARAMETERTUNING\n",
    "bestparams_Qfam_xgb = functions.parametertuner(model_type = 'xgb', train = data_Questions_fam, feature_lists = Qfam_features, train_name = 'Q_fam', trials = 100, jobs = 32)"
   ]
  },
  {
   "cell_type": "code",
   "execution_count": 18,
   "metadata": {},
   "outputs": [],
   "source": [
    "# training\n",
    "Qfam_training_xgb = functions.modeltraining(data_Questions_fam,\n",
    "             Qfam_features,\n",
    "             bestparams_Qfam_xgb,\n",
    "             'xgb',\n",
    "             'Qfam',\n",
    "             save = True)"
   ]
  },
  {
   "cell_type": "code",
   "execution_count": 19,
   "metadata": {},
   "outputs": [],
   "source": [
    "# testing\n",
    "Qfam_qfam_20_test_xgb = functions.modeltesting2(\n",
    "             Qfam_features,\n",
    "             Qfam_Qfam_20,\n",
    "             'xgb',\n",
    "             save = True,\n",
    "             test_name = \"Qfam_Qfam_20\",\n",
    "             train_name = 'Qfam')\n",
    "\n",
    "Qfam_MG_80_test_xgb = functions.modeltesting2(\n",
    "             Qfam_features,\n",
    "             Qfam_MG_80,\n",
    "             'xgb',\n",
    "             save = True,\n",
    "             test_name = \"Qfam_MG_80\",\n",
    "             train_name = 'Qfam')\n",
    "\n",
    "Qfam_MG_20_test_xgb = functions.modeltesting2(\n",
    "             Qfam_features,\n",
    "             Qfam_MG_20,\n",
    "             'xgb',\n",
    "             save = True,\n",
    "             test_name = \"Qfam_MG_20\",\n",
    "             train_name = 'Qfam')\n",
    "\n",
    "Qfam_Qunfam_20_test_xgb = functions.modeltesting2(\n",
    "             Qfam_features,\n",
    "             Qfam_Qunfam_20,\n",
    "             'xgb',\n",
    "             save = True,\n",
    "             test_name = \"Qfam_Qunfam_20\",\n",
    "             train_name = 'Qfam')\n",
    "\n",
    "Qfam_Qunfam_80_test_xgb = functions.modeltesting2(\n",
    "             Qfam_features,\n",
    "             Qfam_Qunfam_80,\n",
    "             'xgb',\n",
    "             save = True,\n",
    "             test_name = \"Qfam_Qunfam_80\",\n",
    "             train_name = 'Qfam')"
   ]
  },
  {
   "cell_type": "markdown",
   "metadata": {},
   "source": [
    "### Questions Unfamiliar - XGB"
   ]
  },
  {
   "cell_type": "code",
   "execution_count": 20,
   "metadata": {},
   "outputs": [
    {
     "name": "stderr",
     "output_type": "stream",
     "text": [
      "[I 2024-11-28 23:57:35,050] A new study created in memory with name: no-name-04492029-8e35-4538-83fc-d9e863b55d35\n"
     ]
    },
    {
     "name": "stdout",
     "output_type": "stream",
     "text": [
      "1\n",
      "1\n",
      "1\n",
      "1\n",
      "1\n",
      "1\n",
      "1\n",
      "1\n",
      "1\n",
      "1\n",
      "1\n",
      "1\n",
      "1\n",
      "1\n",
      "1\n",
      "1\n",
      "1\n",
      "1\n",
      "1\n",
      "1\n",
      "1\n",
      "1\n",
      "1\n",
      "1\n",
      "1\n",
      "1\n",
      "1\n",
      "1\n",
      "1\n",
      "1\n",
      "1\n",
      "1\n",
      "2\n",
      "2\n",
      "2\n",
      "2\n",
      "2\n",
      "2\n",
      "2\n",
      "2\n",
      "2\n",
      "2\n",
      "2\n",
      "2\n",
      "2\n",
      "2\n",
      "2\n",
      "2\n",
      "2\n",
      "2\n",
      "2\n",
      "2\n",
      "22\n",
      "\n",
      "2\n",
      "2\n",
      "2\n",
      "2\n",
      "2\n",
      "2\n",
      "2\n",
      "2\n",
      "22\n",
      "\n",
      "3\n",
      "3\n",
      "3\n",
      "3\n",
      "3\n",
      "3\n",
      "3\n",
      "3\n",
      "3\n",
      "3\n",
      "3\n",
      "3\n",
      "3\n",
      "3\n",
      "3\n",
      "3\n",
      "3\n",
      "3\n",
      "3\n",
      "3\n",
      "3\n",
      "3\n",
      "3\n",
      "3\n",
      "3\n",
      "3\n",
      "3\n",
      "3\n",
      "3\n",
      "3\n",
      "3\n",
      "3\n",
      "4\n",
      "4\n",
      "4\n",
      "4\n",
      "4\n",
      "4\n",
      "4\n",
      "4\n",
      "4\n",
      "4\n",
      "4\n",
      "4\n",
      "4\n",
      "4\n",
      "4\n",
      "4\n",
      "4\n",
      "4\n",
      "4\n",
      "4\n",
      "4\n",
      "4\n",
      "4\n",
      "4\n",
      "4\n",
      "4\n",
      "5\n",
      "4\n",
      "5\n",
      "4\n",
      "4\n",
      "4\n",
      "5\n",
      "4\n",
      "4\n",
      "5\n",
      "5\n",
      "5\n",
      "55\n",
      "\n",
      "5\n",
      "5\n",
      "5\n",
      "5\n",
      "5\n",
      "5\n",
      "5\n",
      "5\n",
      "5\n",
      "5\n",
      "5\n",
      "5\n",
      "5\n",
      "5\n",
      "5\n",
      "5\n",
      "5\n",
      "5\n"
     ]
    },
    {
     "name": "stderr",
     "output_type": "stream",
     "text": [
      "[I 2024-11-28 23:58:29,461] Trial 1 finished with value: 0.5658967624336496 and parameters: {'learning_rate': 0.27721723889521777, 'reg_lambda': 6.363893245129931e-06, 'max_depth': 8, 'min_child_weight': 80, 'gamma': 4.9656177777589345, 'reg_alpha': 0.025302587908493525}. Best is trial 1 with value: 0.5658967624336496.\n"
     ]
    },
    {
     "name": "stdout",
     "output_type": "stream",
     "text": [
      "1\n"
     ]
    },
    {
     "name": "stderr",
     "output_type": "stream",
     "text": [
      "[I 2024-11-28 23:58:29,793] Trial 3 finished with value: 0.5736424141508382 and parameters: {'learning_rate': 0.21899778811783155, 'reg_lambda': 0.05598388973791546, 'max_depth': 4, 'min_child_weight': 90, 'gamma': 4.194389840021003, 'reg_alpha': 0.0010783691742323454}. Best is trial 3 with value: 0.5736424141508382.\n"
     ]
    },
    {
     "name": "stdout",
     "output_type": "stream",
     "text": [
      "5\n",
      "1\n"
     ]
    },
    {
     "name": "stderr",
     "output_type": "stream",
     "text": [
      "[I 2024-11-28 23:58:30,502] Trial 11 finished with value: 0.5769240760513092 and parameters: {'learning_rate': 0.20572149016833247, 'reg_lambda': 8.046888231784958e-08, 'max_depth': 6, 'min_child_weight': 4, 'gamma': 4.793606807800414, 'reg_alpha': 8.368243679044184}. Best is trial 11 with value: 0.5769240760513092.\n"
     ]
    },
    {
     "name": "stdout",
     "output_type": "stream",
     "text": [
      "1\n",
      "5\n",
      "5\n",
      "5\n"
     ]
    },
    {
     "name": "stderr",
     "output_type": "stream",
     "text": [
      "[I 2024-11-28 23:58:31,745] Trial 20 finished with value: 0.5711662818453027 and parameters: {'learning_rate': 0.28869763631791495, 'reg_lambda': 6.730337300053096, 'max_depth': 5, 'min_child_weight': 14, 'gamma': 3.5885716817523114, 'reg_alpha': 1.0563870829843702}. Best is trial 11 with value: 0.5769240760513092.\n"
     ]
    },
    {
     "name": "stdout",
     "output_type": "stream",
     "text": [
      "1\n"
     ]
    },
    {
     "name": "stderr",
     "output_type": "stream",
     "text": [
      "[I 2024-11-28 23:58:32,475] Trial 8 finished with value: 0.570081119970351 and parameters: {'learning_rate': 0.17327519865707433, 'reg_lambda': 0.004238634663194633, 'max_depth': 3, 'min_child_weight': 48, 'gamma': 0.5278073148120921, 'reg_alpha': 6.80445552827549e-07}. Best is trial 11 with value: 0.5769240760513092.\n",
      "[I 2024-11-28 23:58:32,632] Trial 2 finished with value: 0.5648533059161237 and parameters: {'learning_rate': 0.2877208229571081, 'reg_lambda': 0.07343207068261656, 'max_depth': 3, 'min_child_weight': 100, 'gamma': 0.9248915917935496, 'reg_alpha': 5.430256919274324}. Best is trial 11 with value: 0.5769240760513092.\n"
     ]
    },
    {
     "name": "stdout",
     "output_type": "stream",
     "text": [
      "1\n",
      "1\n",
      "5\n"
     ]
    },
    {
     "name": "stderr",
     "output_type": "stream",
     "text": [
      "[I 2024-11-28 23:58:33,044] Trial 18 finished with value: 0.5666235898195501 and parameters: {'learning_rate': 0.24437381423154225, 'reg_lambda': 5.303418729535945e-08, 'max_depth': 3, 'min_child_weight': 60, 'gamma': 2.4049078426747887, 'reg_alpha': 2.550436452364096e-05}. Best is trial 11 with value: 0.5769240760513092.\n",
      "[I 2024-11-28 23:58:33,386] Trial 22 finished with value: 0.5655132664392191 and parameters: {'learning_rate': 0.20999434289114208, 'reg_lambda': 6.163357645835101e-05, 'max_depth': 3, 'min_child_weight': 91, 'gamma': 1.369392457236514, 'reg_alpha': 1.804499991418698e-06}. Best is trial 11 with value: 0.5769240760513092.\n"
     ]
    },
    {
     "name": "stdout",
     "output_type": "stream",
     "text": [
      "1\n"
     ]
    },
    {
     "name": "stderr",
     "output_type": "stream",
     "text": [
      "[I 2024-11-28 23:58:33,565] Trial 4 finished with value: 0.5713913772261161 and parameters: {'learning_rate': 0.2884734701286329, 'reg_lambda': 0.006837489863869666, 'max_depth': 4, 'min_child_weight': 45, 'gamma': 2.6084487298870345, 'reg_alpha': 0.04089264342763077}. Best is trial 11 with value: 0.5769240760513092.\n",
      "[I 2024-11-28 23:58:33,767] Trial 7 finished with value: 0.5728392871285917 and parameters: {'learning_rate': 0.17013758129157516, 'reg_lambda': 4.727097746861396e-07, 'max_depth': 3, 'min_child_weight': 59, 'gamma': 3.4463752219685406, 'reg_alpha': 0.0021293254562338854}. Best is trial 11 with value: 0.5769240760513092.\n"
     ]
    },
    {
     "name": "stdout",
     "output_type": "stream",
     "text": [
      "1\n",
      "5\n",
      "1\n",
      "1\n"
     ]
    },
    {
     "name": "stderr",
     "output_type": "stream",
     "text": [
      "[I 2024-11-28 23:58:34,799] Trial 26 finished with value: 0.5780538185764884 and parameters: {'learning_rate': 0.014964921249926382, 'reg_lambda': 2.108482398496953, 'max_depth': 3, 'min_child_weight': 14, 'gamma': 0.4969369848577532, 'reg_alpha': 0.002465347198325704}. Best is trial 26 with value: 0.5780538185764884.\n",
      "[I 2024-11-28 23:58:34,808] Trial 25 finished with value: 0.5687411127259175 and parameters: {'learning_rate': 0.25617115086133496, 'reg_lambda': 4.79199651507225e-05, 'max_depth': 3, 'min_child_weight': 98, 'gamma': 0.9686696212689355, 'reg_alpha': 0.0005695731743030973}. Best is trial 26 with value: 0.5780538185764884.\n"
     ]
    },
    {
     "name": "stdout",
     "output_type": "stream",
     "text": [
      "1\n",
      "1\n"
     ]
    },
    {
     "name": "stderr",
     "output_type": "stream",
     "text": [
      "[I 2024-11-28 23:58:36,223] Trial 23 finished with value: 0.5792073806209551 and parameters: {'learning_rate': 0.18611064525553928, 'reg_lambda': 3.0064468548695626, 'max_depth': 5, 'min_child_weight': 39, 'gamma': 4.894902364736204, 'reg_alpha': 0.009987012443054496}. Best is trial 23 with value: 0.5792073806209551.\n",
      "[I 2024-11-28 23:58:36,317] Trial 13 finished with value: 0.5750478428535127 and parameters: {'learning_rate': 0.23816805030861926, 'reg_lambda': 0.0002058234378584125, 'max_depth': 9, 'min_child_weight': 16, 'gamma': 3.5419912921820735, 'reg_alpha': 7.254183546339731e-05}. Best is trial 23 with value: 0.5792073806209551.\n"
     ]
    },
    {
     "name": "stdout",
     "output_type": "stream",
     "text": [
      "1\n",
      "1\n"
     ]
    },
    {
     "name": "stderr",
     "output_type": "stream",
     "text": [
      "[I 2024-11-28 23:58:37,839] Trial 5 finished with value: 0.5802875757745641 and parameters: {'learning_rate': 0.2972041259572524, 'reg_lambda': 4.8536254069447065e-05, 'max_depth': 5, 'min_child_weight': 54, 'gamma': 1.3401435346794122, 'reg_alpha': 0.0020169576945293214}. Best is trial 5 with value: 0.5802875757745641.\n",
      "[I 2024-11-28 23:58:37,920] Trial 21 finished with value: 0.5752101174779025 and parameters: {'learning_rate': 0.15337043140635237, 'reg_lambda': 1.0690605354702838, 'max_depth': 9, 'min_child_weight': 70, 'gamma': 4.075405619616456, 'reg_alpha': 0.01820750261126171}. Best is trial 5 with value: 0.5802875757745641.\n",
      "[I 2024-11-28 23:58:38,361] Trial 15 finished with value: 0.5743621050583886 and parameters: {'learning_rate': 0.1934654869683079, 'reg_lambda': 2.111890221220577e-07, 'max_depth': 7, 'min_child_weight': 81, 'gamma': 3.3487969698453046, 'reg_alpha': 0.0011481831497017478}. Best is trial 5 with value: 0.5802875757745641.\n"
     ]
    },
    {
     "name": "stdout",
     "output_type": "stream",
     "text": [
      "1\n",
      "1\n",
      "1\n"
     ]
    },
    {
     "name": "stderr",
     "output_type": "stream",
     "text": [
      "[I 2024-11-28 23:58:40,395] Trial 12 finished with value: 0.5721050348810518 and parameters: {'learning_rate': 0.21144128016676497, 'reg_lambda': 3.6613586585307622e-06, 'max_depth': 5, 'min_child_weight': 91, 'gamma': 0.58783396578864, 'reg_alpha': 1.9780893468254082}. Best is trial 5 with value: 0.5802875757745641.\n",
      "[I 2024-11-28 23:58:40,719] Trial 10 finished with value: 0.5742686120151748 and parameters: {'learning_rate': 0.19797907369866005, 'reg_lambda': 2.7443644373127475e-07, 'max_depth': 8, 'min_child_weight': 91, 'gamma': 2.3578221903481937, 'reg_alpha': 0.9725422366983983}. Best is trial 5 with value: 0.5802875757745641.\n"
     ]
    },
    {
     "name": "stdout",
     "output_type": "stream",
     "text": [
      "1\n",
      "1\n"
     ]
    },
    {
     "name": "stderr",
     "output_type": "stream",
     "text": [
      "[I 2024-11-28 23:58:41,634] Trial 6 finished with value: 0.5844567685373123 and parameters: {'learning_rate': 0.018387930247653193, 'reg_lambda': 3.520748475176616e-06, 'max_depth': 6, 'min_child_weight': 51, 'gamma': 3.841782112624526, 'reg_alpha': 0.042488223058555555}. Best is trial 6 with value: 0.5844567685373123.\n"
     ]
    },
    {
     "name": "stdout",
     "output_type": "stream",
     "text": [
      "1\n"
     ]
    },
    {
     "name": "stderr",
     "output_type": "stream",
     "text": [
      "[I 2024-11-28 23:58:42,440] Trial 17 finished with value: 0.5699069201020068 and parameters: {'learning_rate': 0.18253547078531052, 'reg_lambda': 6.342437051816045, 'max_depth': 8, 'min_child_weight': 92, 'gamma': 2.063839124843932, 'reg_alpha': 6.70411695274327e-08}. Best is trial 6 with value: 0.5844567685373123.\n"
     ]
    },
    {
     "name": "stdout",
     "output_type": "stream",
     "text": [
      "1\n"
     ]
    },
    {
     "name": "stderr",
     "output_type": "stream",
     "text": [
      "[I 2024-11-28 23:58:43,533] Trial 28 finished with value: 0.5712148725965923 and parameters: {'learning_rate': 0.23681192011769892, 'reg_lambda': 1.0328073531850769e-06, 'max_depth': 9, 'min_child_weight': 90, 'gamma': 1.5941654081169614, 'reg_alpha': 0.4413724740544309}. Best is trial 6 with value: 0.5844567685373123.\n"
     ]
    },
    {
     "name": "stdout",
     "output_type": "stream",
     "text": [
      "1\n"
     ]
    },
    {
     "name": "stderr",
     "output_type": "stream",
     "text": [
      "[I 2024-11-28 23:58:44,715] Trial 16 finished with value: 0.5728895868624612 and parameters: {'learning_rate': 0.29464829272363807, 'reg_lambda': 2.357460789866964, 'max_depth': 8, 'min_child_weight': 79, 'gamma': 0.660949201892288, 'reg_alpha': 0.00034361276547462865}. Best is trial 6 with value: 0.5844567685373123.\n"
     ]
    },
    {
     "name": "stdout",
     "output_type": "stream",
     "text": [
      "2\n",
      "2\n"
     ]
    },
    {
     "name": "stderr",
     "output_type": "stream",
     "text": [
      "[I 2024-11-28 23:58:44,961] Trial 14 finished with value: 0.5781869118734675 and parameters: {'learning_rate': 0.20601621078333193, 'reg_lambda': 0.07607296570817236, 'max_depth': 6, 'min_child_weight': 19, 'gamma': 0.6124918093627496, 'reg_alpha': 0.0445271140397353}. Best is trial 6 with value: 0.5844567685373123.\n",
      "[I 2024-11-28 23:58:45,172] Trial 24 finished with value: 0.5692806311449132 and parameters: {'learning_rate': 0.2427358882491222, 'reg_lambda': 0.05799121564382039, 'max_depth': 9, 'min_child_weight': 14, 'gamma': 1.0440756959208048, 'reg_alpha': 2.33314943562282e-08}. Best is trial 6 with value: 0.5844567685373123.\n",
      "[I 2024-11-28 23:58:45,669] Trial 0 finished with value: 0.5729340784538116 and parameters: {'learning_rate': 0.06871093571129425, 'reg_lambda': 1.2294704130024805e-06, 'max_depth': 10, 'min_child_weight': 64, 'gamma': 0.9944366746990579, 'reg_alpha': 3.5683930117532835e-06}. Best is trial 6 with value: 0.5844567685373123.\n"
     ]
    },
    {
     "name": "stdout",
     "output_type": "stream",
     "text": [
      "1\n",
      "1\n",
      "2\n"
     ]
    },
    {
     "name": "stderr",
     "output_type": "stream",
     "text": [
      "[I 2024-11-28 23:58:46,099] Trial 29 finished with value: 0.5753236683561005 and parameters: {'learning_rate': 0.10709704831820736, 'reg_lambda': 6.291391052425472, 'max_depth': 9, 'min_child_weight': 17, 'gamma': 3.201869425918789, 'reg_alpha': 0.03287226385994062}. Best is trial 6 with value: 0.5844567685373123.\n"
     ]
    },
    {
     "name": "stdout",
     "output_type": "stream",
     "text": [
      "1\n",
      "2\n"
     ]
    },
    {
     "name": "stderr",
     "output_type": "stream",
     "text": [
      "[I 2024-11-28 23:58:46,512] Trial 27 finished with value: 0.5780362901800411 and parameters: {'learning_rate': 0.11102256844541983, 'reg_lambda': 0.042760301585961384, 'max_depth': 7, 'min_child_weight': 4, 'gamma': 2.0560446099743817, 'reg_alpha': 1.0727658050167955e-06}. Best is trial 6 with value: 0.5844567685373123.\n",
      "[I 2024-11-28 23:58:46,547] Trial 19 finished with value: 0.5727936462528137 and parameters: {'learning_rate': 0.08969980582237887, 'reg_lambda': 4.5279846236498076e-05, 'max_depth': 9, 'min_child_weight': 72, 'gamma': 0.6572752247307906, 'reg_alpha': 0.00495574113561093}. Best is trial 6 with value: 0.5844567685373123.\n"
     ]
    },
    {
     "name": "stdout",
     "output_type": "stream",
     "text": [
      "1\n",
      "1\n",
      "2\n",
      "1\n"
     ]
    },
    {
     "name": "stderr",
     "output_type": "stream",
     "text": [
      "[I 2024-11-28 23:58:48,266] Trial 30 finished with value: 0.5845352981201597 and parameters: {'learning_rate': 0.038006449276703526, 'reg_lambda': 3.730857020613967e-08, 'max_depth': 7, 'min_child_weight': 43, 'gamma': 2.7017017946650967, 'reg_alpha': 1.132608607328665e-07}. Best is trial 30 with value: 0.5845352981201597.\n"
     ]
    },
    {
     "name": "stdout",
     "output_type": "stream",
     "text": [
      "1\n",
      "2\n",
      "2\n",
      "2\n",
      "2\n"
     ]
    },
    {
     "name": "stderr",
     "output_type": "stream",
     "text": [
      "[I 2024-11-28 23:58:49,614] Trial 31 finished with value: 0.582600539700241 and parameters: {'learning_rate': 0.031117432138994025, 'reg_lambda': 0.0012623068692234193, 'max_depth': 8, 'min_child_weight': 51, 'gamma': 4.5713381432205615, 'reg_alpha': 4.976608697156937}. Best is trial 30 with value: 0.5845352981201597.\n"
     ]
    },
    {
     "name": "stdout",
     "output_type": "stream",
     "text": [
      "1\n",
      "1\n"
     ]
    },
    {
     "name": "stderr",
     "output_type": "stream",
     "text": [
      "[I 2024-11-28 23:58:50,826] Trial 9 finished with value: 0.5721797436993274 and parameters: {'learning_rate': 0.11270025915732353, 'reg_lambda': 2.055855027655459e-07, 'max_depth': 9, 'min_child_weight': 22, 'gamma': 0.140425990888714, 'reg_alpha': 3.3281432734595673}. Best is trial 30 with value: 0.5845352981201597.\n"
     ]
    },
    {
     "name": "stdout",
     "output_type": "stream",
     "text": [
      "2\n",
      "1\n",
      "2\n",
      "2\n",
      "2\n",
      "2\n",
      "2\n",
      "2\n",
      "2\n",
      "2\n",
      "2\n",
      "2\n",
      "2\n",
      "2\n",
      "3\n",
      "3\n",
      "2\n",
      "3\n",
      "3\n",
      "2\n",
      "3\n",
      "2\n",
      "2\n",
      "3\n",
      "3\n",
      "2\n",
      "2\n",
      "2\n",
      "3\n",
      "3\n",
      "2\n",
      "2\n",
      "3\n",
      "2\n",
      "3\n",
      "3\n",
      "3\n",
      "3\n",
      "3\n",
      "3\n",
      "3\n",
      "3\n",
      "3\n",
      "3\n",
      "3\n",
      "3\n",
      "4\n",
      "3\n",
      "3\n",
      "3\n",
      "4\n",
      "4\n",
      "3\n",
      "4\n",
      "3\n",
      "4\n",
      "34\n",
      "\n",
      "4\n",
      "3\n",
      "3\n",
      "4\n",
      "3\n",
      "4\n",
      "4\n",
      "3\n",
      "4\n",
      "4\n",
      "4\n",
      "4\n",
      "4\n",
      "4\n",
      "4\n",
      "4\n",
      "4\n",
      "5\n",
      "4\n",
      "4\n",
      "5\n",
      "5\n",
      "4\n",
      "4\n",
      "4\n",
      "5\n",
      "5\n",
      "5\n",
      "4\n",
      "5\n",
      "4\n",
      "4\n",
      "4\n",
      "4\n",
      "5\n",
      "5\n",
      "4\n",
      "5\n",
      "5\n",
      "4\n",
      "5\n",
      "5\n",
      "5\n",
      "4\n",
      "5\n",
      "5\n",
      "5\n",
      "5\n",
      "5\n"
     ]
    },
    {
     "name": "stderr",
     "output_type": "stream",
     "text": [
      "[I 2024-11-28 23:59:36,432] Trial 38 finished with value: 0.5743625685410877 and parameters: {'learning_rate': 0.10938095313009212, 'reg_lambda': 5.42001534603308e-05, 'max_depth': 5, 'min_child_weight': 40, 'gamma': 4.708097368347596, 'reg_alpha': 0.0015764314524137485}. Best is trial 30 with value: 0.5845352981201597.\n",
      "[I 2024-11-28 23:59:36,504] Trial 32 finished with value: 0.570765290877849 and parameters: {'learning_rate': 0.20457059161823057, 'reg_lambda': 8.132679965697836e-08, 'max_depth': 5, 'min_child_weight': 96, 'gamma': 2.5346601654894214, 'reg_alpha': 6.25508653248756e-08}. Best is trial 30 with value: 0.5845352981201597.\n"
     ]
    },
    {
     "name": "stdout",
     "output_type": "stream",
     "text": [
      "5\n",
      "5\n",
      "1\n",
      "5\n",
      "1\n"
     ]
    },
    {
     "name": "stderr",
     "output_type": "stream",
     "text": [
      "[I 2024-11-28 23:59:37,577] Trial 33 finished with value: 0.5760667340159942 and parameters: {'learning_rate': 0.0785957087007061, 'reg_lambda': 1.7699350654121724e-07, 'max_depth': 6, 'min_child_weight': 27, 'gamma': 4.501648598686268, 'reg_alpha': 4.7439501514399193e-07}. Best is trial 30 with value: 0.5845352981201597.\n"
     ]
    },
    {
     "name": "stdout",
     "output_type": "stream",
     "text": [
      "5\n",
      "5\n",
      "1\n"
     ]
    },
    {
     "name": "stderr",
     "output_type": "stream",
     "text": [
      "[I 2024-11-28 23:59:39,470] Trial 40 finished with value: 0.5750997131088719 and parameters: {'learning_rate': 0.20754829855973111, 'reg_lambda': 0.41618659424443044, 'max_depth': 5, 'min_child_weight': 73, 'gamma': 2.2547991930551086, 'reg_alpha': 4.648468831997787e-07}. Best is trial 30 with value: 0.5845352981201597.\n"
     ]
    },
    {
     "name": "stdout",
     "output_type": "stream",
     "text": [
      "5\n"
     ]
    },
    {
     "name": "stderr",
     "output_type": "stream",
     "text": [
      "[I 2024-11-28 23:59:40,055] Trial 39 finished with value: 0.5704840326517809 and parameters: {'learning_rate': 0.16423069672541546, 'reg_lambda': 0.024169865996374742, 'max_depth': 9, 'min_child_weight': 68, 'gamma': 4.3649435072772205, 'reg_alpha': 1.879988276592932e-05}. Best is trial 30 with value: 0.5845352981201597.\n",
      "[I 2024-11-28 23:59:40,368] Trial 35 finished with value: 0.5715578366020684 and parameters: {'learning_rate': 0.09636700173141823, 'reg_lambda': 0.00618131474825325, 'max_depth': 9, 'min_child_weight': 100, 'gamma': 4.307878191042452, 'reg_alpha': 1.7238087057167792e-06}. Best is trial 30 with value: 0.5845352981201597.\n"
     ]
    },
    {
     "name": "stdout",
     "output_type": "stream",
     "text": [
      "5\n",
      "1\n",
      "1\n",
      "1\n"
     ]
    },
    {
     "name": "stderr",
     "output_type": "stream",
     "text": [
      "[I 2024-11-28 23:59:41,977] Trial 34 finished with value: 0.5754563249776823 and parameters: {'learning_rate': 0.20008617281237828, 'reg_lambda': 0.0011022744521442024, 'max_depth': 10, 'min_child_weight': 69, 'gamma': 0.05347382850996285, 'reg_alpha': 1.165508364154902e-08}. Best is trial 30 with value: 0.5845352981201597.\n"
     ]
    },
    {
     "name": "stdout",
     "output_type": "stream",
     "text": [
      "5\n",
      "15\n",
      "\n"
     ]
    },
    {
     "name": "stderr",
     "output_type": "stream",
     "text": [
      "[I 2024-11-28 23:59:44,025] Trial 52 finished with value: 0.5694270478186995 and parameters: {'learning_rate': 0.12367583397544543, 'reg_lambda': 4.766052653019989e-06, 'max_depth': 6, 'min_child_weight': 33, 'gamma': 4.586070855393596, 'reg_alpha': 0.08046956498505622}. Best is trial 30 with value: 0.5845352981201597.\n",
      "[I 2024-11-28 23:59:44,295] Trial 53 finished with value: 0.5831144681782958 and parameters: {'learning_rate': 0.11938087564646568, 'reg_lambda': 1.2733235476707336e-08, 'max_depth': 6, 'min_child_weight': 35, 'gamma': 4.419792331498365, 'reg_alpha': 0.19285755329892626}. Best is trial 30 with value: 0.5845352981201597.\n"
     ]
    },
    {
     "name": "stdout",
     "output_type": "stream",
     "text": [
      "5\n",
      "1\n"
     ]
    },
    {
     "name": "stderr",
     "output_type": "stream",
     "text": [
      "[I 2024-11-28 23:59:45,504] Trial 36 finished with value: 0.5740350331753865 and parameters: {'learning_rate': 0.23525442164373406, 'reg_lambda': 0.0003578052314003487, 'max_depth': 8, 'min_child_weight': 50, 'gamma': 0.27921467605082406, 'reg_alpha': 3.2601042943980378e-06}. Best is trial 30 with value: 0.5845352981201597.\n"
     ]
    },
    {
     "name": "stdout",
     "output_type": "stream",
     "text": [
      "1\n",
      "5\n",
      "1\n"
     ]
    },
    {
     "name": "stderr",
     "output_type": "stream",
     "text": [
      "[I 2024-11-28 23:59:47,553] Trial 37 finished with value: 0.5744829149573568 and parameters: {'learning_rate': 0.22108315673334292, 'reg_lambda': 0.46077700437174274, 'max_depth': 7, 'min_child_weight': 9, 'gamma': 0.1622176599485875, 'reg_alpha': 0.007216177334439644}. Best is trial 30 with value: 0.5845352981201597.\n",
      "[I 2024-11-28 23:59:47,605] Trial 56 finished with value: 0.5732533211029673 and parameters: {'learning_rate': 0.12217051598321396, 'reg_lambda': 1.3676346006316583e-08, 'max_depth': 5, 'min_child_weight': 35, 'gamma': 4.4620770691560345, 'reg_alpha': 0.10834714322320818}. Best is trial 30 with value: 0.5845352981201597.\n",
      "[I 2024-11-28 23:59:48,345] Trial 48 finished with value: 0.5702966379299662 and parameters: {'learning_rate': 0.11449024265937821, 'reg_lambda': 3.712719168768902e-06, 'max_depth': 6, 'min_child_weight': 34, 'gamma': 1.9538286286400064, 'reg_alpha': 2.1011335904750854e-08}. Best is trial 30 with value: 0.5845352981201597.\n",
      "[I 2024-11-28 23:59:48,513] Trial 57 finished with value: 0.5678377483611817 and parameters: {'learning_rate': 0.12580551919720498, 'reg_lambda': 1.595326534816618e-05, 'max_depth': 5, 'min_child_weight': 37, 'gamma': 4.42122424400762, 'reg_alpha': 0.13911409192541585}. Best is trial 30 with value: 0.5845352981201597.\n"
     ]
    },
    {
     "name": "stdout",
     "output_type": "stream",
     "text": [
      "5\n",
      "5\n",
      "1\n",
      "1\n"
     ]
    },
    {
     "name": "stderr",
     "output_type": "stream",
     "text": [
      "[I 2024-11-28 23:59:49,521] Trial 45 finished with value: 0.580644271153277 and parameters: {'learning_rate': 0.05730966130588675, 'reg_lambda': 17.46091538708644, 'max_depth': 6, 'min_child_weight': 32, 'gamma': 0.06865469891495846, 'reg_alpha': 0.06556944364243365}. Best is trial 30 with value: 0.5845352981201597.\n"
     ]
    },
    {
     "name": "stdout",
     "output_type": "stream",
     "text": [
      "1\n",
      "1\n",
      "1\n"
     ]
    },
    {
     "name": "stderr",
     "output_type": "stream",
     "text": [
      "[I 2024-11-28 23:59:50,978] Trial 54 finished with value: 0.5787305849503577 and parameters: {'learning_rate': 0.10642951744386375, 'reg_lambda': 0.0017091526488468387, 'max_depth': 6, 'min_child_weight': 37, 'gamma': 4.400410150830879, 'reg_alpha': 0.15840586735660575}. Best is trial 30 with value: 0.5845352981201597.\n",
      "[I 2024-11-28 23:59:51,011] Trial 50 finished with value: 0.5764867783163391 and parameters: {'learning_rate': 0.11941931732719041, 'reg_lambda': 0.0017427410399593003, 'max_depth': 6, 'min_child_weight': 34, 'gamma': 1.757291462244923, 'reg_alpha': 2.7298512437947038e-08}. Best is trial 30 with value: 0.5845352981201597.\n",
      "[I 2024-11-28 23:59:51,064] Trial 46 finished with value: 0.5709209888151314 and parameters: {'learning_rate': 0.09625934804656654, 'reg_lambda': 3.7906362353758755e-06, 'max_depth': 7, 'min_child_weight': 31, 'gamma': 1.921858327735428, 'reg_alpha': 0.14388448047118438}. Best is trial 30 with value: 0.5845352981201597.\n",
      "[I 2024-11-28 23:59:51,110] Trial 47 finished with value: 0.5706941640233172 and parameters: {'learning_rate': 0.10372530410595372, 'reg_lambda': 1.1326798402007956e-06, 'max_depth': 7, 'min_child_weight': 36, 'gamma': 1.9973025530193116, 'reg_alpha': 0.24683788020691433}. Best is trial 30 with value: 0.5845352981201597.\n",
      "[I 2024-11-28 23:59:51,339] Trial 51 finished with value: 0.5749790263427643 and parameters: {'learning_rate': 0.11402854449458236, 'reg_lambda': 5.141499726961916e-06, 'max_depth': 6, 'min_child_weight': 33, 'gamma': 1.7260684584217625, 'reg_alpha': 1.730135289839712e-08}. Best is trial 30 with value: 0.5845352981201597.\n",
      "[I 2024-11-28 23:59:51,495] Trial 49 finished with value: 0.5696294991222117 and parameters: {'learning_rate': 0.1184703165203011, 'reg_lambda': 0.0022767530279034134, 'max_depth': 6, 'min_child_weight': 36, 'gamma': 1.7606257181486407, 'reg_alpha': 4.827878229323417e-08}. Best is trial 30 with value: 0.5845352981201597.\n"
     ]
    },
    {
     "name": "stdout",
     "output_type": "stream",
     "text": [
      "1\n",
      "1\n",
      "1\n",
      "2\n",
      "1\n",
      "1\n"
     ]
    },
    {
     "name": "stderr",
     "output_type": "stream",
     "text": [
      "[I 2024-11-28 23:59:52,747] Trial 55 finished with value: 0.5785333909222918 and parameters: {'learning_rate': 0.056178614908259705, 'reg_lambda': 1.0304113286296531e-08, 'max_depth': 5, 'min_child_weight': 38, 'gamma': 4.456689913367186, 'reg_alpha': 0.15245938446015794}. Best is trial 30 with value: 0.5845352981201597.\n"
     ]
    },
    {
     "name": "stdout",
     "output_type": "stream",
     "text": [
      "2\n",
      "1\n",
      "2\n"
     ]
    },
    {
     "name": "stderr",
     "output_type": "stream",
     "text": [
      "[I 2024-11-28 23:59:54,113] Trial 58 finished with value: 0.5734395101939038 and parameters: {'learning_rate': 0.13692290335640436, 'reg_lambda': 0.0019532507590274526, 'max_depth': 5, 'min_child_weight': 37, 'gamma': 0.02863577867991718, 'reg_alpha': 0.1367859416818585}. Best is trial 30 with value: 0.5845352981201597.\n"
     ]
    },
    {
     "name": "stdout",
     "output_type": "stream",
     "text": [
      "2\n",
      "1\n"
     ]
    },
    {
     "name": "stderr",
     "output_type": "stream",
     "text": [
      "[I 2024-11-28 23:59:54,843] Trial 41 finished with value: 0.5820421666550949 and parameters: {'learning_rate': 0.04803652005946864, 'reg_lambda': 1.4372752403501404e-08, 'max_depth': 10, 'min_child_weight': 4, 'gamma': 4.860921011827402, 'reg_alpha': 4.539721133841738e-08}. Best is trial 30 with value: 0.5845352981201597.\n"
     ]
    },
    {
     "name": "stdout",
     "output_type": "stream",
     "text": [
      "1\n"
     ]
    },
    {
     "name": "stderr",
     "output_type": "stream",
     "text": [
      "[I 2024-11-28 23:59:55,846] Trial 59 finished with value: 0.5727661084085255 and parameters: {'learning_rate': 0.05365411874331294, 'reg_lambda': 0.0011313457796967412, 'max_depth': 5, 'min_child_weight': 36, 'gamma': 4.494546184960258, 'reg_alpha': 0.11325306275081712}. Best is trial 30 with value: 0.5845352981201597.\n",
      "[I 2024-11-28 23:59:55,963] Trial 44 finished with value: 0.5745922104267049 and parameters: {'learning_rate': 0.06873272588535477, 'reg_lambda': 9.296370259554868, 'max_depth': 10, 'min_child_weight': 27, 'gamma': 0.07728116609498681, 'reg_alpha': 0.08026003145689822}. Best is trial 30 with value: 0.5845352981201597.\n"
     ]
    },
    {
     "name": "stdout",
     "output_type": "stream",
     "text": [
      "2\n",
      "1\n",
      "2\n"
     ]
    },
    {
     "name": "stderr",
     "output_type": "stream",
     "text": [
      "[I 2024-11-28 23:59:56,637] Trial 60 finished with value: 0.591339204132055 and parameters: {'learning_rate': 0.010040854197939122, 'reg_lambda': 0.001039362725961027, 'max_depth': 5, 'min_child_weight': 38, 'gamma': 0.10298470800935, 'reg_alpha': 0.23645888100740045}. Best is trial 60 with value: 0.591339204132055.\n"
     ]
    },
    {
     "name": "stdout",
     "output_type": "stream",
     "text": [
      "11\n",
      "\n",
      "2\n",
      "1\n"
     ]
    },
    {
     "name": "stderr",
     "output_type": "stream",
     "text": [
      "[I 2024-11-28 23:59:58,344] Trial 61 finished with value: 0.5852176392199174 and parameters: {'learning_rate': 0.016167701450288025, 'reg_lambda': 1.8769714675118575e-08, 'max_depth': 6, 'min_child_weight': 37, 'gamma': 2.930836311803767, 'reg_alpha': 0.20832161674630137}. Best is trial 60 with value: 0.591339204132055.\n"
     ]
    },
    {
     "name": "stdout",
     "output_type": "stream",
     "text": [
      "2\n",
      "2\n",
      "1\n",
      "2\n"
     ]
    },
    {
     "name": "stderr",
     "output_type": "stream",
     "text": [
      "[I 2024-11-29 00:00:00,613] Trial 62 finished with value: 0.5852009111000318 and parameters: {'learning_rate': 0.016080181668624748, 'reg_lambda': 0.0009996306239179712, 'max_depth': 6, 'min_child_weight': 36, 'gamma': 0.031798044387430835, 'reg_alpha': 0.15813461819096034}. Best is trial 60 with value: 0.591339204132055.\n"
     ]
    },
    {
     "name": "stdout",
     "output_type": "stream",
     "text": [
      "1\n"
     ]
    },
    {
     "name": "stderr",
     "output_type": "stream",
     "text": [
      "[I 2024-11-29 00:00:01,941] Trial 63 finished with value: 0.5881740204806685 and parameters: {'learning_rate': 0.012600906139108928, 'reg_lambda': 2.059442163737419e-08, 'max_depth': 6, 'min_child_weight': 36, 'gamma': 4.2066274683044576, 'reg_alpha': 1.64507615711126e-05}. Best is trial 60 with value: 0.591339204132055.\n"
     ]
    },
    {
     "name": "stdout",
     "output_type": "stream",
     "text": [
      "2\n",
      "2\n",
      "2\n",
      "1\n",
      "2\n"
     ]
    },
    {
     "name": "stderr",
     "output_type": "stream",
     "text": [
      "[I 2024-11-29 00:00:03,099] Trial 43 finished with value: 0.6003022091026592 and parameters: {'learning_rate': 0.011393796858988637, 'reg_lambda': 13.780648264288043, 'max_depth': 10, 'min_child_weight': 2, 'gamma': 1.9085900655505168, 'reg_alpha': 9.405405786228064}. Best is trial 43 with value: 0.6003022091026592.\n"
     ]
    },
    {
     "name": "stdout",
     "output_type": "stream",
     "text": [
      "1\n",
      "2\n",
      "2\n",
      "2\n",
      "2\n",
      "2\n",
      "2\n",
      "3\n",
      "2\n",
      "2\n",
      "3\n",
      "3\n",
      "3\n"
     ]
    },
    {
     "name": "stderr",
     "output_type": "stream",
     "text": [
      "[I 2024-11-29 00:00:07,212] Trial 42 finished with value: 0.5839555824967311 and parameters: {'learning_rate': 0.018664770237276612, 'reg_lambda': 2.072398125632278, 'max_depth': 10, 'min_child_weight': 7, 'gamma': 1.7532361118701258, 'reg_alpha': 1.4776585822231201e-08}. Best is trial 43 with value: 0.6003022091026592.\n"
     ]
    },
    {
     "name": "stdout",
     "output_type": "stream",
     "text": [
      "2\n",
      "1\n",
      "3\n",
      "3\n",
      "2\n",
      "3\n",
      "2\n",
      "2\n",
      "2\n",
      "2\n",
      "3\n",
      "3\n",
      "3\n",
      "3\n",
      "2\n",
      "3\n",
      "3\n",
      "3\n",
      "2\n",
      "3\n",
      "3\n",
      "3\n",
      "2\n",
      "3\n",
      "3\n",
      "3\n",
      "3\n",
      "3\n",
      "3\n",
      "4\n",
      "4\n",
      "2\n",
      "4\n",
      "4\n",
      "3\n",
      "3\n",
      "3\n",
      "4\n",
      "3\n",
      "4\n",
      "3\n",
      "4\n",
      "4\n",
      "3\n",
      "4\n",
      "4\n",
      "4\n",
      "4\n",
      "3\n",
      "4\n",
      "43\n",
      "\n",
      "44\n",
      "\n",
      "4\n",
      "4\n",
      "4\n",
      "4\n",
      "4\n",
      "4\n",
      "4\n",
      "3\n",
      "5\n",
      "54\n",
      "\n",
      "5\n",
      "5\n",
      "4\n",
      "5\n",
      "5\n",
      "5\n",
      "4\n",
      "4\n",
      "5\n",
      "4\n",
      "5\n",
      "5\n",
      "4\n",
      "5\n",
      "5\n",
      "5\n",
      "4\n",
      "5\n",
      "5\n",
      "4\n",
      "5\n",
      "5\n",
      "5\n",
      "5\n",
      "5\n",
      "5\n",
      "5\n",
      "4\n",
      "5\n",
      "5\n"
     ]
    },
    {
     "name": "stderr",
     "output_type": "stream",
     "text": [
      "[I 2024-11-29 00:00:45,141] Trial 67 finished with value: 0.5845540834553823 and parameters: {'learning_rate': 0.024341314636761473, 'reg_lambda': 6.764923954767957e-06, 'max_depth': 7, 'min_child_weight': 54, 'gamma': 2.915400558741595, 'reg_alpha': 0.1790022412676246}. Best is trial 43 with value: 0.6003022091026592.\n"
     ]
    },
    {
     "name": "stdout",
     "output_type": "stream",
     "text": [
      "1\n",
      "5\n"
     ]
    },
    {
     "name": "stderr",
     "output_type": "stream",
     "text": [
      "[I 2024-11-29 00:00:46,812] Trial 64 finished with value: 0.5896325062592385 and parameters: {'learning_rate': 0.013704614520578428, 'reg_lambda': 1.5072224807388142e-08, 'max_depth': 7, 'min_child_weight': 54, 'gamma': 2.971740384912976, 'reg_alpha': 0.2989116901699473}. Best is trial 43 with value: 0.6003022091026592.\n",
      "[I 2024-11-29 00:00:47,059] Trial 66 finished with value: 0.5818948862142066 and parameters: {'learning_rate': 0.02289054397342731, 'reg_lambda': 1.2005681783604929e-08, 'max_depth': 7, 'min_child_weight': 54, 'gamma': 2.920584115809931, 'reg_alpha': 0.17316874171377863}. Best is trial 43 with value: 0.6003022091026592.\n"
     ]
    },
    {
     "name": "stdout",
     "output_type": "stream",
     "text": [
      "5\n",
      "1\n",
      "1\n"
     ]
    },
    {
     "name": "stderr",
     "output_type": "stream",
     "text": [
      "[I 2024-11-29 00:00:48,839] Trial 65 finished with value: 0.5897207672351186 and parameters: {'learning_rate': 0.018902811331498702, 'reg_lambda': 1.2529284896739182e-08, 'max_depth': 7, 'min_child_weight': 32, 'gamma': 4.259195967898636, 'reg_alpha': 0.26046632074502746}. Best is trial 43 with value: 0.6003022091026592.\n",
      "[I 2024-11-29 00:00:48,889] Trial 75 finished with value: 0.582062887287496 and parameters: {'learning_rate': 0.039112550426169825, 'reg_lambda': 1.337105809385583e-08, 'max_depth': 4, 'min_child_weight': 57, 'gamma': 3.9661661386887914, 'reg_alpha': 21.963415392746892}. Best is trial 43 with value: 0.6003022091026592.\n",
      "[I 2024-11-29 00:00:49,385] Trial 68 finished with value: 0.5822746537367142 and parameters: {'learning_rate': 0.023425709955040896, 'reg_lambda': 0.001081021959268338, 'max_depth': 7, 'min_child_weight': 53, 'gamma': 2.8014714173571216, 'reg_alpha': 0.15414985891217148}. Best is trial 43 with value: 0.6003022091026592.\n",
      "[I 2024-11-29 00:00:49,519] Trial 70 finished with value: 0.5862952146549116 and parameters: {'learning_rate': 0.025201047538597116, 'reg_lambda': 1.6271929933895017e-08, 'max_depth': 7, 'min_child_weight': 51, 'gamma': 3.8698902283300725, 'reg_alpha': 20.32912470203981}. Best is trial 43 with value: 0.6003022091026592.\n"
     ]
    },
    {
     "name": "stdout",
     "output_type": "stream",
     "text": [
      "5\n"
     ]
    },
    {
     "name": "stderr",
     "output_type": "stream",
     "text": [
      "[I 2024-11-29 00:00:49,601] Trial 69 finished with value: 0.5844397510137448 and parameters: {'learning_rate': 0.02410544293648237, 'reg_lambda': 0.0010251275382694345, 'max_depth': 7, 'min_child_weight': 54, 'gamma': 2.8872472997209657, 'reg_alpha': 0.13210187518576985}. Best is trial 43 with value: 0.6003022091026592.\n"
     ]
    },
    {
     "name": "stdout",
     "output_type": "stream",
     "text": [
      "5\n",
      "5\n"
     ]
    },
    {
     "name": "stderr",
     "output_type": "stream",
     "text": [
      "[I 2024-11-29 00:00:50,188] Trial 77 finished with value: 0.5815307258164683 and parameters: {'learning_rate': 0.04273087719921862, 'reg_lambda': 1.1126408497552043e-08, 'max_depth': 4, 'min_child_weight': 54, 'gamma': 3.869625690014195, 'reg_alpha': 19.934133519746634}. Best is trial 43 with value: 0.6003022091026592.\n"
     ]
    },
    {
     "name": "stdout",
     "output_type": "stream",
     "text": [
      "1\n",
      "5\n"
     ]
    },
    {
     "name": "stderr",
     "output_type": "stream",
     "text": [
      "[I 2024-11-29 00:00:50,752] Trial 71 finished with value: 0.5850467933835822 and parameters: {'learning_rate': 0.03459372912411479, 'reg_lambda': 1.5984328873571388e-08, 'max_depth': 7, 'min_child_weight': 53, 'gamma': 2.873286746686914, 'reg_alpha': 19.735758251420428}. Best is trial 43 with value: 0.6003022091026592.\n",
      "[I 2024-11-29 00:00:51,306] Trial 76 finished with value: 0.5759165898498038 and parameters: {'learning_rate': 0.04257084643316336, 'reg_lambda': 1.1163738292021993e-08, 'max_depth': 4, 'min_child_weight': 55, 'gamma': 2.905280987089956, 'reg_alpha': 0.22819430502218582}. Best is trial 43 with value: 0.6003022091026592.\n"
     ]
    },
    {
     "name": "stdout",
     "output_type": "stream",
     "text": [
      "5\n"
     ]
    },
    {
     "name": "stderr",
     "output_type": "stream",
     "text": [
      "[I 2024-11-29 00:00:52,198] Trial 80 finished with value: 0.5773350116698348 and parameters: {'learning_rate': 0.03693864731686119, 'reg_lambda': 1.2707677547303257e-08, 'max_depth': 4, 'min_child_weight': 45, 'gamma': 3.9419185217961368, 'reg_alpha': 3.5313160289491283}. Best is trial 43 with value: 0.6003022091026592.\n",
      "[I 2024-11-29 00:00:52,219] Trial 72 finished with value: 0.5809025529851225 and parameters: {'learning_rate': 0.036375504013527994, 'reg_lambda': 1.913124710849447e-08, 'max_depth': 7, 'min_child_weight': 53, 'gamma': 3.9584042856564507, 'reg_alpha': 0.21536421269085634}. Best is trial 43 with value: 0.6003022091026592.\n",
      "[I 2024-11-29 00:00:52,264] Trial 81 finished with value: 0.5808183720549146 and parameters: {'learning_rate': 0.03435088497666551, 'reg_lambda': 23.83019468831609, 'max_depth': 4, 'min_child_weight': 56, 'gamma': 3.8726301029938, 'reg_alpha': 19.12657607445737}. Best is trial 43 with value: 0.6003022091026592.\n",
      "[I 2024-11-29 00:00:52,323] Trial 73 finished with value: 0.5824567527894 and parameters: {'learning_rate': 0.03392103450068962, 'reg_lambda': 1.4530096479063171e-08, 'max_depth': 7, 'min_child_weight': 55, 'gamma': 3.9095562694934767, 'reg_alpha': 0.19426139351649419}. Best is trial 43 with value: 0.6003022091026592.\n",
      "[I 2024-11-29 00:00:52,725] Trial 79 finished with value: 0.5782310033130931 and parameters: {'learning_rate': 0.032078268902112496, 'reg_lambda': 1.0407591324254699e-08, 'max_depth': 4, 'min_child_weight': 45, 'gamma': 3.9385147340640763, 'reg_alpha': 7.8206231852947194}. Best is trial 43 with value: 0.6003022091026592.\n",
      "[I 2024-11-29 00:00:52,904] Trial 86 finished with value: 0.577707237025001 and parameters: {'learning_rate': 0.03724867523016269, 'reg_lambda': 2.527613789099761e-08, 'max_depth': 4, 'min_child_weight': 54, 'gamma': 4.013204077027693, 'reg_alpha': 4.478516972424837}. Best is trial 43 with value: 0.6003022091026592.\n",
      "[I 2024-11-29 00:00:53,290] Trial 82 finished with value: 0.5766033088888687 and parameters: {'learning_rate': 0.041058075285026925, 'reg_lambda': 2.2120492883981928e-08, 'max_depth': 4, 'min_child_weight': 55, 'gamma': 3.910827501551091, 'reg_alpha': 5.118477211698608}. Best is trial 43 with value: 0.6003022091026592.\n",
      "[I 2024-11-29 00:00:53,340] Trial 83 finished with value: 0.5784939146580861 and parameters: {'learning_rate': 0.04038286711061406, 'reg_lambda': 1.6073719831175823e-05, 'max_depth': 4, 'min_child_weight': 55, 'gamma': 3.95315435450858, 'reg_alpha': 6.845254197416717}. Best is trial 43 with value: 0.6003022091026592.\n",
      "[I 2024-11-29 00:00:53,348] Trial 84 finished with value: 0.5817529939171149 and parameters: {'learning_rate': 0.038762775960835466, 'reg_lambda': 1.597031168513165e-08, 'max_depth': 4, 'min_child_weight': 55, 'gamma': 3.9936138049034753, 'reg_alpha': 20.55203584216864}. Best is trial 43 with value: 0.6003022091026592.\n",
      "[I 2024-11-29 00:00:53,369] Trial 85 finished with value: 0.5757976944560494 and parameters: {'learning_rate': 0.0370676073583428, 'reg_lambda': 2.4985898642975114e-08, 'max_depth': 4, 'min_child_weight': 54, 'gamma': 3.940734412741734, 'reg_alpha': 4.970263835646947}. Best is trial 43 with value: 0.6003022091026592.\n"
     ]
    },
    {
     "name": "stdout",
     "output_type": "stream",
     "text": [
      "5\n"
     ]
    },
    {
     "name": "stderr",
     "output_type": "stream",
     "text": [
      "[I 2024-11-29 00:00:54,378] Trial 74 finished with value: 0.5786346520634524 and parameters: {'learning_rate': 0.039811778361495964, 'reg_lambda': 1.5919248761043802e-08, 'max_depth': 7, 'min_child_weight': 54, 'gamma': 3.9366595779751847, 'reg_alpha': 0.2617566793670268}. Best is trial 43 with value: 0.6003022091026592.\n",
      "[I 2024-11-29 00:00:54,415] Trial 90 finished with value: 0.5944967534921419 and parameters: {'learning_rate': 0.010569991860722881, 'reg_lambda': 5.350996415109115e-08, 'max_depth': 4, 'min_child_weight': 44, 'gamma': 3.977377351731355, 'reg_alpha': 22.395128271897526}. Best is trial 43 with value: 0.6003022091026592.\n",
      "[I 2024-11-29 00:00:55,217] Trial 78 finished with value: 0.5818321021492717 and parameters: {'learning_rate': 0.03619959591315318, 'reg_lambda': 1.0072518625095881e-08, 'max_depth': 7, 'min_child_weight': 44, 'gamma': 3.9729599558939706, 'reg_alpha': 10.707658337042519}. Best is trial 43 with value: 0.6003022091026592.\n",
      "[I 2024-11-29 00:00:55,249] Trial 91 finished with value: 0.5861199636309347 and parameters: {'learning_rate': 0.02031800849621284, 'reg_lambda': 5.0326380788909386e-08, 'max_depth': 4, 'min_child_weight': 54, 'gamma': 2.8274678282010783, 'reg_alpha': 16.505174856883638}. Best is trial 43 with value: 0.6003022091026592.\n"
     ]
    },
    {
     "name": "stdout",
     "output_type": "stream",
     "text": [
      "2\n",
      "2\n",
      "2\n"
     ]
    },
    {
     "name": "stderr",
     "output_type": "stream",
     "text": [
      "[I 2024-11-29 00:00:56,132] Trial 92 finished with value: 0.5896954946787668 and parameters: {'learning_rate': 0.013657401673506854, 'reg_lambda': 3.185580418337128e-08, 'max_depth': 4, 'min_child_weight': 44, 'gamma': 2.8731802163488718, 'reg_alpha': 19.281056293008866}. Best is trial 43 with value: 0.6003022091026592.\n",
      "[I 2024-11-29 00:00:56,583] Trial 93 finished with value: 0.5843346048859165 and parameters: {'learning_rate': 0.0187571976339434, 'reg_lambda': 2.796291665524092e-08, 'max_depth': 4, 'min_child_weight': 45, 'gamma': 3.9047988967282454, 'reg_alpha': 17.45497222388049}. Best is trial 43 with value: 0.6003022091026592.\n",
      "[I 2024-11-29 00:00:56,640] Trial 89 finished with value: 0.5877884250231897 and parameters: {'learning_rate': 0.02186817405267322, 'reg_lambda': 2.114338844553229e-08, 'max_depth': 7, 'min_child_weight': 45, 'gamma': 3.958943476464215, 'reg_alpha': 17.388915492535155}. Best is trial 43 with value: 0.6003022091026592.\n"
     ]
    },
    {
     "name": "stdout",
     "output_type": "stream",
     "text": [
      "2\n"
     ]
    },
    {
     "name": "stderr",
     "output_type": "stream",
     "text": [
      "[I 2024-11-29 00:00:56,914] Trial 94 finished with value: 0.5896982960070518 and parameters: {'learning_rate': 0.010817456736530633, 'reg_lambda': 3.4490404927326114e-07, 'max_depth': 4, 'min_child_weight': 44, 'gamma': 2.845064616143291, 'reg_alpha': 0.7540444483664868}. Best is trial 43 with value: 0.6003022091026592.\n",
      "[I 2024-11-29 00:00:56,923] Trial 87 finished with value: 0.5786199287309459 and parameters: {'learning_rate': 0.038494984696036114, 'reg_lambda': 3.734644124731919e-08, 'max_depth': 10, 'min_child_weight': 55, 'gamma': 4.0611042578873695, 'reg_alpha': 11.10846078936261}. Best is trial 43 with value: 0.6003022091026592.\n",
      "[I 2024-11-29 00:00:57,180] Trial 88 finished with value: 0.5907138065906599 and parameters: {'learning_rate': 0.01619678909928338, 'reg_lambda': 3.367288285275841e-08, 'max_depth': 7, 'min_child_weight': 56, 'gamma': 3.9671885285008335, 'reg_alpha': 8.803831467937686}. Best is trial 43 with value: 0.6003022091026592.\n",
      "[I 2024-11-29 00:00:57,375] Trial 95 finished with value: 0.5833290318530028 and parameters: {'learning_rate': 0.027650163348456103, 'reg_lambda': 4.212021461713879e-08, 'max_depth': 4, 'min_child_weight': 42, 'gamma': 2.8341723897163886, 'reg_alpha': 19.658195288735836}. Best is trial 43 with value: 0.6003022091026592.\n"
     ]
    },
    {
     "name": "stdout",
     "output_type": "stream",
     "text": [
      "3\n",
      "3\n",
      "3\n",
      "3\n",
      "4\n",
      "4\n",
      "4\n",
      "4\n",
      "5\n",
      "5\n",
      "5\n",
      "5\n"
     ]
    },
    {
     "name": "stderr",
     "output_type": "stream",
     "text": [
      "[I 2024-11-29 00:01:01,696] Trial 96 finished with value: 0.5793415639059509 and parameters: {'learning_rate': 0.03546117046041376, 'reg_lambda': 3.387722715235004e-08, 'max_depth': 4, 'min_child_weight': 44, 'gamma': 2.88652380508637, 'reg_alpha': 19.034046646885827}. Best is trial 43 with value: 0.6003022091026592.\n",
      "[I 2024-11-29 00:01:01,797] Trial 97 finished with value: 0.5838345574896564 and parameters: {'learning_rate': 0.0266236270315639, 'reg_lambda': 1.1948410467316698e-05, 'max_depth': 4, 'min_child_weight': 56, 'gamma': 2.979851847927751, 'reg_alpha': 16.69728513359419}. Best is trial 43 with value: 0.6003022091026592.\n",
      "[I 2024-11-29 00:01:01,882] Trial 98 finished with value: 0.5842074465519808 and parameters: {'learning_rate': 0.03198624431011174, 'reg_lambda': 4.397316661102563e-07, 'max_depth': 4, 'min_child_weight': 45, 'gamma': 3.0543210471826017, 'reg_alpha': 24.400002271570536}. Best is trial 43 with value: 0.6003022091026592.\n",
      "[I 2024-11-29 00:01:01,958] Trial 99 finished with value: 0.5953654909928507 and parameters: {'learning_rate': 0.011128674981829768, 'reg_lambda': 3.2576732143302683e-08, 'max_depth': 4, 'min_child_weight': 44, 'gamma': 3.906384039635792, 'reg_alpha': 19.8719289247868}. Best is trial 43 with value: 0.6003022091026592.\n"
     ]
    }
   ],
   "source": [
    "# XGB PARAMETERTUNING\n",
    "bestparams_Qunfam_xgb = functions.parametertuner(model_type = 'xgb', train = data_Questions_unfam, feature_lists = Qunfam_features, train_name = 'Q_unfam', trials = 100, jobs = 32)"
   ]
  },
  {
   "cell_type": "code",
   "execution_count": 21,
   "metadata": {},
   "outputs": [],
   "source": [
    "Qfam_training_xgb = functions.modeltraining(data_Questions_unfam,\n",
    "             Qunfam_features,\n",
    "             bestparams_Qunfam_xgb,\n",
    "             'xgb',\n",
    "             'Qunfam',\n",
    "             save = True)"
   ]
  },
  {
   "cell_type": "code",
   "execution_count": 8,
   "metadata": {},
   "outputs": [],
   "source": [
    "Qunfam_qunfam_20_test_xgb = functions.modeltesting2(\n",
    "             Qunfam_features,\n",
    "             Qunfam_Qunfam_20,\n",
    "             'xgb',\n",
    "             save = True,\n",
    "             test_name = \"Qunfam_Qunfam_20\",\n",
    "             train_name = 'Qunfam')\n",
    "\n",
    "Qunfam_Qfam_80_test_xgb = functions.modeltesting2(\n",
    "             Qunfam_features,\n",
    "             Qunfam_Qfam_80,\n",
    "             'xgb',\n",
    "             save = True,\n",
    "             test_name = \"Qunfam_Qfam_80\",\n",
    "             train_name = 'Qunfam')\n",
    "\n",
    "Qunfam_Q_fam_20_test_xgb = functions.modeltesting2(\n",
    "             Qunfam_features,\n",
    "             Qunfam_Qfam_20,\n",
    "             'xgb',\n",
    "             save = True,\n",
    "             test_name = \"Qunfam_Qfam_20\",\n",
    "             train_name = 'Qunfam')"
   ]
  },
  {
   "cell_type": "markdown",
   "metadata": {},
   "source": [
    "## Q unfam - svm"
   ]
  },
  {
   "cell_type": "code",
   "execution_count": null,
   "metadata": {},
   "outputs": [
    {
     "name": "stderr",
     "output_type": "stream",
     "text": [
      "[I 2024-11-29 08:43:06,100] A new study created in memory with name: no-name-9cd45776-28aa-47b6-bc3b-b164dcab3d3d\n"
     ]
    },
    {
     "name": "stdout",
     "output_type": "stream",
     "text": [
      "1\n",
      "1\n",
      "1\n",
      "1\n",
      "1\n",
      "1\n",
      "1\n",
      "1\n",
      "1\n",
      "1\n",
      "1\n",
      "1\n",
      "1\n",
      "1\n",
      "1\n",
      "1\n",
      "1\n",
      "1\n",
      "1\n",
      "1\n",
      "1\n",
      "1\n",
      "1\n",
      "1\n",
      "1\n",
      "1\n",
      "1\n",
      "1\n",
      "1\n",
      "1\n",
      "11\n",
      "\n",
      "2\n",
      "2\n",
      "2\n",
      "2\n",
      "2\n",
      "2\n",
      "2\n",
      "2\n",
      "2\n",
      "3\n",
      "2\n",
      "2\n",
      "2\n",
      "2\n",
      "2\n",
      "2\n",
      "2\n",
      "2\n",
      "2\n",
      "2\n",
      "2\n",
      "2\n",
      "2\n",
      "2\n",
      "2\n",
      "2\n",
      "2\n",
      "2\n",
      "2\n",
      "2\n",
      "2\n",
      "2\n",
      "2\n",
      "3\n",
      "3\n",
      "3\n",
      "3\n",
      "3\n",
      "3\n",
      "3\n",
      "3\n",
      "3\n",
      "3\n",
      "4\n",
      "3\n",
      "3\n",
      "3\n",
      "3\n",
      "3\n",
      "3\n",
      "3\n",
      "3\n",
      "3\n",
      "3\n",
      "3\n",
      "3\n",
      "3\n",
      "3\n",
      "3\n",
      "3\n",
      "3\n",
      "3\n",
      "3\n",
      "3\n",
      "3\n",
      "4\n",
      "5\n",
      "4\n",
      "4\n",
      "4\n",
      "4\n",
      "4\n",
      "4\n",
      "4\n",
      "4\n",
      "4\n",
      "4\n",
      "4\n",
      "4\n",
      "4\n",
      "4\n",
      "4\n",
      "4\n",
      "4\n",
      "4\n",
      "4\n",
      "4\n",
      "4\n",
      "4\n",
      "4\n"
     ]
    },
    {
     "name": "stderr",
     "output_type": "stream",
     "text": [
      "[I 2024-11-29 08:44:05,996] Trial 24 finished with value: 0.56981810572082 and parameters: {'C': 99.32201207660607, 'gamma': 0.3009044000247068}. Best is trial 24 with value: 0.56981810572082.\n"
     ]
    },
    {
     "name": "stdout",
     "output_type": "stream",
     "text": [
      "5\n",
      "1\n",
      "4\n",
      "4\n",
      "4\n",
      "4\n",
      "5\n",
      "4\n",
      "4\n",
      "4\n",
      "5\n",
      "5\n",
      "5\n",
      "5\n",
      "5\n"
     ]
    }
   ],
   "source": [
    "# SVM PARAMETERTUNING\n",
    "bestparams_Qunfam_svm = functions.parametertuner(model_type = 'svm', train = data_Questions_unfam, feature_lists = Qunfam_features, train_name = 'Q_unfam', trials = 100, jobs = 32)"
   ]
  },
  {
   "cell_type": "code",
   "execution_count": null,
   "metadata": {},
   "outputs": [],
   "source": [
    "\n",
    "Qunfam_training_svm = functions.modeltraining(data_Questions_unfam,\n",
    "             Qunfam_features,\n",
    "             bestparams_Qunfam_svm,\n",
    "             'svm',\n",
    "             'Qunfam',\n",
    "             save = True)"
   ]
  },
  {
   "cell_type": "code",
   "execution_count": null,
   "metadata": {},
   "outputs": [],
   "source": [
    "Qunfam_Qunfam_20_test_svm = functions.modeltesting2(\n",
    "             Qunfam_features,\n",
    "             Qunfam_Qunfam_20,\n",
    "             'svm',\n",
    "             save = True,\n",
    "             test_name = \"Qunfam_Qunfam_20\",\n",
    "             train_name = 'Qunfam')"
   ]
  },
  {
   "cell_type": "code",
   "execution_count": null,
   "metadata": {},
   "outputs": [
    {
     "ename": "NameError",
     "evalue": "name 'Qunfam_features' is not defined",
     "output_type": "error",
     "traceback": [
      "\u001b[0;31m---------------------------------------------------------------------------\u001b[0m",
      "\u001b[0;31mNameError\u001b[0m                                 Traceback (most recent call last)",
      "Cell \u001b[0;32mIn[3], line 2\u001b[0m\n\u001b[1;32m      1\u001b[0m Qunfam_Qfam_20_test_svm \u001b[38;5;241m=\u001b[39m functions\u001b[38;5;241m.\u001b[39mmodeltesting2(\n\u001b[0;32m----> 2\u001b[0m              \u001b[43mQunfam_features\u001b[49m,\n\u001b[1;32m      3\u001b[0m              Qunfam_Qfam_20,\n\u001b[1;32m      4\u001b[0m              \u001b[38;5;124m'\u001b[39m\u001b[38;5;124msvm\u001b[39m\u001b[38;5;124m'\u001b[39m,\n\u001b[1;32m      5\u001b[0m              save \u001b[38;5;241m=\u001b[39m \u001b[38;5;28;01mTrue\u001b[39;00m,\n\u001b[1;32m      6\u001b[0m              test_name \u001b[38;5;241m=\u001b[39m \u001b[38;5;124m\"\u001b[39m\u001b[38;5;124mQunfam_Qfam_20\u001b[39m\u001b[38;5;124m\"\u001b[39m,\n\u001b[1;32m      7\u001b[0m              train_name \u001b[38;5;241m=\u001b[39m \u001b[38;5;124m'\u001b[39m\u001b[38;5;124mQunfam\u001b[39m\u001b[38;5;124m'\u001b[39m)\n\u001b[1;32m      9\u001b[0m Qunfam_Qfam_80_test_svm \u001b[38;5;241m=\u001b[39m functions\u001b[38;5;241m.\u001b[39mmodeltesting2(\n\u001b[1;32m     10\u001b[0m              Qunfam_features,\n\u001b[1;32m     11\u001b[0m              Qunfam_Qfam_80,\n\u001b[0;32m   (...)\u001b[0m\n\u001b[1;32m     14\u001b[0m              test_name \u001b[38;5;241m=\u001b[39m \u001b[38;5;124m\"\u001b[39m\u001b[38;5;124mQunfam_Qfam_80\u001b[39m\u001b[38;5;124m\"\u001b[39m,\n\u001b[1;32m     15\u001b[0m              train_name \u001b[38;5;241m=\u001b[39m \u001b[38;5;124m'\u001b[39m\u001b[38;5;124mQunfam\u001b[39m\u001b[38;5;124m'\u001b[39m)\n",
      "\u001b[0;31mNameError\u001b[0m: name 'Qunfam_features' is not defined"
     ]
    }
   ],
   "source": [
    "Qunfam_Qfam_20_test_svm = functions.modeltesting2(\n",
    "             Qunfam_features,\n",
    "             Qunfam_Qfam_20,\n",
    "             'svm',\n",
    "             save = True,\n",
    "             test_name = \"Qunfam_Qfam_20\",\n",
    "             train_name = 'Qunfam')\n",
    "\n",
    "Qunfam_Qfam_80_test_svm = functions.modeltesting2(\n",
    "             Qunfam_features,\n",
    "             Qunfam_Qfam_80,\n",
    "             'svm',\n",
    "             save = True,\n",
    "             test_name = \"Qunfam_Qfam_80\",\n",
    "             train_name = 'Qunfam')"
   ]
  },
  {
   "cell_type": "markdown",
   "metadata": {},
   "source": [
    "# extracting model performance across test set and visualizing them"
   ]
  },
  {
   "cell_type": "code",
   "execution_count": null,
   "metadata": {},
   "outputs": [],
   "source": [
    "# MatchingGame\n",
    "plot_values = functions.plot_estimates('MatchingGame', ['MG_MG_20', 'MG_Qfam_80', 'MG_Qfam_20'])\n",
    "functions.plot_results('MatchingGame', plot_values)\n"
   ]
  },
  {
   "cell_type": "code",
   "execution_count": null,
   "metadata": {},
   "outputs": [],
   "source": [
    "# Qfam\n",
    "plot_values = functions.plot_estimates('Qfam', ['Qfam_Qfam_20', 'Qfam_MG_80', 'Qfam_MG_20', 'Qfam_Qunfam_80', 'Qfam_Qunfam_20'])\n",
    "functions.plot_results('Qfam', plot_values)"
   ]
  },
  {
   "cell_type": "code",
   "execution_count": null,
   "metadata": {},
   "outputs": [],
   "source": [
    "# Qunfam\n",
    "plot_values = functions.plot_estimates('Qunfam', ['Qunfam_Qunfam_20', 'Qunfam_Qfam_80', 'Qunfam_Qfam_20'])\n",
    "functions.plot_results('Qunfam', plot_values)"
   ]
  }
 ],
 "metadata": {
  "kernelspec": {
   "display_name": "Python 3",
   "language": "python",
   "name": "python3"
  },
  "language_info": {
   "codemirror_mode": {
    "name": "ipython",
    "version": 3
   },
   "file_extension": ".py",
   "mimetype": "text/x-python",
   "name": "python",
   "nbconvert_exporter": "python",
   "pygments_lexer": "ipython3",
   "version": "3.12.3"
  }
 },
 "nbformat": 4,
 "nbformat_minor": 2
}
